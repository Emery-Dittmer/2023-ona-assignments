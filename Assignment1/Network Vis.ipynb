{
 "cells": [
  {
   "cell_type": "code",
   "execution_count": 29,
   "id": "73c06e0f",
   "metadata": {},
   "outputs": [
    {
     "data": {
      "text/html": [
       "<div>\n",
       "<style scoped>\n",
       "    .dataframe tbody tr th:only-of-type {\n",
       "        vertical-align: middle;\n",
       "    }\n",
       "\n",
       "    .dataframe tbody tr th {\n",
       "        vertical-align: top;\n",
       "    }\n",
       "\n",
       "    .dataframe thead th {\n",
       "        text-align: right;\n",
       "    }\n",
       "</style>\n",
       "<table border=\"1\" class=\"dataframe\">\n",
       "  <thead>\n",
       "    <tr style=\"text-align: right;\">\n",
       "      <th></th>\n",
       "      <th>First Name</th>\n",
       "      <th>Last Name</th>\n",
       "      <th>Email Address</th>\n",
       "      <th>Company</th>\n",
       "      <th>Position</th>\n",
       "      <th>Connected On</th>\n",
       "    </tr>\n",
       "  </thead>\n",
       "  <tbody>\n",
       "    <tr>\n",
       "      <th>0</th>\n",
       "      <td>Daniel</td>\n",
       "      <td>Heuman</td>\n",
       "      <td>NaN</td>\n",
       "      <td>Environics Analytics</td>\n",
       "      <td>Chief Analytics Officer</td>\n",
       "      <td>09 Mar 2023</td>\n",
       "    </tr>\n",
       "    <tr>\n",
       "      <th>1</th>\n",
       "      <td>Pearl</td>\n",
       "      <td>Juneja</td>\n",
       "      <td>NaN</td>\n",
       "      <td>United Nations Columbia University</td>\n",
       "      <td>Leadership Council Member</td>\n",
       "      <td>09 Mar 2023</td>\n",
       "    </tr>\n",
       "    <tr>\n",
       "      <th>2</th>\n",
       "      <td>Lisa</td>\n",
       "      <td>Wu</td>\n",
       "      <td>NaN</td>\n",
       "      <td>Desautels Graduate Student Society</td>\n",
       "      <td>President</td>\n",
       "      <td>04 Mar 2023</td>\n",
       "    </tr>\n",
       "    <tr>\n",
       "      <th>3</th>\n",
       "      <td>Scott</td>\n",
       "      <td>Dowding</td>\n",
       "      <td>NaN</td>\n",
       "      <td>Canadian Tire Corporation</td>\n",
       "      <td>Senior Vice President, Financial Planning &amp; An...</td>\n",
       "      <td>27 Feb 2023</td>\n",
       "    </tr>\n",
       "    <tr>\n",
       "      <th>4</th>\n",
       "      <td>Taju</td>\n",
       "      <td>Punnoose</td>\n",
       "      <td>NaN</td>\n",
       "      <td>TELUS</td>\n",
       "      <td>Manager, B2B Wireline Analytics</td>\n",
       "      <td>25 Feb 2023</td>\n",
       "    </tr>\n",
       "  </tbody>\n",
       "</table>\n",
       "</div>"
      ],
      "text/plain": [
       "  First Name Last Name Email Address                              Company  \\\n",
       "0     Daniel    Heuman           NaN                 Environics Analytics   \n",
       "1      Pearl    Juneja           NaN  United Nations Columbia University    \n",
       "2       Lisa        Wu           NaN  Desautels Graduate Student Society    \n",
       "3      Scott   Dowding           NaN            Canadian Tire Corporation   \n",
       "4       Taju  Punnoose           NaN                                TELUS   \n",
       "\n",
       "                                            Position Connected On  \n",
       "0                            Chief Analytics Officer  09 Mar 2023  \n",
       "1                          Leadership Council Member  09 Mar 2023  \n",
       "2                                          President  04 Mar 2023  \n",
       "3  Senior Vice President, Financial Planning & An...  27 Feb 2023  \n",
       "4                    Manager, B2B Wireline Analytics  25 Feb 2023  "
      ]
     },
     "execution_count": 29,
     "metadata": {},
     "output_type": "execute_result"
    }
   ],
   "source": [
    "import pandas as pd\n",
    "import numpy as np\n",
    "df = pd.read_csv('Connections.csv',skiprows=3)\n",
    "df.head()"
   ]
  },
  {
   "cell_type": "code",
   "execution_count": 49,
   "id": "db4e6a8e",
   "metadata": {},
   "outputs": [],
   "source": [
    "df1=df.groupby(\"Company\").filter(lambda x: len(x) > 1)\n",
    "df1['Count'] = df1.groupby('Company')['Company'].transform('size')\n",
    "df1['Count']=df1['Count'].astype(int)"
   ]
  },
  {
   "cell_type": "code",
   "execution_count": 57,
   "id": "ce81981b",
   "metadata": {},
   "outputs": [
    {
     "data": {
      "application/vnd.plotly.v1+json": {
       "config": {
        "plotlyServerURL": "https://plot.ly"
       },
       "data": [
        {
         "branchvalues": "total",
         "customdata": [
          [
           2
          ],
          [
           2
          ],
          [
           2
          ],
          [
           2
          ],
          [
           2
          ],
          [
           2
          ],
          [
           2
          ],
          [
           3
          ],
          [
           3
          ],
          [
           3
          ],
          [
           2
          ],
          [
           2
          ],
          [
           2
          ],
          [
           2
          ],
          [
           2
          ],
          [
           2
          ],
          [
           2
          ],
          [
           3
          ],
          [
           3
          ],
          [
           3
          ],
          [
           3
          ],
          [
           3
          ],
          [
           3
          ],
          [
           2
          ],
          [
           2
          ],
          [
           2
          ],
          [
           2
          ],
          [
           2
          ],
          [
           2
          ],
          [
           7
          ],
          [
           7
          ],
          [
           7
          ],
          [
           7
          ],
          [
           7
          ],
          [
           2
          ],
          [
           2
          ],
          [
           2
          ],
          [
           2
          ],
          [
           2
          ],
          [
           2
          ],
          [
           4
          ],
          [
           4
          ],
          [
           4
          ],
          [
           2
          ],
          [
           2
          ],
          [
           2
          ],
          [
           2
          ],
          [
           2
          ],
          [
           2
          ],
          [
           2
          ],
          [
           2
          ],
          [
           2
          ],
          [
           2
          ],
          [
           2
          ],
          [
           3
          ],
          [
           3
          ],
          [
           2
          ],
          [
           2
          ],
          [
           2
          ],
          [
           2
          ],
          [
           2
          ],
          [
           2.6666666666666665
          ],
          [
           2
          ],
          [
           2
          ],
          [
           2
          ],
          [
           2
          ],
          [
           7
          ],
          [
           4
          ],
          [
           3
          ],
          [
           2
          ],
          [
           2
          ],
          [
           2
          ],
          [
           3
          ],
          [
           2
          ],
          [
           2
          ],
          [
           3
          ],
          [
           2
          ],
          [
           2
          ],
          [
           2
          ],
          [
           2
          ],
          [
           7
          ],
          [
           2
          ],
          [
           2
          ],
          [
           2
          ],
          [
           2
          ],
          [
           3
          ],
          [
           2
          ],
          [
           7
          ],
          [
           2
          ],
          [
           4
          ],
          [
           2
          ],
          [
           3.8
          ],
          [
           4.5
          ],
          [
           2.142857142857143
          ],
          [
           2
          ],
          [
           3
          ],
          [
           2
          ],
          [
           2
          ],
          [
           2
          ],
          [
           2
          ],
          [
           2
          ],
          [
           2
          ],
          [
           2
          ],
          [
           2
          ],
          [
           2
          ],
          [
           2
          ],
          [
           2
          ],
          [
           2
          ]
         ],
         "domain": {
          "x": [
           0,
           1
          ],
          "y": [
           0,
           1
          ]
         },
         "hovertemplate": "labels=%{label}<br>count=%{value}<br>parent=%{parent}<br>id=%{id}<br>Count=%{color}<extra></extra>",
         "ids": [
          "Irwin/Account Executive",
          "Tillman Digital Cities/Account Executive",
          "Civic Entertainment Group, LLC (A Seacrest Global Group Company)/Account Manager",
          "Haribo Canada/Account Manager",
          "CAE Inc/Analytics Academic Consulting Project, Data Analyst",
          "TD/Analytics Academic Consulting Project, Data Analyst",
          "RBC/Assistant Branch Manager",
          "PwC/Associate",
          "RBC/Associate",
          "RBC Dominion Securities/Associate",
          "RBC/Associate, Career Launch Program",
          "RBC Capital Markets/Associate, Career Launch Program",
          "RBC/Banking Advisor",
          "Ebury/Business Development Manager",
          "Welch LLP/Business Development Manager",
          "Nurture Lifestyle/Co-Founder",
          "Plus 5XP/Co-Founder",
          "BDC/Consultant",
          "Ekimetrics/Consultant",
          "Huron/Consultant",
          "BDC/Data Analyst",
          "Delve at Desautels McGill/Data Analyst",
          "Mideast Data Systems/Data Analyst",
          "BDC/Data Scientist",
          "Intel Corporation/Data Scientist",
          "B'nai Brith Canada/Digital Marketing Coordinator",
          "Softchoice/Digital Marketing Coordinator",
          "Prudential Financial/Financial Advisor",
          "RBC/Financial Advisor",
          "Deloitte/Manager",
          "KPMG Canada/Manager",
          "Pariveda Solutions/Manager",
          "PwC/Manager",
          "PwC Canada/Manager",
          "Glion Institute of Higher Education/Marketing Manager",
          "Iridian Spectral Technologies/Marketing Manager",
          "The Estée Lauder Companies Inc./Marketing Specialist",
          "TrendMD/Marketing Specialist",
          "Spectrum Brands, Inc/National Account Manager",
          "Versuni/National Account Manager",
          "Deloitte Canada/Partner",
          "PricewaterhouseCoopers LLP/Partner",
          "PwC Canada/Partner",
          "Desautels Graduate Student Society /President",
          "ICEAA Canada/President",
          "Bell/Product Manager",
          "Dalhousie University /Project Coordinator",
          "Ledcor/Project Coordinator",
          "S&P Global/Research Assistant",
          "加拿大多倫多大學/Research Assistant",
          "PwC/Senior Associate",
          "PwC/Senior Associate, Risk Assurance Services",
          "EY/Senior Financial Auditor",
          "Mazars/Senior Financial Auditor",
          "PwC/Senior Manager",
          "PwC Canada/Senior Manager",
          "Rivian/Senior Software Engineer",
          "Skydio/Senior Software Engineer",
          "McGill University/Teaching Assistant",
          "McGill University - Desautels Faculty of Management/Teaching Assistant",
          "B'nai Brith Canada",
          "BDC",
          "Bell",
          "CAE Inc",
          "Civic Entertainment Group, LLC (A Seacrest Global Group Company)",
          "Dalhousie University ",
          "Deloitte",
          "Deloitte Canada",
          "Delve at Desautels McGill",
          "Desautels Graduate Student Society ",
          "EY",
          "Ebury",
          "Ekimetrics",
          "Glion Institute of Higher Education",
          "Haribo Canada",
          "Huron",
          "ICEAA Canada",
          "Intel Corporation",
          "Iridian Spectral Technologies",
          "Irwin",
          "KPMG Canada",
          "Ledcor",
          "Mazars",
          "McGill University",
          "McGill University - Desautels Faculty of Management",
          "Mideast Data Systems",
          "Nurture Lifestyle",
          "Pariveda Solutions",
          "Plus 5XP",
          "PricewaterhouseCoopers LLP",
          "Prudential Financial",
          "PwC",
          "PwC Canada",
          "RBC",
          "RBC Capital Markets",
          "RBC Dominion Securities",
          "Rivian",
          "S&P Global",
          "Skydio",
          "Softchoice",
          "Spectrum Brands, Inc",
          "TD",
          "The Estée Lauder Companies Inc.",
          "Tillman Digital Cities",
          "TrendMD",
          "Versuni",
          "Welch LLP",
          "加拿大多倫多大學"
         ],
         "labels": [
          "Account Executive",
          "Account Executive",
          "Account Manager",
          "Account Manager",
          "Analytics Academic Consulting Project, Data Analyst",
          "Analytics Academic Consulting Project, Data Analyst",
          "Assistant Branch Manager",
          "Associate",
          "Associate",
          "Associate",
          "Associate, Career Launch Program",
          "Associate, Career Launch Program",
          "Banking Advisor",
          "Business Development Manager",
          "Business Development Manager",
          "Co-Founder",
          "Co-Founder",
          "Consultant",
          "Consultant",
          "Consultant",
          "Data Analyst",
          "Data Analyst",
          "Data Analyst",
          "Data Scientist",
          "Data Scientist",
          "Digital Marketing Coordinator",
          "Digital Marketing Coordinator",
          "Financial Advisor",
          "Financial Advisor",
          "Manager",
          "Manager",
          "Manager",
          "Manager",
          "Manager",
          "Marketing Manager",
          "Marketing Manager",
          "Marketing Specialist",
          "Marketing Specialist",
          "National Account Manager",
          "National Account Manager",
          "Partner",
          "Partner",
          "Partner",
          "President",
          "President",
          "Product Manager",
          "Project Coordinator",
          "Project Coordinator",
          "Research Assistant",
          "Research Assistant",
          "Senior Associate",
          "Senior Associate, Risk Assurance Services",
          "Senior Financial Auditor",
          "Senior Financial Auditor",
          "Senior Manager",
          "Senior Manager",
          "Senior Software Engineer",
          "Senior Software Engineer",
          "Teaching Assistant",
          "Teaching Assistant",
          "B'nai Brith Canada",
          "BDC",
          "Bell",
          "CAE Inc",
          "Civic Entertainment Group, LLC (A Seacrest Global Group Company)",
          "Dalhousie University ",
          "Deloitte",
          "Deloitte Canada",
          "Delve at Desautels McGill",
          "Desautels Graduate Student Society ",
          "EY",
          "Ebury",
          "Ekimetrics",
          "Glion Institute of Higher Education",
          "Haribo Canada",
          "Huron",
          "ICEAA Canada",
          "Intel Corporation",
          "Iridian Spectral Technologies",
          "Irwin",
          "KPMG Canada",
          "Ledcor",
          "Mazars",
          "McGill University",
          "McGill University - Desautels Faculty of Management",
          "Mideast Data Systems",
          "Nurture Lifestyle",
          "Pariveda Solutions",
          "Plus 5XP",
          "PricewaterhouseCoopers LLP",
          "Prudential Financial",
          "PwC",
          "PwC Canada",
          "RBC",
          "RBC Capital Markets",
          "RBC Dominion Securities",
          "Rivian",
          "S&P Global",
          "Skydio",
          "Softchoice",
          "Spectrum Brands, Inc",
          "TD",
          "The Estée Lauder Companies Inc.",
          "Tillman Digital Cities",
          "TrendMD",
          "Versuni",
          "Welch LLP",
          "加拿大多倫多大學"
         ],
         "marker": {
          "coloraxis": "coloraxis",
          "colors": [
           2,
           2,
           2,
           2,
           2,
           2,
           2,
           3,
           3,
           3,
           2,
           2,
           2,
           2,
           2,
           2,
           2,
           3,
           3,
           3,
           3,
           3,
           3,
           2,
           2,
           2,
           2,
           2,
           2,
           7,
           7,
           7,
           7,
           7,
           2,
           2,
           2,
           2,
           2,
           2,
           4,
           4,
           4,
           2,
           2,
           2,
           2,
           2,
           2,
           2,
           2,
           2,
           2,
           2,
           3,
           3,
           2,
           2,
           2,
           2,
           2,
           2.6666666666666665,
           2,
           2,
           2,
           2,
           7,
           4,
           3,
           2,
           2,
           2,
           3,
           2,
           2,
           3,
           2,
           2,
           2,
           2,
           7,
           2,
           2,
           2,
           2,
           3,
           2,
           7,
           2,
           4,
           2,
           3.8,
           4.5,
           2.142857142857143,
           2,
           3,
           2,
           2,
           2,
           2,
           2,
           2,
           2,
           2,
           2,
           2,
           2,
           2
          ]
         },
         "name": "",
         "parents": [
          "Irwin",
          "Tillman Digital Cities",
          "Civic Entertainment Group, LLC (A Seacrest Global Group Company)",
          "Haribo Canada",
          "CAE Inc",
          "TD",
          "RBC",
          "PwC",
          "RBC",
          "RBC Dominion Securities",
          "RBC",
          "RBC Capital Markets",
          "RBC",
          "Ebury",
          "Welch LLP",
          "Nurture Lifestyle",
          "Plus 5XP",
          "BDC",
          "Ekimetrics",
          "Huron",
          "BDC",
          "Delve at Desautels McGill",
          "Mideast Data Systems",
          "BDC",
          "Intel Corporation",
          "B'nai Brith Canada",
          "Softchoice",
          "Prudential Financial",
          "RBC",
          "Deloitte",
          "KPMG Canada",
          "Pariveda Solutions",
          "PwC",
          "PwC Canada",
          "Glion Institute of Higher Education",
          "Iridian Spectral Technologies",
          "The Estée Lauder Companies Inc.",
          "TrendMD",
          "Spectrum Brands, Inc",
          "Versuni",
          "Deloitte Canada",
          "PricewaterhouseCoopers LLP",
          "PwC Canada",
          "Desautels Graduate Student Society ",
          "ICEAA Canada",
          "Bell",
          "Dalhousie University ",
          "Ledcor",
          "S&P Global",
          "加拿大多倫多大學",
          "PwC",
          "PwC",
          "EY",
          "Mazars",
          "PwC",
          "PwC Canada",
          "Rivian",
          "Skydio",
          "McGill University",
          "McGill University - Desautels Faculty of Management",
          "",
          "",
          "",
          "",
          "",
          "",
          "",
          "",
          "",
          "",
          "",
          "",
          "",
          "",
          "",
          "",
          "",
          "",
          "",
          "",
          "",
          "",
          "",
          "",
          "",
          "",
          "",
          "",
          "",
          "",
          "",
          "",
          "",
          "",
          "",
          "",
          "",
          "",
          "",
          "",
          "",
          "",
          "",
          "",
          "",
          "",
          "",
          ""
         ],
         "type": "treemap",
         "values": [
          1,
          1,
          1,
          1,
          1,
          1,
          2,
          1,
          1,
          1,
          1,
          1,
          2,
          1,
          1,
          1,
          1,
          1,
          1,
          1,
          1,
          1,
          1,
          1,
          1,
          1,
          1,
          1,
          1,
          1,
          1,
          1,
          3,
          1,
          1,
          1,
          1,
          1,
          1,
          1,
          1,
          1,
          2,
          1,
          1,
          2,
          1,
          1,
          1,
          1,
          2,
          2,
          1,
          1,
          2,
          1,
          1,
          1,
          1,
          1,
          1,
          3,
          2,
          1,
          1,
          1,
          1,
          1,
          1,
          1,
          1,
          1,
          1,
          1,
          1,
          1,
          1,
          1,
          1,
          1,
          1,
          1,
          1,
          1,
          1,
          1,
          1,
          1,
          1,
          1,
          1,
          10,
          4,
          7,
          1,
          1,
          1,
          1,
          1,
          1,
          1,
          1,
          1,
          1,
          1,
          1,
          1,
          1
         ]
        }
       ],
       "layout": {
        "coloraxis": {
         "cmid": 2.7971014492753623,
         "colorbar": {
          "title": {
           "text": "Count"
          }
         },
         "colorscale": [
          [
           0,
           "#440154"
          ],
          [
           0.1111111111111111,
           "#482878"
          ],
          [
           0.2222222222222222,
           "#3e4989"
          ],
          [
           0.3333333333333333,
           "#31688e"
          ],
          [
           0.4444444444444444,
           "#26828e"
          ],
          [
           0.5555555555555556,
           "#1f9e89"
          ],
          [
           0.6666666666666666,
           "#35b779"
          ],
          [
           0.7777777777777778,
           "#6ece58"
          ],
          [
           0.8888888888888888,
           "#b5de2b"
          ],
          [
           1,
           "#fde725"
          ]
         ]
        },
        "height": 1000,
        "legend": {
         "tracegroupgap": 0
        },
        "margin": {
         "t": 60
        },
        "template": {
         "data": {
          "bar": [
           {
            "error_x": {
             "color": "#2a3f5f"
            },
            "error_y": {
             "color": "#2a3f5f"
            },
            "marker": {
             "line": {
              "color": "#E5ECF6",
              "width": 0.5
             },
             "pattern": {
              "fillmode": "overlay",
              "size": 10,
              "solidity": 0.2
             }
            },
            "type": "bar"
           }
          ],
          "barpolar": [
           {
            "marker": {
             "line": {
              "color": "#E5ECF6",
              "width": 0.5
             },
             "pattern": {
              "fillmode": "overlay",
              "size": 10,
              "solidity": 0.2
             }
            },
            "type": "barpolar"
           }
          ],
          "carpet": [
           {
            "aaxis": {
             "endlinecolor": "#2a3f5f",
             "gridcolor": "white",
             "linecolor": "white",
             "minorgridcolor": "white",
             "startlinecolor": "#2a3f5f"
            },
            "baxis": {
             "endlinecolor": "#2a3f5f",
             "gridcolor": "white",
             "linecolor": "white",
             "minorgridcolor": "white",
             "startlinecolor": "#2a3f5f"
            },
            "type": "carpet"
           }
          ],
          "choropleth": [
           {
            "colorbar": {
             "outlinewidth": 0,
             "ticks": ""
            },
            "type": "choropleth"
           }
          ],
          "contour": [
           {
            "colorbar": {
             "outlinewidth": 0,
             "ticks": ""
            },
            "colorscale": [
             [
              0,
              "#0d0887"
             ],
             [
              0.1111111111111111,
              "#46039f"
             ],
             [
              0.2222222222222222,
              "#7201a8"
             ],
             [
              0.3333333333333333,
              "#9c179e"
             ],
             [
              0.4444444444444444,
              "#bd3786"
             ],
             [
              0.5555555555555556,
              "#d8576b"
             ],
             [
              0.6666666666666666,
              "#ed7953"
             ],
             [
              0.7777777777777778,
              "#fb9f3a"
             ],
             [
              0.8888888888888888,
              "#fdca26"
             ],
             [
              1,
              "#f0f921"
             ]
            ],
            "type": "contour"
           }
          ],
          "contourcarpet": [
           {
            "colorbar": {
             "outlinewidth": 0,
             "ticks": ""
            },
            "type": "contourcarpet"
           }
          ],
          "heatmap": [
           {
            "colorbar": {
             "outlinewidth": 0,
             "ticks": ""
            },
            "colorscale": [
             [
              0,
              "#0d0887"
             ],
             [
              0.1111111111111111,
              "#46039f"
             ],
             [
              0.2222222222222222,
              "#7201a8"
             ],
             [
              0.3333333333333333,
              "#9c179e"
             ],
             [
              0.4444444444444444,
              "#bd3786"
             ],
             [
              0.5555555555555556,
              "#d8576b"
             ],
             [
              0.6666666666666666,
              "#ed7953"
             ],
             [
              0.7777777777777778,
              "#fb9f3a"
             ],
             [
              0.8888888888888888,
              "#fdca26"
             ],
             [
              1,
              "#f0f921"
             ]
            ],
            "type": "heatmap"
           }
          ],
          "heatmapgl": [
           {
            "colorbar": {
             "outlinewidth": 0,
             "ticks": ""
            },
            "colorscale": [
             [
              0,
              "#0d0887"
             ],
             [
              0.1111111111111111,
              "#46039f"
             ],
             [
              0.2222222222222222,
              "#7201a8"
             ],
             [
              0.3333333333333333,
              "#9c179e"
             ],
             [
              0.4444444444444444,
              "#bd3786"
             ],
             [
              0.5555555555555556,
              "#d8576b"
             ],
             [
              0.6666666666666666,
              "#ed7953"
             ],
             [
              0.7777777777777778,
              "#fb9f3a"
             ],
             [
              0.8888888888888888,
              "#fdca26"
             ],
             [
              1,
              "#f0f921"
             ]
            ],
            "type": "heatmapgl"
           }
          ],
          "histogram": [
           {
            "marker": {
             "pattern": {
              "fillmode": "overlay",
              "size": 10,
              "solidity": 0.2
             }
            },
            "type": "histogram"
           }
          ],
          "histogram2d": [
           {
            "colorbar": {
             "outlinewidth": 0,
             "ticks": ""
            },
            "colorscale": [
             [
              0,
              "#0d0887"
             ],
             [
              0.1111111111111111,
              "#46039f"
             ],
             [
              0.2222222222222222,
              "#7201a8"
             ],
             [
              0.3333333333333333,
              "#9c179e"
             ],
             [
              0.4444444444444444,
              "#bd3786"
             ],
             [
              0.5555555555555556,
              "#d8576b"
             ],
             [
              0.6666666666666666,
              "#ed7953"
             ],
             [
              0.7777777777777778,
              "#fb9f3a"
             ],
             [
              0.8888888888888888,
              "#fdca26"
             ],
             [
              1,
              "#f0f921"
             ]
            ],
            "type": "histogram2d"
           }
          ],
          "histogram2dcontour": [
           {
            "colorbar": {
             "outlinewidth": 0,
             "ticks": ""
            },
            "colorscale": [
             [
              0,
              "#0d0887"
             ],
             [
              0.1111111111111111,
              "#46039f"
             ],
             [
              0.2222222222222222,
              "#7201a8"
             ],
             [
              0.3333333333333333,
              "#9c179e"
             ],
             [
              0.4444444444444444,
              "#bd3786"
             ],
             [
              0.5555555555555556,
              "#d8576b"
             ],
             [
              0.6666666666666666,
              "#ed7953"
             ],
             [
              0.7777777777777778,
              "#fb9f3a"
             ],
             [
              0.8888888888888888,
              "#fdca26"
             ],
             [
              1,
              "#f0f921"
             ]
            ],
            "type": "histogram2dcontour"
           }
          ],
          "mesh3d": [
           {
            "colorbar": {
             "outlinewidth": 0,
             "ticks": ""
            },
            "type": "mesh3d"
           }
          ],
          "parcoords": [
           {
            "line": {
             "colorbar": {
              "outlinewidth": 0,
              "ticks": ""
             }
            },
            "type": "parcoords"
           }
          ],
          "pie": [
           {
            "automargin": true,
            "type": "pie"
           }
          ],
          "scatter": [
           {
            "fillpattern": {
             "fillmode": "overlay",
             "size": 10,
             "solidity": 0.2
            },
            "type": "scatter"
           }
          ],
          "scatter3d": [
           {
            "line": {
             "colorbar": {
              "outlinewidth": 0,
              "ticks": ""
             }
            },
            "marker": {
             "colorbar": {
              "outlinewidth": 0,
              "ticks": ""
             }
            },
            "type": "scatter3d"
           }
          ],
          "scattercarpet": [
           {
            "marker": {
             "colorbar": {
              "outlinewidth": 0,
              "ticks": ""
             }
            },
            "type": "scattercarpet"
           }
          ],
          "scattergeo": [
           {
            "marker": {
             "colorbar": {
              "outlinewidth": 0,
              "ticks": ""
             }
            },
            "type": "scattergeo"
           }
          ],
          "scattergl": [
           {
            "marker": {
             "colorbar": {
              "outlinewidth": 0,
              "ticks": ""
             }
            },
            "type": "scattergl"
           }
          ],
          "scattermapbox": [
           {
            "marker": {
             "colorbar": {
              "outlinewidth": 0,
              "ticks": ""
             }
            },
            "type": "scattermapbox"
           }
          ],
          "scatterpolar": [
           {
            "marker": {
             "colorbar": {
              "outlinewidth": 0,
              "ticks": ""
             }
            },
            "type": "scatterpolar"
           }
          ],
          "scatterpolargl": [
           {
            "marker": {
             "colorbar": {
              "outlinewidth": 0,
              "ticks": ""
             }
            },
            "type": "scatterpolargl"
           }
          ],
          "scatterternary": [
           {
            "marker": {
             "colorbar": {
              "outlinewidth": 0,
              "ticks": ""
             }
            },
            "type": "scatterternary"
           }
          ],
          "surface": [
           {
            "colorbar": {
             "outlinewidth": 0,
             "ticks": ""
            },
            "colorscale": [
             [
              0,
              "#0d0887"
             ],
             [
              0.1111111111111111,
              "#46039f"
             ],
             [
              0.2222222222222222,
              "#7201a8"
             ],
             [
              0.3333333333333333,
              "#9c179e"
             ],
             [
              0.4444444444444444,
              "#bd3786"
             ],
             [
              0.5555555555555556,
              "#d8576b"
             ],
             [
              0.6666666666666666,
              "#ed7953"
             ],
             [
              0.7777777777777778,
              "#fb9f3a"
             ],
             [
              0.8888888888888888,
              "#fdca26"
             ],
             [
              1,
              "#f0f921"
             ]
            ],
            "type": "surface"
           }
          ],
          "table": [
           {
            "cells": {
             "fill": {
              "color": "#EBF0F8"
             },
             "line": {
              "color": "white"
             }
            },
            "header": {
             "fill": {
              "color": "#C8D4E3"
             },
             "line": {
              "color": "white"
             }
            },
            "type": "table"
           }
          ]
         },
         "layout": {
          "annotationdefaults": {
           "arrowcolor": "#2a3f5f",
           "arrowhead": 0,
           "arrowwidth": 1
          },
          "autotypenumbers": "strict",
          "coloraxis": {
           "colorbar": {
            "outlinewidth": 0,
            "ticks": ""
           }
          },
          "colorscale": {
           "diverging": [
            [
             0,
             "#8e0152"
            ],
            [
             0.1,
             "#c51b7d"
            ],
            [
             0.2,
             "#de77ae"
            ],
            [
             0.3,
             "#f1b6da"
            ],
            [
             0.4,
             "#fde0ef"
            ],
            [
             0.5,
             "#f7f7f7"
            ],
            [
             0.6,
             "#e6f5d0"
            ],
            [
             0.7,
             "#b8e186"
            ],
            [
             0.8,
             "#7fbc41"
            ],
            [
             0.9,
             "#4d9221"
            ],
            [
             1,
             "#276419"
            ]
           ],
           "sequential": [
            [
             0,
             "#0d0887"
            ],
            [
             0.1111111111111111,
             "#46039f"
            ],
            [
             0.2222222222222222,
             "#7201a8"
            ],
            [
             0.3333333333333333,
             "#9c179e"
            ],
            [
             0.4444444444444444,
             "#bd3786"
            ],
            [
             0.5555555555555556,
             "#d8576b"
            ],
            [
             0.6666666666666666,
             "#ed7953"
            ],
            [
             0.7777777777777778,
             "#fb9f3a"
            ],
            [
             0.8888888888888888,
             "#fdca26"
            ],
            [
             1,
             "#f0f921"
            ]
           ],
           "sequentialminus": [
            [
             0,
             "#0d0887"
            ],
            [
             0.1111111111111111,
             "#46039f"
            ],
            [
             0.2222222222222222,
             "#7201a8"
            ],
            [
             0.3333333333333333,
             "#9c179e"
            ],
            [
             0.4444444444444444,
             "#bd3786"
            ],
            [
             0.5555555555555556,
             "#d8576b"
            ],
            [
             0.6666666666666666,
             "#ed7953"
            ],
            [
             0.7777777777777778,
             "#fb9f3a"
            ],
            [
             0.8888888888888888,
             "#fdca26"
            ],
            [
             1,
             "#f0f921"
            ]
           ]
          },
          "colorway": [
           "#636efa",
           "#EF553B",
           "#00cc96",
           "#ab63fa",
           "#FFA15A",
           "#19d3f3",
           "#FF6692",
           "#B6E880",
           "#FF97FF",
           "#FECB52"
          ],
          "font": {
           "color": "#2a3f5f"
          },
          "geo": {
           "bgcolor": "white",
           "lakecolor": "white",
           "landcolor": "#E5ECF6",
           "showlakes": true,
           "showland": true,
           "subunitcolor": "white"
          },
          "hoverlabel": {
           "align": "left"
          },
          "hovermode": "closest",
          "mapbox": {
           "style": "light"
          },
          "paper_bgcolor": "white",
          "plot_bgcolor": "#E5ECF6",
          "polar": {
           "angularaxis": {
            "gridcolor": "white",
            "linecolor": "white",
            "ticks": ""
           },
           "bgcolor": "#E5ECF6",
           "radialaxis": {
            "gridcolor": "white",
            "linecolor": "white",
            "ticks": ""
           }
          },
          "scene": {
           "xaxis": {
            "backgroundcolor": "#E5ECF6",
            "gridcolor": "white",
            "gridwidth": 2,
            "linecolor": "white",
            "showbackground": true,
            "ticks": "",
            "zerolinecolor": "white"
           },
           "yaxis": {
            "backgroundcolor": "#E5ECF6",
            "gridcolor": "white",
            "gridwidth": 2,
            "linecolor": "white",
            "showbackground": true,
            "ticks": "",
            "zerolinecolor": "white"
           },
           "zaxis": {
            "backgroundcolor": "#E5ECF6",
            "gridcolor": "white",
            "gridwidth": 2,
            "linecolor": "white",
            "showbackground": true,
            "ticks": "",
            "zerolinecolor": "white"
           }
          },
          "shapedefaults": {
           "line": {
            "color": "#2a3f5f"
           }
          },
          "ternary": {
           "aaxis": {
            "gridcolor": "white",
            "linecolor": "white",
            "ticks": ""
           },
           "baxis": {
            "gridcolor": "white",
            "linecolor": "white",
            "ticks": ""
           },
           "bgcolor": "#E5ECF6",
           "caxis": {
            "gridcolor": "white",
            "linecolor": "white",
            "ticks": ""
           }
          },
          "title": {
           "x": 0.05
          },
          "xaxis": {
           "automargin": true,
           "gridcolor": "white",
           "linecolor": "white",
           "ticks": "",
           "title": {
            "standoff": 15
           },
           "zerolinecolor": "white",
           "zerolinewidth": 2
          },
          "yaxis": {
           "automargin": true,
           "gridcolor": "white",
           "linecolor": "white",
           "ticks": "",
           "title": {
            "standoff": 15
           },
           "zerolinecolor": "white",
           "zerolinewidth": 2
          }
         }
        },
        "width": 1000
       }
      },
      "text/html": [
       "<div>                            <div id=\"52ad1645-599d-44d7-b6a3-0645f38c9562\" class=\"plotly-graph-div\" style=\"height:1000px; width:1000px;\"></div>            <script type=\"text/javascript\">                require([\"plotly\"], function(Plotly) {                    window.PLOTLYENV=window.PLOTLYENV || {};                                    if (document.getElementById(\"52ad1645-599d-44d7-b6a3-0645f38c9562\")) {                    Plotly.newPlot(                        \"52ad1645-599d-44d7-b6a3-0645f38c9562\",                        [{\"branchvalues\":\"total\",\"customdata\":[[2.0],[2.0],[2.0],[2.0],[2.0],[2.0],[2.0],[3.0],[3.0],[3.0],[2.0],[2.0],[2.0],[2.0],[2.0],[2.0],[2.0],[3.0],[3.0],[3.0],[3.0],[3.0],[3.0],[2.0],[2.0],[2.0],[2.0],[2.0],[2.0],[7.0],[7.0],[7.0],[7.0],[7.0],[2.0],[2.0],[2.0],[2.0],[2.0],[2.0],[4.0],[4.0],[4.0],[2.0],[2.0],[2.0],[2.0],[2.0],[2.0],[2.0],[2.0],[2.0],[2.0],[2.0],[3.0],[3.0],[2.0],[2.0],[2.0],[2.0],[2.0],[2.6666666666666665],[2.0],[2.0],[2.0],[2.0],[7.0],[4.0],[3.0],[2.0],[2.0],[2.0],[3.0],[2.0],[2.0],[3.0],[2.0],[2.0],[2.0],[2.0],[7.0],[2.0],[2.0],[2.0],[2.0],[3.0],[2.0],[7.0],[2.0],[4.0],[2.0],[3.8],[4.5],[2.142857142857143],[2.0],[3.0],[2.0],[2.0],[2.0],[2.0],[2.0],[2.0],[2.0],[2.0],[2.0],[2.0],[2.0],[2.0]],\"domain\":{\"x\":[0.0,1.0],\"y\":[0.0,1.0]},\"hovertemplate\":\"labels=%{label}<br>count=%{value}<br>parent=%{parent}<br>id=%{id}<br>Count=%{color}<extra></extra>\",\"ids\":[\"Irwin/Account Executive\",\"Tillman Digital Cities/Account Executive\",\"Civic Entertainment Group, LLC (A Seacrest Global Group Company)/Account Manager\",\"Haribo Canada/Account Manager\",\"CAE Inc/Analytics Academic Consulting Project, Data Analyst\",\"TD/Analytics Academic Consulting Project, Data Analyst\",\"RBC/Assistant Branch Manager\",\"PwC/Associate\",\"RBC/Associate\",\"RBC Dominion Securities/Associate\",\"RBC/Associate, Career Launch Program\",\"RBC Capital Markets/Associate, Career Launch Program\",\"RBC/Banking Advisor\",\"Ebury/Business Development Manager\",\"Welch LLP/Business Development Manager\",\"Nurture Lifestyle/Co-Founder\",\"Plus 5XP/Co-Founder\",\"BDC/Consultant\",\"Ekimetrics/Consultant\",\"Huron/Consultant\",\"BDC/Data Analyst\",\"Delve at Desautels McGill/Data Analyst\",\"Mideast Data Systems/Data Analyst\",\"BDC/Data Scientist\",\"Intel Corporation/Data Scientist\",\"B'nai Brith Canada/Digital Marketing Coordinator\",\"Softchoice/Digital Marketing Coordinator\",\"Prudential Financial/Financial Advisor\",\"RBC/Financial Advisor\",\"Deloitte/Manager\",\"KPMG Canada/Manager\",\"Pariveda Solutions/Manager\",\"PwC/Manager\",\"PwC Canada/Manager\",\"Glion Institute of Higher Education/Marketing Manager\",\"Iridian Spectral Technologies/Marketing Manager\",\"The Est\\u00e9e Lauder Companies Inc./Marketing Specialist\",\"TrendMD/Marketing Specialist\",\"Spectrum Brands, Inc/National Account Manager\",\"Versuni/National Account Manager\",\"Deloitte Canada/Partner\",\"PricewaterhouseCoopers LLP/Partner\",\"PwC Canada/Partner\",\"Desautels Graduate Student Society /President\",\"ICEAA Canada/President\",\"Bell/Product Manager\",\"Dalhousie University /Project Coordinator\",\"Ledcor/Project Coordinator\",\"S&P Global/Research Assistant\",\"\\u52a0\\u62ff\\u5927\\u591a\\u502b\\u591a\\u5927\\u5b78/Research Assistant\",\"PwC/Senior Associate\",\"PwC/Senior Associate, Risk Assurance Services\",\"EY/Senior Financial Auditor\",\"Mazars/Senior Financial Auditor\",\"PwC/Senior Manager\",\"PwC Canada/Senior Manager\",\"Rivian/Senior Software Engineer\",\"Skydio/Senior Software Engineer\",\"McGill University/Teaching Assistant\",\"McGill University - Desautels Faculty of Management/Teaching Assistant\",\"B'nai Brith Canada\",\"BDC\",\"Bell\",\"CAE Inc\",\"Civic Entertainment Group, LLC (A Seacrest Global Group Company)\",\"Dalhousie University \",\"Deloitte\",\"Deloitte Canada\",\"Delve at Desautels McGill\",\"Desautels Graduate Student Society \",\"EY\",\"Ebury\",\"Ekimetrics\",\"Glion Institute of Higher Education\",\"Haribo Canada\",\"Huron\",\"ICEAA Canada\",\"Intel Corporation\",\"Iridian Spectral Technologies\",\"Irwin\",\"KPMG Canada\",\"Ledcor\",\"Mazars\",\"McGill University\",\"McGill University - Desautels Faculty of Management\",\"Mideast Data Systems\",\"Nurture Lifestyle\",\"Pariveda Solutions\",\"Plus 5XP\",\"PricewaterhouseCoopers LLP\",\"Prudential Financial\",\"PwC\",\"PwC Canada\",\"RBC\",\"RBC Capital Markets\",\"RBC Dominion Securities\",\"Rivian\",\"S&P Global\",\"Skydio\",\"Softchoice\",\"Spectrum Brands, Inc\",\"TD\",\"The Est\\u00e9e Lauder Companies Inc.\",\"Tillman Digital Cities\",\"TrendMD\",\"Versuni\",\"Welch LLP\",\"\\u52a0\\u62ff\\u5927\\u591a\\u502b\\u591a\\u5927\\u5b78\"],\"labels\":[\"Account Executive\",\"Account Executive\",\"Account Manager\",\"Account Manager\",\"Analytics Academic Consulting Project, Data Analyst\",\"Analytics Academic Consulting Project, Data Analyst\",\"Assistant Branch Manager\",\"Associate\",\"Associate\",\"Associate\",\"Associate, Career Launch Program\",\"Associate, Career Launch Program\",\"Banking Advisor\",\"Business Development Manager\",\"Business Development Manager\",\"Co-Founder\",\"Co-Founder\",\"Consultant\",\"Consultant\",\"Consultant\",\"Data Analyst\",\"Data Analyst\",\"Data Analyst\",\"Data Scientist\",\"Data Scientist\",\"Digital Marketing Coordinator\",\"Digital Marketing Coordinator\",\"Financial Advisor\",\"Financial Advisor\",\"Manager\",\"Manager\",\"Manager\",\"Manager\",\"Manager\",\"Marketing Manager\",\"Marketing Manager\",\"Marketing Specialist\",\"Marketing Specialist\",\"National Account Manager\",\"National Account Manager\",\"Partner\",\"Partner\",\"Partner\",\"President\",\"President\",\"Product Manager\",\"Project Coordinator\",\"Project Coordinator\",\"Research Assistant\",\"Research Assistant\",\"Senior Associate\",\"Senior Associate, Risk Assurance Services\",\"Senior Financial Auditor\",\"Senior Financial Auditor\",\"Senior Manager\",\"Senior Manager\",\"Senior Software Engineer\",\"Senior Software Engineer\",\"Teaching Assistant\",\"Teaching Assistant\",\"B'nai Brith Canada\",\"BDC\",\"Bell\",\"CAE Inc\",\"Civic Entertainment Group, LLC (A Seacrest Global Group Company)\",\"Dalhousie University \",\"Deloitte\",\"Deloitte Canada\",\"Delve at Desautels McGill\",\"Desautels Graduate Student Society \",\"EY\",\"Ebury\",\"Ekimetrics\",\"Glion Institute of Higher Education\",\"Haribo Canada\",\"Huron\",\"ICEAA Canada\",\"Intel Corporation\",\"Iridian Spectral Technologies\",\"Irwin\",\"KPMG Canada\",\"Ledcor\",\"Mazars\",\"McGill University\",\"McGill University - Desautels Faculty of Management\",\"Mideast Data Systems\",\"Nurture Lifestyle\",\"Pariveda Solutions\",\"Plus 5XP\",\"PricewaterhouseCoopers LLP\",\"Prudential Financial\",\"PwC\",\"PwC Canada\",\"RBC\",\"RBC Capital Markets\",\"RBC Dominion Securities\",\"Rivian\",\"S&P Global\",\"Skydio\",\"Softchoice\",\"Spectrum Brands, Inc\",\"TD\",\"The Est\\u00e9e Lauder Companies Inc.\",\"Tillman Digital Cities\",\"TrendMD\",\"Versuni\",\"Welch LLP\",\"\\u52a0\\u62ff\\u5927\\u591a\\u502b\\u591a\\u5927\\u5b78\"],\"marker\":{\"coloraxis\":\"coloraxis\",\"colors\":[2.0,2.0,2.0,2.0,2.0,2.0,2.0,3.0,3.0,3.0,2.0,2.0,2.0,2.0,2.0,2.0,2.0,3.0,3.0,3.0,3.0,3.0,3.0,2.0,2.0,2.0,2.0,2.0,2.0,7.0,7.0,7.0,7.0,7.0,2.0,2.0,2.0,2.0,2.0,2.0,4.0,4.0,4.0,2.0,2.0,2.0,2.0,2.0,2.0,2.0,2.0,2.0,2.0,2.0,3.0,3.0,2.0,2.0,2.0,2.0,2.0,2.6666666666666665,2.0,2.0,2.0,2.0,7.0,4.0,3.0,2.0,2.0,2.0,3.0,2.0,2.0,3.0,2.0,2.0,2.0,2.0,7.0,2.0,2.0,2.0,2.0,3.0,2.0,7.0,2.0,4.0,2.0,3.8,4.5,2.142857142857143,2.0,3.0,2.0,2.0,2.0,2.0,2.0,2.0,2.0,2.0,2.0,2.0,2.0,2.0]},\"name\":\"\",\"parents\":[\"Irwin\",\"Tillman Digital Cities\",\"Civic Entertainment Group, LLC (A Seacrest Global Group Company)\",\"Haribo Canada\",\"CAE Inc\",\"TD\",\"RBC\",\"PwC\",\"RBC\",\"RBC Dominion Securities\",\"RBC\",\"RBC Capital Markets\",\"RBC\",\"Ebury\",\"Welch LLP\",\"Nurture Lifestyle\",\"Plus 5XP\",\"BDC\",\"Ekimetrics\",\"Huron\",\"BDC\",\"Delve at Desautels McGill\",\"Mideast Data Systems\",\"BDC\",\"Intel Corporation\",\"B'nai Brith Canada\",\"Softchoice\",\"Prudential Financial\",\"RBC\",\"Deloitte\",\"KPMG Canada\",\"Pariveda Solutions\",\"PwC\",\"PwC Canada\",\"Glion Institute of Higher Education\",\"Iridian Spectral Technologies\",\"The Est\\u00e9e Lauder Companies Inc.\",\"TrendMD\",\"Spectrum Brands, Inc\",\"Versuni\",\"Deloitte Canada\",\"PricewaterhouseCoopers LLP\",\"PwC Canada\",\"Desautels Graduate Student Society \",\"ICEAA Canada\",\"Bell\",\"Dalhousie University \",\"Ledcor\",\"S&P Global\",\"\\u52a0\\u62ff\\u5927\\u591a\\u502b\\u591a\\u5927\\u5b78\",\"PwC\",\"PwC\",\"EY\",\"Mazars\",\"PwC\",\"PwC Canada\",\"Rivian\",\"Skydio\",\"McGill University\",\"McGill University - Desautels Faculty of Management\",\"\",\"\",\"\",\"\",\"\",\"\",\"\",\"\",\"\",\"\",\"\",\"\",\"\",\"\",\"\",\"\",\"\",\"\",\"\",\"\",\"\",\"\",\"\",\"\",\"\",\"\",\"\",\"\",\"\",\"\",\"\",\"\",\"\",\"\",\"\",\"\",\"\",\"\",\"\",\"\",\"\",\"\",\"\",\"\",\"\",\"\",\"\",\"\"],\"values\":[1,1,1,1,1,1,2,1,1,1,1,1,2,1,1,1,1,1,1,1,1,1,1,1,1,1,1,1,1,1,1,1,3,1,1,1,1,1,1,1,1,1,2,1,1,2,1,1,1,1,2,2,1,1,2,1,1,1,1,1,1,3,2,1,1,1,1,1,1,1,1,1,1,1,1,1,1,1,1,1,1,1,1,1,1,1,1,1,1,1,1,10,4,7,1,1,1,1,1,1,1,1,1,1,1,1,1,1],\"type\":\"treemap\"}],                        {\"template\":{\"data\":{\"histogram2dcontour\":[{\"type\":\"histogram2dcontour\",\"colorbar\":{\"outlinewidth\":0,\"ticks\":\"\"},\"colorscale\":[[0.0,\"#0d0887\"],[0.1111111111111111,\"#46039f\"],[0.2222222222222222,\"#7201a8\"],[0.3333333333333333,\"#9c179e\"],[0.4444444444444444,\"#bd3786\"],[0.5555555555555556,\"#d8576b\"],[0.6666666666666666,\"#ed7953\"],[0.7777777777777778,\"#fb9f3a\"],[0.8888888888888888,\"#fdca26\"],[1.0,\"#f0f921\"]]}],\"choropleth\":[{\"type\":\"choropleth\",\"colorbar\":{\"outlinewidth\":0,\"ticks\":\"\"}}],\"histogram2d\":[{\"type\":\"histogram2d\",\"colorbar\":{\"outlinewidth\":0,\"ticks\":\"\"},\"colorscale\":[[0.0,\"#0d0887\"],[0.1111111111111111,\"#46039f\"],[0.2222222222222222,\"#7201a8\"],[0.3333333333333333,\"#9c179e\"],[0.4444444444444444,\"#bd3786\"],[0.5555555555555556,\"#d8576b\"],[0.6666666666666666,\"#ed7953\"],[0.7777777777777778,\"#fb9f3a\"],[0.8888888888888888,\"#fdca26\"],[1.0,\"#f0f921\"]]}],\"heatmap\":[{\"type\":\"heatmap\",\"colorbar\":{\"outlinewidth\":0,\"ticks\":\"\"},\"colorscale\":[[0.0,\"#0d0887\"],[0.1111111111111111,\"#46039f\"],[0.2222222222222222,\"#7201a8\"],[0.3333333333333333,\"#9c179e\"],[0.4444444444444444,\"#bd3786\"],[0.5555555555555556,\"#d8576b\"],[0.6666666666666666,\"#ed7953\"],[0.7777777777777778,\"#fb9f3a\"],[0.8888888888888888,\"#fdca26\"],[1.0,\"#f0f921\"]]}],\"heatmapgl\":[{\"type\":\"heatmapgl\",\"colorbar\":{\"outlinewidth\":0,\"ticks\":\"\"},\"colorscale\":[[0.0,\"#0d0887\"],[0.1111111111111111,\"#46039f\"],[0.2222222222222222,\"#7201a8\"],[0.3333333333333333,\"#9c179e\"],[0.4444444444444444,\"#bd3786\"],[0.5555555555555556,\"#d8576b\"],[0.6666666666666666,\"#ed7953\"],[0.7777777777777778,\"#fb9f3a\"],[0.8888888888888888,\"#fdca26\"],[1.0,\"#f0f921\"]]}],\"contourcarpet\":[{\"type\":\"contourcarpet\",\"colorbar\":{\"outlinewidth\":0,\"ticks\":\"\"}}],\"contour\":[{\"type\":\"contour\",\"colorbar\":{\"outlinewidth\":0,\"ticks\":\"\"},\"colorscale\":[[0.0,\"#0d0887\"],[0.1111111111111111,\"#46039f\"],[0.2222222222222222,\"#7201a8\"],[0.3333333333333333,\"#9c179e\"],[0.4444444444444444,\"#bd3786\"],[0.5555555555555556,\"#d8576b\"],[0.6666666666666666,\"#ed7953\"],[0.7777777777777778,\"#fb9f3a\"],[0.8888888888888888,\"#fdca26\"],[1.0,\"#f0f921\"]]}],\"surface\":[{\"type\":\"surface\",\"colorbar\":{\"outlinewidth\":0,\"ticks\":\"\"},\"colorscale\":[[0.0,\"#0d0887\"],[0.1111111111111111,\"#46039f\"],[0.2222222222222222,\"#7201a8\"],[0.3333333333333333,\"#9c179e\"],[0.4444444444444444,\"#bd3786\"],[0.5555555555555556,\"#d8576b\"],[0.6666666666666666,\"#ed7953\"],[0.7777777777777778,\"#fb9f3a\"],[0.8888888888888888,\"#fdca26\"],[1.0,\"#f0f921\"]]}],\"mesh3d\":[{\"type\":\"mesh3d\",\"colorbar\":{\"outlinewidth\":0,\"ticks\":\"\"}}],\"scatter\":[{\"fillpattern\":{\"fillmode\":\"overlay\",\"size\":10,\"solidity\":0.2},\"type\":\"scatter\"}],\"parcoords\":[{\"type\":\"parcoords\",\"line\":{\"colorbar\":{\"outlinewidth\":0,\"ticks\":\"\"}}}],\"scatterpolargl\":[{\"type\":\"scatterpolargl\",\"marker\":{\"colorbar\":{\"outlinewidth\":0,\"ticks\":\"\"}}}],\"bar\":[{\"error_x\":{\"color\":\"#2a3f5f\"},\"error_y\":{\"color\":\"#2a3f5f\"},\"marker\":{\"line\":{\"color\":\"#E5ECF6\",\"width\":0.5},\"pattern\":{\"fillmode\":\"overlay\",\"size\":10,\"solidity\":0.2}},\"type\":\"bar\"}],\"scattergeo\":[{\"type\":\"scattergeo\",\"marker\":{\"colorbar\":{\"outlinewidth\":0,\"ticks\":\"\"}}}],\"scatterpolar\":[{\"type\":\"scatterpolar\",\"marker\":{\"colorbar\":{\"outlinewidth\":0,\"ticks\":\"\"}}}],\"histogram\":[{\"marker\":{\"pattern\":{\"fillmode\":\"overlay\",\"size\":10,\"solidity\":0.2}},\"type\":\"histogram\"}],\"scattergl\":[{\"type\":\"scattergl\",\"marker\":{\"colorbar\":{\"outlinewidth\":0,\"ticks\":\"\"}}}],\"scatter3d\":[{\"type\":\"scatter3d\",\"line\":{\"colorbar\":{\"outlinewidth\":0,\"ticks\":\"\"}},\"marker\":{\"colorbar\":{\"outlinewidth\":0,\"ticks\":\"\"}}}],\"scattermapbox\":[{\"type\":\"scattermapbox\",\"marker\":{\"colorbar\":{\"outlinewidth\":0,\"ticks\":\"\"}}}],\"scatterternary\":[{\"type\":\"scatterternary\",\"marker\":{\"colorbar\":{\"outlinewidth\":0,\"ticks\":\"\"}}}],\"scattercarpet\":[{\"type\":\"scattercarpet\",\"marker\":{\"colorbar\":{\"outlinewidth\":0,\"ticks\":\"\"}}}],\"carpet\":[{\"aaxis\":{\"endlinecolor\":\"#2a3f5f\",\"gridcolor\":\"white\",\"linecolor\":\"white\",\"minorgridcolor\":\"white\",\"startlinecolor\":\"#2a3f5f\"},\"baxis\":{\"endlinecolor\":\"#2a3f5f\",\"gridcolor\":\"white\",\"linecolor\":\"white\",\"minorgridcolor\":\"white\",\"startlinecolor\":\"#2a3f5f\"},\"type\":\"carpet\"}],\"table\":[{\"cells\":{\"fill\":{\"color\":\"#EBF0F8\"},\"line\":{\"color\":\"white\"}},\"header\":{\"fill\":{\"color\":\"#C8D4E3\"},\"line\":{\"color\":\"white\"}},\"type\":\"table\"}],\"barpolar\":[{\"marker\":{\"line\":{\"color\":\"#E5ECF6\",\"width\":0.5},\"pattern\":{\"fillmode\":\"overlay\",\"size\":10,\"solidity\":0.2}},\"type\":\"barpolar\"}],\"pie\":[{\"automargin\":true,\"type\":\"pie\"}]},\"layout\":{\"autotypenumbers\":\"strict\",\"colorway\":[\"#636efa\",\"#EF553B\",\"#00cc96\",\"#ab63fa\",\"#FFA15A\",\"#19d3f3\",\"#FF6692\",\"#B6E880\",\"#FF97FF\",\"#FECB52\"],\"font\":{\"color\":\"#2a3f5f\"},\"hovermode\":\"closest\",\"hoverlabel\":{\"align\":\"left\"},\"paper_bgcolor\":\"white\",\"plot_bgcolor\":\"#E5ECF6\",\"polar\":{\"bgcolor\":\"#E5ECF6\",\"angularaxis\":{\"gridcolor\":\"white\",\"linecolor\":\"white\",\"ticks\":\"\"},\"radialaxis\":{\"gridcolor\":\"white\",\"linecolor\":\"white\",\"ticks\":\"\"}},\"ternary\":{\"bgcolor\":\"#E5ECF6\",\"aaxis\":{\"gridcolor\":\"white\",\"linecolor\":\"white\",\"ticks\":\"\"},\"baxis\":{\"gridcolor\":\"white\",\"linecolor\":\"white\",\"ticks\":\"\"},\"caxis\":{\"gridcolor\":\"white\",\"linecolor\":\"white\",\"ticks\":\"\"}},\"coloraxis\":{\"colorbar\":{\"outlinewidth\":0,\"ticks\":\"\"}},\"colorscale\":{\"sequential\":[[0.0,\"#0d0887\"],[0.1111111111111111,\"#46039f\"],[0.2222222222222222,\"#7201a8\"],[0.3333333333333333,\"#9c179e\"],[0.4444444444444444,\"#bd3786\"],[0.5555555555555556,\"#d8576b\"],[0.6666666666666666,\"#ed7953\"],[0.7777777777777778,\"#fb9f3a\"],[0.8888888888888888,\"#fdca26\"],[1.0,\"#f0f921\"]],\"sequentialminus\":[[0.0,\"#0d0887\"],[0.1111111111111111,\"#46039f\"],[0.2222222222222222,\"#7201a8\"],[0.3333333333333333,\"#9c179e\"],[0.4444444444444444,\"#bd3786\"],[0.5555555555555556,\"#d8576b\"],[0.6666666666666666,\"#ed7953\"],[0.7777777777777778,\"#fb9f3a\"],[0.8888888888888888,\"#fdca26\"],[1.0,\"#f0f921\"]],\"diverging\":[[0,\"#8e0152\"],[0.1,\"#c51b7d\"],[0.2,\"#de77ae\"],[0.3,\"#f1b6da\"],[0.4,\"#fde0ef\"],[0.5,\"#f7f7f7\"],[0.6,\"#e6f5d0\"],[0.7,\"#b8e186\"],[0.8,\"#7fbc41\"],[0.9,\"#4d9221\"],[1,\"#276419\"]]},\"xaxis\":{\"gridcolor\":\"white\",\"linecolor\":\"white\",\"ticks\":\"\",\"title\":{\"standoff\":15},\"zerolinecolor\":\"white\",\"automargin\":true,\"zerolinewidth\":2},\"yaxis\":{\"gridcolor\":\"white\",\"linecolor\":\"white\",\"ticks\":\"\",\"title\":{\"standoff\":15},\"zerolinecolor\":\"white\",\"automargin\":true,\"zerolinewidth\":2},\"scene\":{\"xaxis\":{\"backgroundcolor\":\"#E5ECF6\",\"gridcolor\":\"white\",\"linecolor\":\"white\",\"showbackground\":true,\"ticks\":\"\",\"zerolinecolor\":\"white\",\"gridwidth\":2},\"yaxis\":{\"backgroundcolor\":\"#E5ECF6\",\"gridcolor\":\"white\",\"linecolor\":\"white\",\"showbackground\":true,\"ticks\":\"\",\"zerolinecolor\":\"white\",\"gridwidth\":2},\"zaxis\":{\"backgroundcolor\":\"#E5ECF6\",\"gridcolor\":\"white\",\"linecolor\":\"white\",\"showbackground\":true,\"ticks\":\"\",\"zerolinecolor\":\"white\",\"gridwidth\":2}},\"shapedefaults\":{\"line\":{\"color\":\"#2a3f5f\"}},\"annotationdefaults\":{\"arrowcolor\":\"#2a3f5f\",\"arrowhead\":0,\"arrowwidth\":1},\"geo\":{\"bgcolor\":\"white\",\"landcolor\":\"#E5ECF6\",\"subunitcolor\":\"white\",\"showland\":true,\"showlakes\":true,\"lakecolor\":\"white\"},\"title\":{\"x\":0.05},\"mapbox\":{\"style\":\"light\"}}},\"coloraxis\":{\"colorbar\":{\"title\":{\"text\":\"Count\"}},\"colorscale\":[[0.0,\"#440154\"],[0.1111111111111111,\"#482878\"],[0.2222222222222222,\"#3e4989\"],[0.3333333333333333,\"#31688e\"],[0.4444444444444444,\"#26828e\"],[0.5555555555555556,\"#1f9e89\"],[0.6666666666666666,\"#35b779\"],[0.7777777777777778,\"#6ece58\"],[0.8888888888888888,\"#b5de2b\"],[1.0,\"#fde725\"]],\"cmid\":2.7971014492753623},\"legend\":{\"tracegroupgap\":0},\"margin\":{\"t\":60},\"height\":1000,\"width\":1000},                        {\"responsive\": true}                    ).then(function(){\n",
       "                            \n",
       "var gd = document.getElementById('52ad1645-599d-44d7-b6a3-0645f38c9562');\n",
       "var x = new MutationObserver(function (mutations, observer) {{\n",
       "        var display = window.getComputedStyle(gd).display;\n",
       "        if (!display || display === 'none') {{\n",
       "            console.log([gd, 'removed!']);\n",
       "            Plotly.purge(gd);\n",
       "            observer.disconnect();\n",
       "        }}\n",
       "}});\n",
       "\n",
       "// Listen for the removal of the full notebook cells\n",
       "var notebookContainer = gd.closest('#notebook-container');\n",
       "if (notebookContainer) {{\n",
       "    x.observe(notebookContainer, {childList: true});\n",
       "}}\n",
       "\n",
       "// Listen for the clearing of the current output cell\n",
       "var outputEl = gd.closest('.output');\n",
       "if (outputEl) {{\n",
       "    x.observe(outputEl, {childList: true});\n",
       "}}\n",
       "\n",
       "                        })                };                });            </script>        </div>"
      ]
     },
     "metadata": {},
     "output_type": "display_data"
    }
   ],
   "source": [
    "import plotly.express as px\n",
    "df1=df1.dropna(subset=['Company', 'Position'])\n",
    "px.treemap(df1, path=['Company', 'Position'],\n",
    "           width=1000,\n",
    "           height=1000,\n",
    "           color='Count',\n",
    "           color_continuous_scale='YlGnBu',\n",
    "           color_continuous_midpoint=np.average(df1['Count']))"
   ]
  },
  {
   "cell_type": "code",
   "execution_count": 59,
   "id": "6027ded1",
   "metadata": {},
   "outputs": [
    {
     "data": {
      "application/vnd.plotly.v1+json": {
       "config": {
        "plotlyServerURL": "https://plot.ly"
       },
       "data": [
        {
         "branchvalues": "total",
         "customdata": [
          [
           2
          ],
          [
           3
          ],
          [
           3
          ],
          [
           2
          ],
          [
           2
          ],
          [
           2
          ],
          [
           2
          ],
          [
           2
          ],
          [
           7
          ],
          [
           4
          ],
          [
           3
          ],
          [
           2
          ],
          [
           2
          ],
          [
           2
          ],
          [
           3
          ],
          [
           2
          ],
          [
           2
          ],
          [
           3
          ],
          [
           2
          ],
          [
           2
          ],
          [
           2
          ],
          [
           2
          ],
          [
           7
          ],
          [
           2
          ],
          [
           2
          ],
          [
           2
          ],
          [
           2
          ],
          [
           3
          ],
          [
           2
          ],
          [
           7
          ],
          [
           2
          ],
          [
           4
          ],
          [
           2
          ],
          [
           3
          ],
          [
           7
          ],
          [
           2
          ],
          [
           2
          ],
          [
           3
          ],
          [
           7
          ],
          [
           4
          ],
          [
           3
          ],
          [
           2
          ],
          [
           3
          ],
          [
           2
          ],
          [
           2
          ],
          [
           2
          ],
          [
           2
          ],
          [
           3
          ],
          [
           2
          ],
          [
           2
          ],
          [
           2
          ],
          [
           2
          ],
          [
           2
          ],
          [
           2
          ],
          [
           2
          ],
          [
           2
          ],
          [
           2
          ],
          [
           2
          ],
          [
           2
          ],
          [
           2
          ],
          [
           2
          ],
          [
           2
          ],
          [
           2
          ],
          [
           2
          ],
          [
           3
          ],
          [
           2
          ],
          [
           2
          ],
          [
           2
          ],
          [
           2
          ],
          [
           3
          ],
          [
           3
          ],
          [
           2
          ],
          [
           2
          ],
          [
           2
          ],
          [
           7
          ],
          [
           2
          ],
          [
           2
          ],
          [
           2
          ],
          [
           4
          ],
          [
           2
          ],
          [
           2
          ],
          [
           2
          ],
          [
           2
          ],
          [
           2
          ],
          [
           2
          ],
          [
           2
          ],
          [
           3
          ],
          [
           2
          ],
          [
           2
          ]
         ],
         "domain": {
          "x": [
           0,
           1
          ],
          "y": [
           0,
           1
          ]
         },
         "hovertemplate": "labels=%{label}<br>count=%{value}<br>parent=%{parent}<br>id=%{id}<br>Count=%{color}<extra></extra>",
         "ids": [
          "Digital Marketing Coordinator/B'nai Brith Canada",
          "Consultant/BDC",
          "Data Analyst/BDC",
          "Data Scientist/BDC",
          "Product Manager/Bell",
          "Analytics Academic Consulting Project, Data Analyst/CAE Inc",
          "Account Manager/Civic Entertainment Group, LLC (A Seacrest Global Group Company)",
          "Project Coordinator/Dalhousie University ",
          "Manager/Deloitte",
          "Partner/Deloitte Canada",
          "Data Analyst/Delve at Desautels McGill",
          "President/Desautels Graduate Student Society ",
          "Senior Financial Auditor/EY",
          "Business Development Manager/Ebury",
          "Consultant/Ekimetrics",
          "Marketing Manager/Glion Institute of Higher Education",
          "Account Manager/Haribo Canada",
          "Consultant/Huron",
          "President/ICEAA Canada",
          "Data Scientist/Intel Corporation",
          "Marketing Manager/Iridian Spectral Technologies",
          "Account Executive/Irwin",
          "Manager/KPMG Canada",
          "Project Coordinator/Ledcor",
          "Senior Financial Auditor/Mazars",
          "Teaching Assistant/McGill University",
          "Teaching Assistant/McGill University - Desautels Faculty of Management",
          "Data Analyst/Mideast Data Systems",
          "Co-Founder/Nurture Lifestyle",
          "Manager/Pariveda Solutions",
          "Co-Founder/Plus 5XP",
          "Partner/PricewaterhouseCoopers LLP",
          "Financial Advisor/Prudential Financial",
          "Associate/PwC",
          "Manager/PwC",
          "Senior Associate/PwC",
          "Senior Associate, Risk Assurance Services/PwC",
          "Senior Manager/PwC",
          "Manager/PwC Canada",
          "Partner/PwC Canada",
          "Senior Manager/PwC Canada",
          "Assistant Branch Manager/RBC",
          "Associate/RBC",
          "Associate, Career Launch Program/RBC",
          "Banking Advisor/RBC",
          "Financial Advisor/RBC",
          "Associate, Career Launch Program/RBC Capital Markets",
          "Associate/RBC Dominion Securities",
          "Senior Software Engineer/Rivian",
          "Research Assistant/S&P Global",
          "Senior Software Engineer/Skydio",
          "Digital Marketing Coordinator/Softchoice",
          "National Account Manager/Spectrum Brands, Inc",
          "Analytics Academic Consulting Project, Data Analyst/TD",
          "Marketing Specialist/The Estée Lauder Companies Inc.",
          "Account Executive/Tillman Digital Cities",
          "Marketing Specialist/TrendMD",
          "National Account Manager/Versuni",
          "Business Development Manager/Welch LLP",
          "Research Assistant/加拿大多倫多大學",
          "Account Executive",
          "Account Manager",
          "Analytics Academic Consulting Project, Data Analyst",
          "Assistant Branch Manager",
          "Associate",
          "Associate, Career Launch Program",
          "Banking Advisor",
          "Business Development Manager",
          "Co-Founder",
          "Consultant",
          "Data Analyst",
          "Data Scientist",
          "Digital Marketing Coordinator",
          "Financial Advisor",
          "Manager",
          "Marketing Manager",
          "Marketing Specialist",
          "National Account Manager",
          "Partner",
          "President",
          "Product Manager",
          "Project Coordinator",
          "Research Assistant",
          "Senior Associate",
          "Senior Associate, Risk Assurance Services",
          "Senior Financial Auditor",
          "Senior Manager",
          "Senior Software Engineer",
          "Teaching Assistant"
         ],
         "labels": [
          "B'nai Brith Canada",
          "BDC",
          "BDC",
          "BDC",
          "Bell",
          "CAE Inc",
          "Civic Entertainment Group, LLC (A Seacrest Global Group Company)",
          "Dalhousie University ",
          "Deloitte",
          "Deloitte Canada",
          "Delve at Desautels McGill",
          "Desautels Graduate Student Society ",
          "EY",
          "Ebury",
          "Ekimetrics",
          "Glion Institute of Higher Education",
          "Haribo Canada",
          "Huron",
          "ICEAA Canada",
          "Intel Corporation",
          "Iridian Spectral Technologies",
          "Irwin",
          "KPMG Canada",
          "Ledcor",
          "Mazars",
          "McGill University",
          "McGill University - Desautels Faculty of Management",
          "Mideast Data Systems",
          "Nurture Lifestyle",
          "Pariveda Solutions",
          "Plus 5XP",
          "PricewaterhouseCoopers LLP",
          "Prudential Financial",
          "PwC",
          "PwC",
          "PwC",
          "PwC",
          "PwC",
          "PwC Canada",
          "PwC Canada",
          "PwC Canada",
          "RBC",
          "RBC",
          "RBC",
          "RBC",
          "RBC",
          "RBC Capital Markets",
          "RBC Dominion Securities",
          "Rivian",
          "S&P Global",
          "Skydio",
          "Softchoice",
          "Spectrum Brands, Inc",
          "TD",
          "The Estée Lauder Companies Inc.",
          "Tillman Digital Cities",
          "TrendMD",
          "Versuni",
          "Welch LLP",
          "加拿大多倫多大學",
          "Account Executive",
          "Account Manager",
          "Analytics Academic Consulting Project, Data Analyst",
          "Assistant Branch Manager",
          "Associate",
          "Associate, Career Launch Program",
          "Banking Advisor",
          "Business Development Manager",
          "Co-Founder",
          "Consultant",
          "Data Analyst",
          "Data Scientist",
          "Digital Marketing Coordinator",
          "Financial Advisor",
          "Manager",
          "Marketing Manager",
          "Marketing Specialist",
          "National Account Manager",
          "Partner",
          "President",
          "Product Manager",
          "Project Coordinator",
          "Research Assistant",
          "Senior Associate",
          "Senior Associate, Risk Assurance Services",
          "Senior Financial Auditor",
          "Senior Manager",
          "Senior Software Engineer",
          "Teaching Assistant"
         ],
         "marker": {
          "coloraxis": "coloraxis",
          "colors": [
           2,
           3,
           3,
           2,
           2,
           2,
           2,
           2,
           7,
           4,
           3,
           2,
           2,
           2,
           3,
           2,
           2,
           3,
           2,
           2,
           2,
           2,
           7,
           2,
           2,
           2,
           2,
           3,
           2,
           7,
           2,
           4,
           2,
           3,
           7,
           2,
           2,
           3,
           7,
           4,
           3,
           2,
           3,
           2,
           2,
           2,
           2,
           3,
           2,
           2,
           2,
           2,
           2,
           2,
           2,
           2,
           2,
           2,
           2,
           2,
           2,
           2,
           2,
           2,
           3,
           2,
           2,
           2,
           2,
           3,
           3,
           2,
           2,
           2,
           7,
           2,
           2,
           2,
           4,
           2,
           2,
           2,
           2,
           2,
           2,
           2,
           3,
           2,
           2
          ]
         },
         "name": "",
         "parents": [
          "Digital Marketing Coordinator",
          "Consultant",
          "Data Analyst",
          "Data Scientist",
          "Product Manager",
          "Analytics Academic Consulting Project, Data Analyst",
          "Account Manager",
          "Project Coordinator",
          "Manager",
          "Partner",
          "Data Analyst",
          "President",
          "Senior Financial Auditor",
          "Business Development Manager",
          "Consultant",
          "Marketing Manager",
          "Account Manager",
          "Consultant",
          "President",
          "Data Scientist",
          "Marketing Manager",
          "Account Executive",
          "Manager",
          "Project Coordinator",
          "Senior Financial Auditor",
          "Teaching Assistant",
          "Teaching Assistant",
          "Data Analyst",
          "Co-Founder",
          "Manager",
          "Co-Founder",
          "Partner",
          "Financial Advisor",
          "Associate",
          "Manager",
          "Senior Associate",
          "Senior Associate, Risk Assurance Services",
          "Senior Manager",
          "Manager",
          "Partner",
          "Senior Manager",
          "Assistant Branch Manager",
          "Associate",
          "Associate, Career Launch Program",
          "Banking Advisor",
          "Financial Advisor",
          "Associate, Career Launch Program",
          "Associate",
          "Senior Software Engineer",
          "Research Assistant",
          "Senior Software Engineer",
          "Digital Marketing Coordinator",
          "National Account Manager",
          "Analytics Academic Consulting Project, Data Analyst",
          "Marketing Specialist",
          "Account Executive",
          "Marketing Specialist",
          "National Account Manager",
          "Business Development Manager",
          "Research Assistant",
          "",
          "",
          "",
          "",
          "",
          "",
          "",
          "",
          "",
          "",
          "",
          "",
          "",
          "",
          "",
          "",
          "",
          "",
          "",
          "",
          "",
          "",
          "",
          "",
          "",
          "",
          "",
          "",
          ""
         ],
         "type": "treemap",
         "values": [
          1,
          1,
          1,
          1,
          2,
          1,
          1,
          1,
          1,
          1,
          1,
          1,
          1,
          1,
          1,
          1,
          1,
          1,
          1,
          1,
          1,
          1,
          1,
          1,
          1,
          1,
          1,
          1,
          1,
          1,
          1,
          1,
          1,
          1,
          3,
          2,
          2,
          2,
          1,
          2,
          1,
          2,
          1,
          1,
          2,
          1,
          1,
          1,
          1,
          1,
          1,
          1,
          1,
          1,
          1,
          1,
          1,
          1,
          1,
          1,
          2,
          2,
          2,
          2,
          3,
          2,
          2,
          2,
          2,
          3,
          3,
          2,
          2,
          2,
          7,
          2,
          2,
          2,
          4,
          2,
          2,
          2,
          2,
          2,
          2,
          2,
          3,
          2,
          2
         ]
        }
       ],
       "layout": {
        "coloraxis": {
         "cmid": 2.7971014492753623,
         "colorbar": {
          "title": {
           "text": "Count"
          }
         },
         "colorscale": [
          [
           0,
           "#000004"
          ],
          [
           0.1111111111111111,
           "#1b0c41"
          ],
          [
           0.2222222222222222,
           "#4a0c6b"
          ],
          [
           0.3333333333333333,
           "#781c6d"
          ],
          [
           0.4444444444444444,
           "#a52c60"
          ],
          [
           0.5555555555555556,
           "#cf4446"
          ],
          [
           0.6666666666666666,
           "#ed6925"
          ],
          [
           0.7777777777777778,
           "#fb9b06"
          ],
          [
           0.8888888888888888,
           "#f7d13d"
          ],
          [
           1,
           "#fcffa4"
          ]
         ]
        },
        "height": 1000,
        "legend": {
         "tracegroupgap": 0
        },
        "margin": {
         "t": 60
        },
        "template": {
         "data": {
          "bar": [
           {
            "error_x": {
             "color": "#2a3f5f"
            },
            "error_y": {
             "color": "#2a3f5f"
            },
            "marker": {
             "line": {
              "color": "#E5ECF6",
              "width": 0.5
             },
             "pattern": {
              "fillmode": "overlay",
              "size": 10,
              "solidity": 0.2
             }
            },
            "type": "bar"
           }
          ],
          "barpolar": [
           {
            "marker": {
             "line": {
              "color": "#E5ECF6",
              "width": 0.5
             },
             "pattern": {
              "fillmode": "overlay",
              "size": 10,
              "solidity": 0.2
             }
            },
            "type": "barpolar"
           }
          ],
          "carpet": [
           {
            "aaxis": {
             "endlinecolor": "#2a3f5f",
             "gridcolor": "white",
             "linecolor": "white",
             "minorgridcolor": "white",
             "startlinecolor": "#2a3f5f"
            },
            "baxis": {
             "endlinecolor": "#2a3f5f",
             "gridcolor": "white",
             "linecolor": "white",
             "minorgridcolor": "white",
             "startlinecolor": "#2a3f5f"
            },
            "type": "carpet"
           }
          ],
          "choropleth": [
           {
            "colorbar": {
             "outlinewidth": 0,
             "ticks": ""
            },
            "type": "choropleth"
           }
          ],
          "contour": [
           {
            "colorbar": {
             "outlinewidth": 0,
             "ticks": ""
            },
            "colorscale": [
             [
              0,
              "#0d0887"
             ],
             [
              0.1111111111111111,
              "#46039f"
             ],
             [
              0.2222222222222222,
              "#7201a8"
             ],
             [
              0.3333333333333333,
              "#9c179e"
             ],
             [
              0.4444444444444444,
              "#bd3786"
             ],
             [
              0.5555555555555556,
              "#d8576b"
             ],
             [
              0.6666666666666666,
              "#ed7953"
             ],
             [
              0.7777777777777778,
              "#fb9f3a"
             ],
             [
              0.8888888888888888,
              "#fdca26"
             ],
             [
              1,
              "#f0f921"
             ]
            ],
            "type": "contour"
           }
          ],
          "contourcarpet": [
           {
            "colorbar": {
             "outlinewidth": 0,
             "ticks": ""
            },
            "type": "contourcarpet"
           }
          ],
          "heatmap": [
           {
            "colorbar": {
             "outlinewidth": 0,
             "ticks": ""
            },
            "colorscale": [
             [
              0,
              "#0d0887"
             ],
             [
              0.1111111111111111,
              "#46039f"
             ],
             [
              0.2222222222222222,
              "#7201a8"
             ],
             [
              0.3333333333333333,
              "#9c179e"
             ],
             [
              0.4444444444444444,
              "#bd3786"
             ],
             [
              0.5555555555555556,
              "#d8576b"
             ],
             [
              0.6666666666666666,
              "#ed7953"
             ],
             [
              0.7777777777777778,
              "#fb9f3a"
             ],
             [
              0.8888888888888888,
              "#fdca26"
             ],
             [
              1,
              "#f0f921"
             ]
            ],
            "type": "heatmap"
           }
          ],
          "heatmapgl": [
           {
            "colorbar": {
             "outlinewidth": 0,
             "ticks": ""
            },
            "colorscale": [
             [
              0,
              "#0d0887"
             ],
             [
              0.1111111111111111,
              "#46039f"
             ],
             [
              0.2222222222222222,
              "#7201a8"
             ],
             [
              0.3333333333333333,
              "#9c179e"
             ],
             [
              0.4444444444444444,
              "#bd3786"
             ],
             [
              0.5555555555555556,
              "#d8576b"
             ],
             [
              0.6666666666666666,
              "#ed7953"
             ],
             [
              0.7777777777777778,
              "#fb9f3a"
             ],
             [
              0.8888888888888888,
              "#fdca26"
             ],
             [
              1,
              "#f0f921"
             ]
            ],
            "type": "heatmapgl"
           }
          ],
          "histogram": [
           {
            "marker": {
             "pattern": {
              "fillmode": "overlay",
              "size": 10,
              "solidity": 0.2
             }
            },
            "type": "histogram"
           }
          ],
          "histogram2d": [
           {
            "colorbar": {
             "outlinewidth": 0,
             "ticks": ""
            },
            "colorscale": [
             [
              0,
              "#0d0887"
             ],
             [
              0.1111111111111111,
              "#46039f"
             ],
             [
              0.2222222222222222,
              "#7201a8"
             ],
             [
              0.3333333333333333,
              "#9c179e"
             ],
             [
              0.4444444444444444,
              "#bd3786"
             ],
             [
              0.5555555555555556,
              "#d8576b"
             ],
             [
              0.6666666666666666,
              "#ed7953"
             ],
             [
              0.7777777777777778,
              "#fb9f3a"
             ],
             [
              0.8888888888888888,
              "#fdca26"
             ],
             [
              1,
              "#f0f921"
             ]
            ],
            "type": "histogram2d"
           }
          ],
          "histogram2dcontour": [
           {
            "colorbar": {
             "outlinewidth": 0,
             "ticks": ""
            },
            "colorscale": [
             [
              0,
              "#0d0887"
             ],
             [
              0.1111111111111111,
              "#46039f"
             ],
             [
              0.2222222222222222,
              "#7201a8"
             ],
             [
              0.3333333333333333,
              "#9c179e"
             ],
             [
              0.4444444444444444,
              "#bd3786"
             ],
             [
              0.5555555555555556,
              "#d8576b"
             ],
             [
              0.6666666666666666,
              "#ed7953"
             ],
             [
              0.7777777777777778,
              "#fb9f3a"
             ],
             [
              0.8888888888888888,
              "#fdca26"
             ],
             [
              1,
              "#f0f921"
             ]
            ],
            "type": "histogram2dcontour"
           }
          ],
          "mesh3d": [
           {
            "colorbar": {
             "outlinewidth": 0,
             "ticks": ""
            },
            "type": "mesh3d"
           }
          ],
          "parcoords": [
           {
            "line": {
             "colorbar": {
              "outlinewidth": 0,
              "ticks": ""
             }
            },
            "type": "parcoords"
           }
          ],
          "pie": [
           {
            "automargin": true,
            "type": "pie"
           }
          ],
          "scatter": [
           {
            "fillpattern": {
             "fillmode": "overlay",
             "size": 10,
             "solidity": 0.2
            },
            "type": "scatter"
           }
          ],
          "scatter3d": [
           {
            "line": {
             "colorbar": {
              "outlinewidth": 0,
              "ticks": ""
             }
            },
            "marker": {
             "colorbar": {
              "outlinewidth": 0,
              "ticks": ""
             }
            },
            "type": "scatter3d"
           }
          ],
          "scattercarpet": [
           {
            "marker": {
             "colorbar": {
              "outlinewidth": 0,
              "ticks": ""
             }
            },
            "type": "scattercarpet"
           }
          ],
          "scattergeo": [
           {
            "marker": {
             "colorbar": {
              "outlinewidth": 0,
              "ticks": ""
             }
            },
            "type": "scattergeo"
           }
          ],
          "scattergl": [
           {
            "marker": {
             "colorbar": {
              "outlinewidth": 0,
              "ticks": ""
             }
            },
            "type": "scattergl"
           }
          ],
          "scattermapbox": [
           {
            "marker": {
             "colorbar": {
              "outlinewidth": 0,
              "ticks": ""
             }
            },
            "type": "scattermapbox"
           }
          ],
          "scatterpolar": [
           {
            "marker": {
             "colorbar": {
              "outlinewidth": 0,
              "ticks": ""
             }
            },
            "type": "scatterpolar"
           }
          ],
          "scatterpolargl": [
           {
            "marker": {
             "colorbar": {
              "outlinewidth": 0,
              "ticks": ""
             }
            },
            "type": "scatterpolargl"
           }
          ],
          "scatterternary": [
           {
            "marker": {
             "colorbar": {
              "outlinewidth": 0,
              "ticks": ""
             }
            },
            "type": "scatterternary"
           }
          ],
          "surface": [
           {
            "colorbar": {
             "outlinewidth": 0,
             "ticks": ""
            },
            "colorscale": [
             [
              0,
              "#0d0887"
             ],
             [
              0.1111111111111111,
              "#46039f"
             ],
             [
              0.2222222222222222,
              "#7201a8"
             ],
             [
              0.3333333333333333,
              "#9c179e"
             ],
             [
              0.4444444444444444,
              "#bd3786"
             ],
             [
              0.5555555555555556,
              "#d8576b"
             ],
             [
              0.6666666666666666,
              "#ed7953"
             ],
             [
              0.7777777777777778,
              "#fb9f3a"
             ],
             [
              0.8888888888888888,
              "#fdca26"
             ],
             [
              1,
              "#f0f921"
             ]
            ],
            "type": "surface"
           }
          ],
          "table": [
           {
            "cells": {
             "fill": {
              "color": "#EBF0F8"
             },
             "line": {
              "color": "white"
             }
            },
            "header": {
             "fill": {
              "color": "#C8D4E3"
             },
             "line": {
              "color": "white"
             }
            },
            "type": "table"
           }
          ]
         },
         "layout": {
          "annotationdefaults": {
           "arrowcolor": "#2a3f5f",
           "arrowhead": 0,
           "arrowwidth": 1
          },
          "autotypenumbers": "strict",
          "coloraxis": {
           "colorbar": {
            "outlinewidth": 0,
            "ticks": ""
           }
          },
          "colorscale": {
           "diverging": [
            [
             0,
             "#8e0152"
            ],
            [
             0.1,
             "#c51b7d"
            ],
            [
             0.2,
             "#de77ae"
            ],
            [
             0.3,
             "#f1b6da"
            ],
            [
             0.4,
             "#fde0ef"
            ],
            [
             0.5,
             "#f7f7f7"
            ],
            [
             0.6,
             "#e6f5d0"
            ],
            [
             0.7,
             "#b8e186"
            ],
            [
             0.8,
             "#7fbc41"
            ],
            [
             0.9,
             "#4d9221"
            ],
            [
             1,
             "#276419"
            ]
           ],
           "sequential": [
            [
             0,
             "#0d0887"
            ],
            [
             0.1111111111111111,
             "#46039f"
            ],
            [
             0.2222222222222222,
             "#7201a8"
            ],
            [
             0.3333333333333333,
             "#9c179e"
            ],
            [
             0.4444444444444444,
             "#bd3786"
            ],
            [
             0.5555555555555556,
             "#d8576b"
            ],
            [
             0.6666666666666666,
             "#ed7953"
            ],
            [
             0.7777777777777778,
             "#fb9f3a"
            ],
            [
             0.8888888888888888,
             "#fdca26"
            ],
            [
             1,
             "#f0f921"
            ]
           ],
           "sequentialminus": [
            [
             0,
             "#0d0887"
            ],
            [
             0.1111111111111111,
             "#46039f"
            ],
            [
             0.2222222222222222,
             "#7201a8"
            ],
            [
             0.3333333333333333,
             "#9c179e"
            ],
            [
             0.4444444444444444,
             "#bd3786"
            ],
            [
             0.5555555555555556,
             "#d8576b"
            ],
            [
             0.6666666666666666,
             "#ed7953"
            ],
            [
             0.7777777777777778,
             "#fb9f3a"
            ],
            [
             0.8888888888888888,
             "#fdca26"
            ],
            [
             1,
             "#f0f921"
            ]
           ]
          },
          "colorway": [
           "#636efa",
           "#EF553B",
           "#00cc96",
           "#ab63fa",
           "#FFA15A",
           "#19d3f3",
           "#FF6692",
           "#B6E880",
           "#FF97FF",
           "#FECB52"
          ],
          "font": {
           "color": "#2a3f5f"
          },
          "geo": {
           "bgcolor": "white",
           "lakecolor": "white",
           "landcolor": "#E5ECF6",
           "showlakes": true,
           "showland": true,
           "subunitcolor": "white"
          },
          "hoverlabel": {
           "align": "left"
          },
          "hovermode": "closest",
          "mapbox": {
           "style": "light"
          },
          "paper_bgcolor": "white",
          "plot_bgcolor": "#E5ECF6",
          "polar": {
           "angularaxis": {
            "gridcolor": "white",
            "linecolor": "white",
            "ticks": ""
           },
           "bgcolor": "#E5ECF6",
           "radialaxis": {
            "gridcolor": "white",
            "linecolor": "white",
            "ticks": ""
           }
          },
          "scene": {
           "xaxis": {
            "backgroundcolor": "#E5ECF6",
            "gridcolor": "white",
            "gridwidth": 2,
            "linecolor": "white",
            "showbackground": true,
            "ticks": "",
            "zerolinecolor": "white"
           },
           "yaxis": {
            "backgroundcolor": "#E5ECF6",
            "gridcolor": "white",
            "gridwidth": 2,
            "linecolor": "white",
            "showbackground": true,
            "ticks": "",
            "zerolinecolor": "white"
           },
           "zaxis": {
            "backgroundcolor": "#E5ECF6",
            "gridcolor": "white",
            "gridwidth": 2,
            "linecolor": "white",
            "showbackground": true,
            "ticks": "",
            "zerolinecolor": "white"
           }
          },
          "shapedefaults": {
           "line": {
            "color": "#2a3f5f"
           }
          },
          "ternary": {
           "aaxis": {
            "gridcolor": "white",
            "linecolor": "white",
            "ticks": ""
           },
           "baxis": {
            "gridcolor": "white",
            "linecolor": "white",
            "ticks": ""
           },
           "bgcolor": "#E5ECF6",
           "caxis": {
            "gridcolor": "white",
            "linecolor": "white",
            "ticks": ""
           }
          },
          "title": {
           "x": 0.05
          },
          "xaxis": {
           "automargin": true,
           "gridcolor": "white",
           "linecolor": "white",
           "ticks": "",
           "title": {
            "standoff": 15
           },
           "zerolinecolor": "white",
           "zerolinewidth": 2
          },
          "yaxis": {
           "automargin": true,
           "gridcolor": "white",
           "linecolor": "white",
           "ticks": "",
           "title": {
            "standoff": 15
           },
           "zerolinecolor": "white",
           "zerolinewidth": 2
          }
         }
        },
        "width": 1000
       }
      },
      "text/html": [
       "<div>                            <div id=\"17f6f95f-bb1d-444a-9bf8-0c96e755643a\" class=\"plotly-graph-div\" style=\"height:1000px; width:1000px;\"></div>            <script type=\"text/javascript\">                require([\"plotly\"], function(Plotly) {                    window.PLOTLYENV=window.PLOTLYENV || {};                                    if (document.getElementById(\"17f6f95f-bb1d-444a-9bf8-0c96e755643a\")) {                    Plotly.newPlot(                        \"17f6f95f-bb1d-444a-9bf8-0c96e755643a\",                        [{\"branchvalues\":\"total\",\"customdata\":[[2.0],[3.0],[3.0],[2.0],[2.0],[2.0],[2.0],[2.0],[7.0],[4.0],[3.0],[2.0],[2.0],[2.0],[3.0],[2.0],[2.0],[3.0],[2.0],[2.0],[2.0],[2.0],[7.0],[2.0],[2.0],[2.0],[2.0],[3.0],[2.0],[7.0],[2.0],[4.0],[2.0],[3.0],[7.0],[2.0],[2.0],[3.0],[7.0],[4.0],[3.0],[2.0],[3.0],[2.0],[2.0],[2.0],[2.0],[3.0],[2.0],[2.0],[2.0],[2.0],[2.0],[2.0],[2.0],[2.0],[2.0],[2.0],[2.0],[2.0],[2.0],[2.0],[2.0],[2.0],[3.0],[2.0],[2.0],[2.0],[2.0],[3.0],[3.0],[2.0],[2.0],[2.0],[7.0],[2.0],[2.0],[2.0],[4.0],[2.0],[2.0],[2.0],[2.0],[2.0],[2.0],[2.0],[3.0],[2.0],[2.0]],\"domain\":{\"x\":[0.0,1.0],\"y\":[0.0,1.0]},\"hovertemplate\":\"labels=%{label}<br>count=%{value}<br>parent=%{parent}<br>id=%{id}<br>Count=%{color}<extra></extra>\",\"ids\":[\"Digital Marketing Coordinator/B'nai Brith Canada\",\"Consultant/BDC\",\"Data Analyst/BDC\",\"Data Scientist/BDC\",\"Product Manager/Bell\",\"Analytics Academic Consulting Project, Data Analyst/CAE Inc\",\"Account Manager/Civic Entertainment Group, LLC (A Seacrest Global Group Company)\",\"Project Coordinator/Dalhousie University \",\"Manager/Deloitte\",\"Partner/Deloitte Canada\",\"Data Analyst/Delve at Desautels McGill\",\"President/Desautels Graduate Student Society \",\"Senior Financial Auditor/EY\",\"Business Development Manager/Ebury\",\"Consultant/Ekimetrics\",\"Marketing Manager/Glion Institute of Higher Education\",\"Account Manager/Haribo Canada\",\"Consultant/Huron\",\"President/ICEAA Canada\",\"Data Scientist/Intel Corporation\",\"Marketing Manager/Iridian Spectral Technologies\",\"Account Executive/Irwin\",\"Manager/KPMG Canada\",\"Project Coordinator/Ledcor\",\"Senior Financial Auditor/Mazars\",\"Teaching Assistant/McGill University\",\"Teaching Assistant/McGill University - Desautels Faculty of Management\",\"Data Analyst/Mideast Data Systems\",\"Co-Founder/Nurture Lifestyle\",\"Manager/Pariveda Solutions\",\"Co-Founder/Plus 5XP\",\"Partner/PricewaterhouseCoopers LLP\",\"Financial Advisor/Prudential Financial\",\"Associate/PwC\",\"Manager/PwC\",\"Senior Associate/PwC\",\"Senior Associate, Risk Assurance Services/PwC\",\"Senior Manager/PwC\",\"Manager/PwC Canada\",\"Partner/PwC Canada\",\"Senior Manager/PwC Canada\",\"Assistant Branch Manager/RBC\",\"Associate/RBC\",\"Associate, Career Launch Program/RBC\",\"Banking Advisor/RBC\",\"Financial Advisor/RBC\",\"Associate, Career Launch Program/RBC Capital Markets\",\"Associate/RBC Dominion Securities\",\"Senior Software Engineer/Rivian\",\"Research Assistant/S&P Global\",\"Senior Software Engineer/Skydio\",\"Digital Marketing Coordinator/Softchoice\",\"National Account Manager/Spectrum Brands, Inc\",\"Analytics Academic Consulting Project, Data Analyst/TD\",\"Marketing Specialist/The Est\\u00e9e Lauder Companies Inc.\",\"Account Executive/Tillman Digital Cities\",\"Marketing Specialist/TrendMD\",\"National Account Manager/Versuni\",\"Business Development Manager/Welch LLP\",\"Research Assistant/\\u52a0\\u62ff\\u5927\\u591a\\u502b\\u591a\\u5927\\u5b78\",\"Account Executive\",\"Account Manager\",\"Analytics Academic Consulting Project, Data Analyst\",\"Assistant Branch Manager\",\"Associate\",\"Associate, Career Launch Program\",\"Banking Advisor\",\"Business Development Manager\",\"Co-Founder\",\"Consultant\",\"Data Analyst\",\"Data Scientist\",\"Digital Marketing Coordinator\",\"Financial Advisor\",\"Manager\",\"Marketing Manager\",\"Marketing Specialist\",\"National Account Manager\",\"Partner\",\"President\",\"Product Manager\",\"Project Coordinator\",\"Research Assistant\",\"Senior Associate\",\"Senior Associate, Risk Assurance Services\",\"Senior Financial Auditor\",\"Senior Manager\",\"Senior Software Engineer\",\"Teaching Assistant\"],\"labels\":[\"B'nai Brith Canada\",\"BDC\",\"BDC\",\"BDC\",\"Bell\",\"CAE Inc\",\"Civic Entertainment Group, LLC (A Seacrest Global Group Company)\",\"Dalhousie University \",\"Deloitte\",\"Deloitte Canada\",\"Delve at Desautels McGill\",\"Desautels Graduate Student Society \",\"EY\",\"Ebury\",\"Ekimetrics\",\"Glion Institute of Higher Education\",\"Haribo Canada\",\"Huron\",\"ICEAA Canada\",\"Intel Corporation\",\"Iridian Spectral Technologies\",\"Irwin\",\"KPMG Canada\",\"Ledcor\",\"Mazars\",\"McGill University\",\"McGill University - Desautels Faculty of Management\",\"Mideast Data Systems\",\"Nurture Lifestyle\",\"Pariveda Solutions\",\"Plus 5XP\",\"PricewaterhouseCoopers LLP\",\"Prudential Financial\",\"PwC\",\"PwC\",\"PwC\",\"PwC\",\"PwC\",\"PwC Canada\",\"PwC Canada\",\"PwC Canada\",\"RBC\",\"RBC\",\"RBC\",\"RBC\",\"RBC\",\"RBC Capital Markets\",\"RBC Dominion Securities\",\"Rivian\",\"S&P Global\",\"Skydio\",\"Softchoice\",\"Spectrum Brands, Inc\",\"TD\",\"The Est\\u00e9e Lauder Companies Inc.\",\"Tillman Digital Cities\",\"TrendMD\",\"Versuni\",\"Welch LLP\",\"\\u52a0\\u62ff\\u5927\\u591a\\u502b\\u591a\\u5927\\u5b78\",\"Account Executive\",\"Account Manager\",\"Analytics Academic Consulting Project, Data Analyst\",\"Assistant Branch Manager\",\"Associate\",\"Associate, Career Launch Program\",\"Banking Advisor\",\"Business Development Manager\",\"Co-Founder\",\"Consultant\",\"Data Analyst\",\"Data Scientist\",\"Digital Marketing Coordinator\",\"Financial Advisor\",\"Manager\",\"Marketing Manager\",\"Marketing Specialist\",\"National Account Manager\",\"Partner\",\"President\",\"Product Manager\",\"Project Coordinator\",\"Research Assistant\",\"Senior Associate\",\"Senior Associate, Risk Assurance Services\",\"Senior Financial Auditor\",\"Senior Manager\",\"Senior Software Engineer\",\"Teaching Assistant\"],\"marker\":{\"coloraxis\":\"coloraxis\",\"colors\":[2.0,3.0,3.0,2.0,2.0,2.0,2.0,2.0,7.0,4.0,3.0,2.0,2.0,2.0,3.0,2.0,2.0,3.0,2.0,2.0,2.0,2.0,7.0,2.0,2.0,2.0,2.0,3.0,2.0,7.0,2.0,4.0,2.0,3.0,7.0,2.0,2.0,3.0,7.0,4.0,3.0,2.0,3.0,2.0,2.0,2.0,2.0,3.0,2.0,2.0,2.0,2.0,2.0,2.0,2.0,2.0,2.0,2.0,2.0,2.0,2.0,2.0,2.0,2.0,3.0,2.0,2.0,2.0,2.0,3.0,3.0,2.0,2.0,2.0,7.0,2.0,2.0,2.0,4.0,2.0,2.0,2.0,2.0,2.0,2.0,2.0,3.0,2.0,2.0]},\"name\":\"\",\"parents\":[\"Digital Marketing Coordinator\",\"Consultant\",\"Data Analyst\",\"Data Scientist\",\"Product Manager\",\"Analytics Academic Consulting Project, Data Analyst\",\"Account Manager\",\"Project Coordinator\",\"Manager\",\"Partner\",\"Data Analyst\",\"President\",\"Senior Financial Auditor\",\"Business Development Manager\",\"Consultant\",\"Marketing Manager\",\"Account Manager\",\"Consultant\",\"President\",\"Data Scientist\",\"Marketing Manager\",\"Account Executive\",\"Manager\",\"Project Coordinator\",\"Senior Financial Auditor\",\"Teaching Assistant\",\"Teaching Assistant\",\"Data Analyst\",\"Co-Founder\",\"Manager\",\"Co-Founder\",\"Partner\",\"Financial Advisor\",\"Associate\",\"Manager\",\"Senior Associate\",\"Senior Associate, Risk Assurance Services\",\"Senior Manager\",\"Manager\",\"Partner\",\"Senior Manager\",\"Assistant Branch Manager\",\"Associate\",\"Associate, Career Launch Program\",\"Banking Advisor\",\"Financial Advisor\",\"Associate, Career Launch Program\",\"Associate\",\"Senior Software Engineer\",\"Research Assistant\",\"Senior Software Engineer\",\"Digital Marketing Coordinator\",\"National Account Manager\",\"Analytics Academic Consulting Project, Data Analyst\",\"Marketing Specialist\",\"Account Executive\",\"Marketing Specialist\",\"National Account Manager\",\"Business Development Manager\",\"Research Assistant\",\"\",\"\",\"\",\"\",\"\",\"\",\"\",\"\",\"\",\"\",\"\",\"\",\"\",\"\",\"\",\"\",\"\",\"\",\"\",\"\",\"\",\"\",\"\",\"\",\"\",\"\",\"\",\"\",\"\"],\"values\":[1,1,1,1,2,1,1,1,1,1,1,1,1,1,1,1,1,1,1,1,1,1,1,1,1,1,1,1,1,1,1,1,1,1,3,2,2,2,1,2,1,2,1,1,2,1,1,1,1,1,1,1,1,1,1,1,1,1,1,1,2,2,2,2,3,2,2,2,2,3,3,2,2,2,7,2,2,2,4,2,2,2,2,2,2,2,3,2,2],\"type\":\"treemap\"}],                        {\"template\":{\"data\":{\"histogram2dcontour\":[{\"type\":\"histogram2dcontour\",\"colorbar\":{\"outlinewidth\":0,\"ticks\":\"\"},\"colorscale\":[[0.0,\"#0d0887\"],[0.1111111111111111,\"#46039f\"],[0.2222222222222222,\"#7201a8\"],[0.3333333333333333,\"#9c179e\"],[0.4444444444444444,\"#bd3786\"],[0.5555555555555556,\"#d8576b\"],[0.6666666666666666,\"#ed7953\"],[0.7777777777777778,\"#fb9f3a\"],[0.8888888888888888,\"#fdca26\"],[1.0,\"#f0f921\"]]}],\"choropleth\":[{\"type\":\"choropleth\",\"colorbar\":{\"outlinewidth\":0,\"ticks\":\"\"}}],\"histogram2d\":[{\"type\":\"histogram2d\",\"colorbar\":{\"outlinewidth\":0,\"ticks\":\"\"},\"colorscale\":[[0.0,\"#0d0887\"],[0.1111111111111111,\"#46039f\"],[0.2222222222222222,\"#7201a8\"],[0.3333333333333333,\"#9c179e\"],[0.4444444444444444,\"#bd3786\"],[0.5555555555555556,\"#d8576b\"],[0.6666666666666666,\"#ed7953\"],[0.7777777777777778,\"#fb9f3a\"],[0.8888888888888888,\"#fdca26\"],[1.0,\"#f0f921\"]]}],\"heatmap\":[{\"type\":\"heatmap\",\"colorbar\":{\"outlinewidth\":0,\"ticks\":\"\"},\"colorscale\":[[0.0,\"#0d0887\"],[0.1111111111111111,\"#46039f\"],[0.2222222222222222,\"#7201a8\"],[0.3333333333333333,\"#9c179e\"],[0.4444444444444444,\"#bd3786\"],[0.5555555555555556,\"#d8576b\"],[0.6666666666666666,\"#ed7953\"],[0.7777777777777778,\"#fb9f3a\"],[0.8888888888888888,\"#fdca26\"],[1.0,\"#f0f921\"]]}],\"heatmapgl\":[{\"type\":\"heatmapgl\",\"colorbar\":{\"outlinewidth\":0,\"ticks\":\"\"},\"colorscale\":[[0.0,\"#0d0887\"],[0.1111111111111111,\"#46039f\"],[0.2222222222222222,\"#7201a8\"],[0.3333333333333333,\"#9c179e\"],[0.4444444444444444,\"#bd3786\"],[0.5555555555555556,\"#d8576b\"],[0.6666666666666666,\"#ed7953\"],[0.7777777777777778,\"#fb9f3a\"],[0.8888888888888888,\"#fdca26\"],[1.0,\"#f0f921\"]]}],\"contourcarpet\":[{\"type\":\"contourcarpet\",\"colorbar\":{\"outlinewidth\":0,\"ticks\":\"\"}}],\"contour\":[{\"type\":\"contour\",\"colorbar\":{\"outlinewidth\":0,\"ticks\":\"\"},\"colorscale\":[[0.0,\"#0d0887\"],[0.1111111111111111,\"#46039f\"],[0.2222222222222222,\"#7201a8\"],[0.3333333333333333,\"#9c179e\"],[0.4444444444444444,\"#bd3786\"],[0.5555555555555556,\"#d8576b\"],[0.6666666666666666,\"#ed7953\"],[0.7777777777777778,\"#fb9f3a\"],[0.8888888888888888,\"#fdca26\"],[1.0,\"#f0f921\"]]}],\"surface\":[{\"type\":\"surface\",\"colorbar\":{\"outlinewidth\":0,\"ticks\":\"\"},\"colorscale\":[[0.0,\"#0d0887\"],[0.1111111111111111,\"#46039f\"],[0.2222222222222222,\"#7201a8\"],[0.3333333333333333,\"#9c179e\"],[0.4444444444444444,\"#bd3786\"],[0.5555555555555556,\"#d8576b\"],[0.6666666666666666,\"#ed7953\"],[0.7777777777777778,\"#fb9f3a\"],[0.8888888888888888,\"#fdca26\"],[1.0,\"#f0f921\"]]}],\"mesh3d\":[{\"type\":\"mesh3d\",\"colorbar\":{\"outlinewidth\":0,\"ticks\":\"\"}}],\"scatter\":[{\"fillpattern\":{\"fillmode\":\"overlay\",\"size\":10,\"solidity\":0.2},\"type\":\"scatter\"}],\"parcoords\":[{\"type\":\"parcoords\",\"line\":{\"colorbar\":{\"outlinewidth\":0,\"ticks\":\"\"}}}],\"scatterpolargl\":[{\"type\":\"scatterpolargl\",\"marker\":{\"colorbar\":{\"outlinewidth\":0,\"ticks\":\"\"}}}],\"bar\":[{\"error_x\":{\"color\":\"#2a3f5f\"},\"error_y\":{\"color\":\"#2a3f5f\"},\"marker\":{\"line\":{\"color\":\"#E5ECF6\",\"width\":0.5},\"pattern\":{\"fillmode\":\"overlay\",\"size\":10,\"solidity\":0.2}},\"type\":\"bar\"}],\"scattergeo\":[{\"type\":\"scattergeo\",\"marker\":{\"colorbar\":{\"outlinewidth\":0,\"ticks\":\"\"}}}],\"scatterpolar\":[{\"type\":\"scatterpolar\",\"marker\":{\"colorbar\":{\"outlinewidth\":0,\"ticks\":\"\"}}}],\"histogram\":[{\"marker\":{\"pattern\":{\"fillmode\":\"overlay\",\"size\":10,\"solidity\":0.2}},\"type\":\"histogram\"}],\"scattergl\":[{\"type\":\"scattergl\",\"marker\":{\"colorbar\":{\"outlinewidth\":0,\"ticks\":\"\"}}}],\"scatter3d\":[{\"type\":\"scatter3d\",\"line\":{\"colorbar\":{\"outlinewidth\":0,\"ticks\":\"\"}},\"marker\":{\"colorbar\":{\"outlinewidth\":0,\"ticks\":\"\"}}}],\"scattermapbox\":[{\"type\":\"scattermapbox\",\"marker\":{\"colorbar\":{\"outlinewidth\":0,\"ticks\":\"\"}}}],\"scatterternary\":[{\"type\":\"scatterternary\",\"marker\":{\"colorbar\":{\"outlinewidth\":0,\"ticks\":\"\"}}}],\"scattercarpet\":[{\"type\":\"scattercarpet\",\"marker\":{\"colorbar\":{\"outlinewidth\":0,\"ticks\":\"\"}}}],\"carpet\":[{\"aaxis\":{\"endlinecolor\":\"#2a3f5f\",\"gridcolor\":\"white\",\"linecolor\":\"white\",\"minorgridcolor\":\"white\",\"startlinecolor\":\"#2a3f5f\"},\"baxis\":{\"endlinecolor\":\"#2a3f5f\",\"gridcolor\":\"white\",\"linecolor\":\"white\",\"minorgridcolor\":\"white\",\"startlinecolor\":\"#2a3f5f\"},\"type\":\"carpet\"}],\"table\":[{\"cells\":{\"fill\":{\"color\":\"#EBF0F8\"},\"line\":{\"color\":\"white\"}},\"header\":{\"fill\":{\"color\":\"#C8D4E3\"},\"line\":{\"color\":\"white\"}},\"type\":\"table\"}],\"barpolar\":[{\"marker\":{\"line\":{\"color\":\"#E5ECF6\",\"width\":0.5},\"pattern\":{\"fillmode\":\"overlay\",\"size\":10,\"solidity\":0.2}},\"type\":\"barpolar\"}],\"pie\":[{\"automargin\":true,\"type\":\"pie\"}]},\"layout\":{\"autotypenumbers\":\"strict\",\"colorway\":[\"#636efa\",\"#EF553B\",\"#00cc96\",\"#ab63fa\",\"#FFA15A\",\"#19d3f3\",\"#FF6692\",\"#B6E880\",\"#FF97FF\",\"#FECB52\"],\"font\":{\"color\":\"#2a3f5f\"},\"hovermode\":\"closest\",\"hoverlabel\":{\"align\":\"left\"},\"paper_bgcolor\":\"white\",\"plot_bgcolor\":\"#E5ECF6\",\"polar\":{\"bgcolor\":\"#E5ECF6\",\"angularaxis\":{\"gridcolor\":\"white\",\"linecolor\":\"white\",\"ticks\":\"\"},\"radialaxis\":{\"gridcolor\":\"white\",\"linecolor\":\"white\",\"ticks\":\"\"}},\"ternary\":{\"bgcolor\":\"#E5ECF6\",\"aaxis\":{\"gridcolor\":\"white\",\"linecolor\":\"white\",\"ticks\":\"\"},\"baxis\":{\"gridcolor\":\"white\",\"linecolor\":\"white\",\"ticks\":\"\"},\"caxis\":{\"gridcolor\":\"white\",\"linecolor\":\"white\",\"ticks\":\"\"}},\"coloraxis\":{\"colorbar\":{\"outlinewidth\":0,\"ticks\":\"\"}},\"colorscale\":{\"sequential\":[[0.0,\"#0d0887\"],[0.1111111111111111,\"#46039f\"],[0.2222222222222222,\"#7201a8\"],[0.3333333333333333,\"#9c179e\"],[0.4444444444444444,\"#bd3786\"],[0.5555555555555556,\"#d8576b\"],[0.6666666666666666,\"#ed7953\"],[0.7777777777777778,\"#fb9f3a\"],[0.8888888888888888,\"#fdca26\"],[1.0,\"#f0f921\"]],\"sequentialminus\":[[0.0,\"#0d0887\"],[0.1111111111111111,\"#46039f\"],[0.2222222222222222,\"#7201a8\"],[0.3333333333333333,\"#9c179e\"],[0.4444444444444444,\"#bd3786\"],[0.5555555555555556,\"#d8576b\"],[0.6666666666666666,\"#ed7953\"],[0.7777777777777778,\"#fb9f3a\"],[0.8888888888888888,\"#fdca26\"],[1.0,\"#f0f921\"]],\"diverging\":[[0,\"#8e0152\"],[0.1,\"#c51b7d\"],[0.2,\"#de77ae\"],[0.3,\"#f1b6da\"],[0.4,\"#fde0ef\"],[0.5,\"#f7f7f7\"],[0.6,\"#e6f5d0\"],[0.7,\"#b8e186\"],[0.8,\"#7fbc41\"],[0.9,\"#4d9221\"],[1,\"#276419\"]]},\"xaxis\":{\"gridcolor\":\"white\",\"linecolor\":\"white\",\"ticks\":\"\",\"title\":{\"standoff\":15},\"zerolinecolor\":\"white\",\"automargin\":true,\"zerolinewidth\":2},\"yaxis\":{\"gridcolor\":\"white\",\"linecolor\":\"white\",\"ticks\":\"\",\"title\":{\"standoff\":15},\"zerolinecolor\":\"white\",\"automargin\":true,\"zerolinewidth\":2},\"scene\":{\"xaxis\":{\"backgroundcolor\":\"#E5ECF6\",\"gridcolor\":\"white\",\"linecolor\":\"white\",\"showbackground\":true,\"ticks\":\"\",\"zerolinecolor\":\"white\",\"gridwidth\":2},\"yaxis\":{\"backgroundcolor\":\"#E5ECF6\",\"gridcolor\":\"white\",\"linecolor\":\"white\",\"showbackground\":true,\"ticks\":\"\",\"zerolinecolor\":\"white\",\"gridwidth\":2},\"zaxis\":{\"backgroundcolor\":\"#E5ECF6\",\"gridcolor\":\"white\",\"linecolor\":\"white\",\"showbackground\":true,\"ticks\":\"\",\"zerolinecolor\":\"white\",\"gridwidth\":2}},\"shapedefaults\":{\"line\":{\"color\":\"#2a3f5f\"}},\"annotationdefaults\":{\"arrowcolor\":\"#2a3f5f\",\"arrowhead\":0,\"arrowwidth\":1},\"geo\":{\"bgcolor\":\"white\",\"landcolor\":\"#E5ECF6\",\"subunitcolor\":\"white\",\"showland\":true,\"showlakes\":true,\"lakecolor\":\"white\"},\"title\":{\"x\":0.05},\"mapbox\":{\"style\":\"light\"}}},\"coloraxis\":{\"colorbar\":{\"title\":{\"text\":\"Count\"}},\"colorscale\":[[0.0,\"#000004\"],[0.1111111111111111,\"#1b0c41\"],[0.2222222222222222,\"#4a0c6b\"],[0.3333333333333333,\"#781c6d\"],[0.4444444444444444,\"#a52c60\"],[0.5555555555555556,\"#cf4446\"],[0.6666666666666666,\"#ed6925\"],[0.7777777777777778,\"#fb9b06\"],[0.8888888888888888,\"#f7d13d\"],[1.0,\"#fcffa4\"]],\"cmid\":2.7971014492753623},\"legend\":{\"tracegroupgap\":0},\"margin\":{\"t\":60},\"height\":1000,\"width\":1000},                        {\"responsive\": true}                    ).then(function(){\n",
       "                            \n",
       "var gd = document.getElementById('17f6f95f-bb1d-444a-9bf8-0c96e755643a');\n",
       "var x = new MutationObserver(function (mutations, observer) {{\n",
       "        var display = window.getComputedStyle(gd).display;\n",
       "        if (!display || display === 'none') {{\n",
       "            console.log([gd, 'removed!']);\n",
       "            Plotly.purge(gd);\n",
       "            observer.disconnect();\n",
       "        }}\n",
       "}});\n",
       "\n",
       "// Listen for the removal of the full notebook cells\n",
       "var notebookContainer = gd.closest('#notebook-container');\n",
       "if (notebookContainer) {{\n",
       "    x.observe(notebookContainer, {childList: true});\n",
       "}}\n",
       "\n",
       "// Listen for the clearing of the current output cell\n",
       "var outputEl = gd.closest('.output');\n",
       "if (outputEl) {{\n",
       "    x.observe(outputEl, {childList: true});\n",
       "}}\n",
       "\n",
       "                        })                };                });            </script>        </div>"
      ]
     },
     "metadata": {},
     "output_type": "display_data"
    }
   ],
   "source": [
    "df1=df.groupby(\"Position\").filter(lambda x: len(x) > 1)\n",
    "df1['Count'] = df1.groupby('Position')['Position'].transform('size')\n",
    "df1['Count']=df1['Count'].astype(int)\n",
    "px.treemap(df1, path=['Position','Company'],\n",
    "           width=1000,\n",
    "           height=1000,\n",
    "           color='Count',\n",
    "           color_continuous_scale='Inferno',\n",
    "           color_continuous_midpoint=np.average(df1['Count']))"
   ]
  },
  {
   "cell_type": "code",
   "execution_count": 65,
   "id": "922d85f7",
   "metadata": {},
   "outputs": [],
   "source": [
    "df = pd.read_csv('Julie_Connections.csv',skiprows=3)\n",
    "df1=df.groupby(\"Company\").filter(lambda x: len(x) > 1)\n",
    "df1['Count'] = df1.groupby('Company')['Company'].transform('size')\n",
    "df1['Count']=df1['Count'].astype(int)"
   ]
  },
  {
   "cell_type": "code",
   "execution_count": 66,
   "id": "0e917497",
   "metadata": {},
   "outputs": [
    {
     "data": {
      "application/vnd.plotly.v1+json": {
       "config": {
        "plotlyServerURL": "https://plot.ly"
       },
       "data": [
        {
         "branchvalues": "total",
         "customdata": [
          [
           6
          ],
          [
           16
          ],
          [
           2
          ],
          [
           6
          ],
          [
           7
          ],
          [
           7
          ],
          [
           16
          ],
          [
           8
          ],
          [
           2
          ],
          [
           5
          ],
          [
           9
          ],
          [
           9
          ],
          [
           3
          ],
          [
           3
          ],
          [
           3
          ],
          [
           2
          ],
          [
           9
          ],
          [
           2
          ],
          [
           8
          ],
          [
           2
          ],
          [
           3
          ],
          [
           2
          ],
          [
           5
          ],
          [
           9
          ],
          [
           4
          ],
          [
           7
          ],
          [
           3
          ],
          [
           4
          ],
          [
           2
          ],
          [
           3
          ],
          [
           4
          ],
          [
           2
          ],
          [
           3
          ],
          [
           4
          ],
          [
           5
          ],
          [
           3
          ],
          [
           3
          ],
          [
           2
          ],
          [
           2
          ],
          [
           5
          ],
          [
           8
          ],
          [
           6
          ],
          [
           2
          ],
          [
           5
          ],
          [
           2
          ],
          [
           6
          ],
          [
           8
          ],
          [
           7
          ],
          [
           6
          ],
          [
           5
          ],
          [
           6
          ],
          [
           2
          ],
          [
           8
          ],
          [
           3
          ],
          [
           6
          ],
          [
           7
          ],
          [
           5
          ],
          [
           4
          ],
          [
           4
          ],
          [
           16
          ],
          [
           5
          ],
          [
           16
          ],
          [
           2
          ],
          [
           5
          ],
          [
           6
          ],
          [
           6
          ],
          [
           2
          ],
          [
           2
          ],
          [
           2
          ],
          [
           6
          ],
          [
           2
          ],
          [
           5
          ],
          [
           2
          ],
          [
           6
          ],
          [
           8
          ],
          [
           12
          ],
          [
           2
          ],
          [
           3
          ],
          [
           3
          ],
          [
           3
          ],
          [
           3
          ],
          [
           8
          ],
          [
           3
          ],
          [
           8
          ],
          [
           2
          ],
          [
           9
          ],
          [
           2
          ],
          [
           2
          ],
          [
           5
          ],
          [
           2
          ],
          [
           2
          ],
          [
           8
          ],
          [
           5
          ],
          [
           3
          ],
          [
           9
          ],
          [
           12
          ],
          [
           7
          ],
          [
           3
          ],
          [
           12
          ],
          [
           9
          ],
          [
           4
          ],
          [
           3
          ],
          [
           6
          ],
          [
           5
          ],
          [
           4
          ],
          [
           4
          ],
          [
           4
          ],
          [
           6
          ],
          [
           9
          ],
          [
           5
          ],
          [
           6
          ],
          [
           7
          ],
          [
           9
          ],
          [
           3
          ],
          [
           5
          ],
          [
           3
          ],
          [
           5
          ],
          [
           2
          ],
          [
           3
          ],
          [
           4
          ],
          [
           2
          ],
          [
           9
          ],
          [
           2
          ],
          [
           3
          ],
          [
           3
          ],
          [
           3
          ],
          [
           2
          ],
          [
           3
          ],
          [
           3
          ],
          [
           2
          ],
          [
           2
          ],
          [
           3
          ],
          [
           3
          ],
          [
           2
          ],
          [
           2
          ],
          [
           3
          ],
          [
           5
          ],
          [
           5
          ],
          [
           8
          ],
          [
           3
          ],
          [
           8
          ],
          [
           5
          ],
          [
           5
          ],
          [
           2
          ],
          [
           5
          ],
          [
           5
          ],
          [
           4
          ],
          [
           4
          ],
          [
           4
          ],
          [
           8
          ],
          [
           2
          ],
          [
           5
          ],
          [
           2
          ],
          [
           4
          ],
          [
           2
          ],
          [
           5
          ],
          [
           4
          ],
          [
           5
          ],
          [
           16
          ],
          [
           16
          ],
          [
           6
          ],
          [
           3
          ],
          [
           2
          ],
          [
           2
          ],
          [
           9
          ],
          [
           2
          ],
          [
           2
          ],
          [
           2
          ],
          [
           2
          ],
          [
           7
          ],
          [
           16
          ],
          [
           12
          ],
          [
           16
          ],
          [
           12
          ],
          [
           6
          ],
          [
           2
          ],
          [
           2
          ],
          [
           16
          ],
          [
           5
          ],
          [
           2
          ],
          [
           6
          ],
          [
           7
          ],
          [
           6
          ],
          [
           5
          ],
          [
           5
          ],
          [
           6
          ],
          [
           7
          ],
          [
           5
          ],
          [
           4
          ],
          [
           3
          ],
          [
           16
          ],
          [
           2
          ],
          [
           2
          ],
          [
           2
          ],
          [
           4
          ],
          [
           6
          ],
          [
           9
          ],
          [
           5
          ],
          [
           2
          ],
          [
           3
          ],
          [
           2
          ],
          [
           2
          ],
          [
           2
          ],
          [
           2
          ],
          [
           9
          ],
          [
           6
          ],
          [
           16
          ],
          [
           2
          ],
          [
           3
          ],
          [
           4
          ],
          [
           3
          ],
          [
           3
          ],
          [
           8
          ],
          [
           7
          ],
          [
           2
          ],
          [
           7
          ],
          [
           2
          ],
          [
           3
          ],
          [
           7
          ],
          [
           4
          ],
          [
           7
          ],
          [
           2
          ],
          [
           4
          ],
          [
           6
          ],
          [
           2
          ],
          [
           7
          ],
          [
           7
          ],
          [
           5
          ],
          [
           3
          ],
          [
           12
          ],
          [
           3
          ],
          [
           3
          ],
          [
           3
          ],
          [
           7
          ],
          [
           3
          ],
          [
           3
          ],
          [
           6
          ],
          [
           3
          ],
          [
           9
          ],
          [
           3
          ],
          [
           12
          ],
          [
           5
          ],
          [
           3
          ],
          [
           2
          ],
          [
           4
          ],
          [
           2
          ],
          [
           2
          ],
          [
           2
          ],
          [
           6
          ],
          [
           3
          ],
          [
           3
          ],
          [
           3
          ],
          [
           2
          ],
          [
           16
          ],
          [
           16
          ],
          [
           2
          ],
          [
           16
          ],
          [
           2
          ],
          [
           7
          ],
          [
           7
          ],
          [
           2
          ],
          [
           2
          ],
          [
           2
          ],
          [
           3
          ],
          [
           9
          ],
          [
           9
          ],
          [
           5
          ],
          [
           2
          ],
          [
           2
          ],
          [
           6
          ],
          [
           2
          ],
          [
           9
          ],
          [
           6
          ],
          [
           12
          ],
          [
           12
          ],
          [
           4
          ],
          [
           3
          ],
          [
           4
          ],
          [
           7
          ],
          [
           12
          ],
          [
           4
          ],
          [
           3
          ],
          [
           12
          ],
          [
           12
          ],
          [
           7
          ],
          [
           2
          ],
          [
           9
          ],
          [
           5
          ],
          [
           7
          ],
          [
           7
          ],
          [
           2
          ],
          [
           5
          ],
          [
           3
          ],
          [
           4
          ],
          [
           7
          ],
          [
           7
          ],
          [
           2
          ],
          [
           4
          ],
          [
           2
          ],
          [
           2
          ],
          [
           3
          ],
          [
           2
          ],
          [
           6
          ],
          [
           2
          ],
          [
           8
          ],
          [
           6
          ],
          [
           7
          ],
          [
           7
          ],
          [
           2
          ],
          [
           4
          ],
          [
           5
          ],
          [
           3
          ],
          [
           3
          ],
          [
           8
          ],
          [
           16
          ],
          [
           6
          ],
          [
           8
          ],
          [
           2
          ],
          [
           3
          ],
          [
           7
          ],
          [
           3
          ],
          [
           3
          ],
          [
           2
          ],
          [
           4
          ],
          [
           3
          ],
          [
           7
          ],
          [
           16
          ],
          [
           3
          ],
          [
           3
          ],
          [
           2
          ],
          [
           2
          ],
          [
           7
          ],
          [
           5
          ],
          [
           2
          ],
          [
           2
          ],
          [
           2
          ],
          [
           2
          ],
          [
           6
          ],
          [
           2
          ],
          [
           4
          ],
          [
           3
          ],
          [
           2
          ],
          [
           5
          ],
          [
           2
          ],
          [
           2
          ],
          [
           7
          ],
          [
           2
          ],
          [
           4
          ],
          [
           3
          ],
          [
           4
          ],
          [
           3
          ],
          [
           7
          ],
          [
           4
          ],
          [
           3
          ],
          [
           2
          ],
          [
           6
          ],
          [
           5
          ],
          [
           9
          ],
          [
           2
          ],
          [
           2
          ],
          [
           3
          ],
          [
           7
          ],
          [
           8
          ],
          [
           3
          ],
          [
           2
          ],
          [
           5
          ],
          [
           2
          ],
          [
           2
          ],
          [
           2
          ],
          [
           16
          ],
          [
           6
          ],
          [
           2
          ],
          [
           2
          ],
          [
           2
          ],
          [
           3
          ],
          [
           2
          ],
          [
           3
          ],
          [
           2
          ],
          [
           2
          ],
          [
           12
          ],
          [
           2
          ],
          [
           5
          ],
          [
           2
          ],
          [
           5
          ],
          [
           2
          ],
          [
           2
          ],
          [
           7
          ],
          [
           4
          ],
          [
           3
          ],
          [
           2
          ],
          [
           8
          ],
          [
           2
          ],
          [
           2
          ],
          [
           3
          ],
          [
           2
          ],
          [
           2
          ],
          [
           2
          ],
          [
           3
          ],
          [
           6
          ],
          [
           5
          ],
          [
           3
          ],
          [
           3
          ],
          [
           4
          ],
          [
           2
          ],
          [
           2
          ],
          [
           2
          ],
          [
           5
          ],
          [
           2
          ],
          [
           2
          ],
          [
           4
          ],
          [
           3
          ],
          [
           2
          ],
          [
           4
          ],
          [
           3
          ],
          [
           2
          ],
          [
           3
          ],
          [
           2
          ],
          [
           6
          ],
          [
           2
          ],
          [
           2
          ],
          [
           3
          ],
          [
           3
          ],
          [
           3
          ],
          [
           3
          ],
          [
           9
          ],
          [
           3
          ]
         ],
         "domain": {
          "x": [
           0,
           1
          ],
          "y": [
           0,
           1
          ]
         },
         "hovertemplate": "labels=%{label}<br>count=%{value}<br>parent=%{parent}<br>id=%{id}<br>Count=%{color}<extra></extra>",
         "ids": [
          "McGill University - Desautels Faculty of Management/Academic Analytics Consulting Project, TD, Data Analyst",
          "ESCP Business School/Academic Director of the Global Executive Ph.D. Programme",
          "Salesforce/Account Executive MuleSoft @Salesforce",
          "Amazon/Account Rep intern",
          "Crédit Agricole CIB/Acquisition Finance & Advisory",
          "Crédit Agricole CIB/Acquisition finance & Advisory - Analyste ISA",
          "ESCP Business School/Acting Dean - Acting Executive President",
          "Danone/Activia Global Assistante Brand Manager",
          "Morgan Stanley/Alternant branche OPS EMEA",
          "IBM/Alternant en transformation digitale et en innovation ",
          "Wavestone/Analyst",
          "Wavestone/Analyste",
          "Tikehau Capital/Analyste ESG - Private Equity",
          "Saint-Gobain/Analyste Financier | Direction de la Stratégie",
          "PwC/Analyste M&A | Graduate Program Edge",
          "Entrepreneur Invest/Analyste Private Equity",
          "Wavestone/Analyste Secteur public",
          "CANAL+ Group/Analyste Stratégie et M&A",
          "L'Oréal/Analyste Supply Chain",
          "EDF/Analyste en Investissements - Project Finance",
          "Dassault Systèmes/Analyste en Stratégie",
          "Société Générale/Analyste financements structurés (Acquisition et LBO)",
          "Accuracy/Analyste financier",
          "Carrefour/Analyste financier - Comité d'investissement Groupe",
          "Rothschild & Co/Analyste risques",
          "Accenture/Analyste stratégie",
          "Saint-Gobain/Analyste stratégique",
          "Bpifrance/Analyste titrisation et refinancement durable",
          "AXA Investment Managers/Analyste transaction",
          "Google/Analytical Lead",
          "KPI Digital Solutions/Analytics Academic Consulting Project - Solution Architect",
          "Allianz Trade in North America/Analytics Academic Consulting Project - Team Lead | Data Architect | Data Analyst",
          "TD/Analytics Academic Consulting Project, Data Analyst",
          "KPI Digital Solutions/Analytics Academic Consulting Project, Data Scientist - Modeler",
          "IBM/Artificial Intelligence Managing Consultant",
          "TotalEnergies/Asset Management Analyst",
          "SAVENCIA/Assistant Category Manager",
          "SEPHORA/Assistant Category Manager E-commerce",
          "Nestlé/Assistant Category Manager Enseignes",
          "Hermès/Assistant Chef de Projet Média et Planning Stratégique - Beauté et Parfums",
          "Danone/Assistant JBP E-Retail (E-Category & Key Account Manager)",
          "McGill University - Desautels Faculty of Management/Assistant Professor",
          "BNP Paribas/Assistant Vice President - Campus Recruiter and Program Specialist",
          "Hermès/Assistant chef de produit développement des collections parfums",
          "Cartier/Assistante Chef de Produit Développement - Haute Parfumerie",
          "CHANEL/Assistante Chef de Produit Développement - Marketing International Maquillage Teint",
          "Danone/Assistante Chef de Produit Global pour HiPRO",
          "Crédit Agricole CIB/Assistante Chef de Produit Structured Trade Finance",
          "CHANEL/Assistante Chef de Projet Style expertise & Digital Mode France",
          "Hermès/Assistante Identité Métier Equitation",
          "CHANEL/Assistante Marketing Opérationnel & Commercial WFJ EUROPE",
          "Cartier/Assistante Projet Marketing et Business Analyst",
          "Danone/Assistante chef de produit HiPRO et Light&Free",
          "Louis Vuitton/Assistante chef de produit joaillerie",
          "CHANEL/Assistante chef de projet Business Développement ",
          "Boston Consulting Group (BCG)/Associate",
          "McKinsey & Company/Associate",
          "Bain & Company/Associate Consultant",
          "Bain & Company/Associate Consultant Intern",
          "ESCP Business School/Associate Dean for Learning Innovation",
          "Pratt & Whitney Canada/Associate Director, Data Science & Analytics",
          "ESCP Business School/Associate Professor - Sustainability / Marketing",
          "L.E.K. Consulting/Associate intern",
          "Deloitte/Audit financier",
          "EY/Auditeur Financier",
          "EY/Auditeur financier",
          "AXA Investment Managers/Blockchain - Strategic Initiatives Intern",
          "Procter & Gamble/Brand Manager Oral-B Paste & Fixodent FR",
          "Deezer/Brand Partnerships Communication & Events Manager",
          "Amazon/Business Analyst",
          "Kearney/Business Analyst",
          "McKinsey & Company/Business Analyst",
          "Mirakl/Business Consultant",
          "Amazon/Business Intelligence Engineer",
          "L'Oréal/Business Strategist & Data Scientist Team Lead (Academic Consulting Project)",
          "Groupe mind/Business Unit Director | Clubs",
          "Mirakl/Business consultant",
          "Michelin/Business incubation coach, Michelin Innovation Lab",
          "Back Market/CMO",
          "Ubisoft/Campus Management Specialist",
          "Citi/Cash Equity Intern",
          "Danone/Categories Communication Junior Manager",
          "Michelin/Category Manager",
          "Danone/Category performance Finance Apprentice",
          "Allianz France/Chargé d'études actuarielles",
          "Carrefour/Chargé de mission - Direction Exploitation Intégrés",
          "Groupe Caisse des Dépôts/Chargé de missions stratégiques",
          "Société Générale/Chargée d'études rémunération",
          "Hermès/Chargée de communication",
          "BNP Paribas Cardif/Chargée de mission RSE, Finance et Environnement",
          "Direction Générale des Entreprises/Chargée de mission Santé Numérique / Economie de la santé",
          "Danone/Chargée de mission au cabinet du CEO",
          "Hermès/Chargée des Commandes Cavaliers Partenaires",
          "SAVENCIA/Chef de marque Saint Agur I Graduate Program I Savencia ",
          "Carrefour/Chef de projet RSE",
          "Groupe mind/Chief Operating Officer",
          "Jellyfish/Client Partner & Hub Lead at Jellyfish",
          "Microsoft/Cloud Growth & Acquisition - Go-to-Market Manager | Azure Business Group",
          "Groupe mind/Co-founder, CEO, Publisher",
          "Carrefour/Conseillère de Franchise - magasins de Proximité | Direction Proximité IDF Centre",
          "Argon & Co/Consultant",
          "BearingPoint/Consultant",
          "EY/Consultant",
          "IBM/Consultant",
          "BRP/Consultant - Project Manager & Data Engineer - Capstone",
          "Publicis Sapient/Consultant - Strategy Consulting",
          "Argon & Co/Consultant Data Analyst",
          "EY/Consultant Finance Durable - Climate Change & Sustainability Services | FSO",
          "Wavestone/Consultant Stagiaire - Digital & Emerging Technologies",
          "Deloitte/Consultant in Sustainable Finance",
          "EY/Consultant in Transactions Services",
          "Accenture/Consultant junior",
          "Wavestone/Consultant | Technologies digitales et émergentes ",
          "KPMG France/Consultante",
          "Deloitte/Consultante Climat Senior",
          "KPMG France/Consultante Finance Strategy and Performance",
          "Capgemini Invent/Consultante Workforce & Organization",
          "Advancy/Consultante en Stratégie",
          "Mazars/Consultante en services financiers - Banque Finance Risque",
          "Argon & Co/Consultante en stratégie des opérations",
          "Lynx partners/Consultante junior",
          "Wavestone/Consultante junior",
          "Lynx partners/Consultante stagiaire",
          "BearingPoint/Consultante stagiaire - Consumer, Goods & Retail",
          "BearingPoint/Consultante stagiaire Secteur Public",
          "Mazars/Consulting/Accounting in CSR ",
          "Publicis Media/Corporate Finance Intern",
          "Louis Vuitton/Corporate Internal Auditor & Controller",
          "Saint-Gobain/Corporate Strategy Analyst Intern - HPS (High Performance Solutions)",
          "Edenred/Corporate Strategy Intern",
          "Indépendant/Créateur d'expériences - digitales et présencielles",
          "KPMG France/Customer & Operations - Financial services",
          "Google/Customer Engineer Data Analytics",
          "Ma Petite Écurie/Customer Success Manager",
          "ISOSKELE/DGA en charge des Stratégies, de la Création et de la Réputation",
          "Dassault Systèmes/Dassault Systèmes, BIOVIA Software Engineering Director",
          "Capgemini Invent/Data & Analytics consultant - frog",
          "BDC/Data Analyst",
          "L'Oréal/Data Analyst (Academic Consulting Project)",
          "TD/Data Analyst and Architect - Academic Analytics Consulting Project",
          "L'Oréal/Data Analyst/Scientist (Academic Consulting Project)",
          "Pratt & Whitney Canada/Data Analyst/Scientist - Academic Consulting Project",
          "BDC/Data Architect",
          "Artefact/Data Consultant & Product Owner",
          "BDC/Data Modeler",
          "BDC/Data Scientist",
          "BRP/Data Scientist & Solutions Architect / Analytics Academic Consulting project",
          "BRP/Data Scientist & Team Lead (Academic Consulting Project)",
          "KPI Digital Solutions/Data Scientist (Academic Consulting Project)",
          "L'Oréal/Data Scientist (Academic Consulting Project)",
          "Allianz Trade in North America/Data Scientist - Analytics Academic Consulting Project",
          "BDC/Data Scientist - Project Manager",
          "Desjardins/Data Scientist - Validation and Monitoring of Risk Models",
          "KPI Digital Solutions/Data Scientist / UI-UX Specialist (Academic Project)",
          "Richemont/Data Scientist Intern",
          "Pratt & Whitney Canada/Data Scientist, Project Manager - Academic Consulting Project",
          "BRP/Data Scientist/Data Analyst Consultant- Academic Capstone",
          "Pratt & Whitney Canada/Data analyst, Project manager- Academic Consulting Project",
          "ESCP Business School/Dean Executive MBA and General Management Programme",
          "ESCP Business School/Dean and Executive President",
          "Societe Generale Corporate and Investment Banking - SGCIB/Derivative Listed Products - Public Distribution Iberica",
          "Dassault Systèmes/Digital & Media Director",
          "Artefact/Digital Marketing Executive",
          "SEPHORA/Digital Strategist (Academic Consulting Project)",
          "Carrefour/Directeur Sourcing Europe & Euromed",
          "Nestlé/Directeur de Marque Nestlé Chocolats Premium Tablettes & Saisonnier",
          "ISOSKELE/Directeur du département Intelligence Marketing",
          "Groupe Sud Ouest/Directeur du pôle Medias",
          "Groupe Sud Ouest/Directeur général",
          "Jellyfish/Director, Sales & Partnerships",
          "ESCP Business School/Directrice Scientifique de la Chaire Reinventing Work",
          "Groupe mind/Directrice associée",
          "ESCP Business School/Directrice des études du Master in Management - programme Grande Ecole",
          "Groupe mind/Directrice du développement",
          "Societe Generale Corporate and Investment Banking - SGCIB/ECM Analyst Intern - EQL",
          "BNP Paribas Asset Management/Equity Trader Assistant",
          "Procter & Gamble/Europe Customization Business Planning Director",
          "ESCP Business School/Executive Director of the MSc in Digital Project Management & Consulting",
          "McKinsey & Company/Executive Recruiter",
          "HSBC/FX Large Corporate Sales Analyst – Global Markets",
          "McGill University - Desautels Faculty of Management/Faculty Lecturer",
          "Accenture/Finance & Risk Manager",
          "Amazon/Financial Analyst",
          "Accuracy/Financial Analyst Intern",
          "Accuracy/Financial Analyst Intern ",
          "Amazon/Financial Analyst intern",
          "BNP Paribas CIB/Financial Institutions Coverage Analyst Intern",
          "Capgemini Invent/Financial Transformation Consultant",
          "Publicis Sapient/France Talent Acquisition Lead",
          "Microsoft/France University Recruiter | School Engagement Manager || Global Talent Acquisition",
          "ESCP Business School/Full professor",
          "Lazard/Generalist M&A Intern",
          "Salesforce/Global Consumer Goods Industry Advisor",
          "Allianz Global Investors/Global Talent Acquisition Manager",
          "Rothschild & Co/Global advisory intern",
          "Amazon/Graduate Ecommerce Trainee Program",
          "Carrefour/Graduate Programme Finance - Gestion de projet Order to Cash",
          "Capgemini Invent/Green IT Senior Consultant",
          "Eurazeo/Group Strategy / M&A Analyst",
          "Ubisoft/HR Business Partner",
          "Desjardins/Head of Product Development, Desjardins Funds/ Chef du développement, fonds desjardins",
          "Richemont/Human Resources Director Richemont France",
          "Groupe Caisse des Dépôts/Indirect Private Equity Analyst",
          "BNP Paribas Asset Management/Infrastructure Private Debt Analyst ",
          "Wavestone/Infrastructure and Data Architecture Consulting Intern",
          "Societe Generale Corporate and Investment Banking - SGCIB/Interest Rates Derivatives Sales Assistant - Structured Finance Hedging",
          "ESCP Business School/Internal Communication Manager",
          "Goldman Sachs/Investment Banking Analyst",
          "Citi/Investment Banking Summer Analyst",
          "Mind Fintech/Journaliste",
          "mind Media/Journaliste",
          "mind Media/Journaliste cheffe de rubrique",
          "L'Oréal/Junior Business Manager",
          "Accenture/Junior Consultant",
          "Hogan Lovells/Legal Trainee - Banking and Finance",
          "BNP Paribas CIB/Long Term Intern",
          "BNP Paribas/M&A Analyst",
          "TotalEnergies/M&A Analyst (Renewables Energy)",
          "BNP Paribas CIB/M&A Analyst Intern",
          "Bpifrance/M&A Analyst Intern",
          "Crédit Agricole CIB/M&A Analyst Intern",
          "Lazard/M&A Analyst Intern",
          "Rothschild & Co/M&A Analyst Intern",
          "Societe Generale Corporate and Investment Banking - SGCIB/M&A Analyst Intern",
          "Sycomore Corporate Finance/M&A Analyst Intern",
          "BNP Paribas CIB/M&A Analyst Intern ",
          "BNP Paribas CIB/M&A Analyst intern",
          "Deloitte/M&A and Transaction Services Intern",
          "Tikehau Capital/M&A and corporate development ",
          "Groupe mind/Manager of Customer Success",
          "Businesscoot/Market Research Analyst",
          "Businesscoot/Market research analyst",
          "Michelin/Marketing Associate - Pricing Manager",
          "Jellyfish/Marketing Director",
          "Louis Vuitton/Marketing Intelligence Analyst",
          "Google/Marketing Science Lead",
          "McGill University - Desautels Faculty of Management/Master Career Coach",
          "Freelance/Office Manager",
          "Carrefour/Operational and Development Director (Supeco France 🇫🇷)",
          "Freelance/PC12 / TBM / PA46T Freelance pilot",
          "Groupe mind/Partner and senior media analyst ",
          "Pratt & Whitney Canada/President",
          "Back Market/Principal Product Manager | US and Country Expansion",
          "Allianz Global Investors/Private Debt Analyst Intern",
          "Bpifrance/Private Equity Analyst",
          "Ardian/Private Equity Analyst Intern",
          "Entrepreneur Invest/Private Equity Analyst Intern",
          "Eurazeo/Private Equity Analyst Intern",
          "Societe Generale Corporate and Investment Banking - SGCIB/Private Equity Analyst Intern",
          "Tikehau Capital/Private Equity Analyst Intern",
          "Arkéa Real Estate/Private Equity Real Estate Analyst",
          "Arkéa Real Estate/Private Equity Real Estate Analyst (Asset Management) ",
          "Deezer/Product Manager Intern",
          "ESCP Business School/Professeur",
          "ESCP Business School/Professeur Affilié",
          "Ma Petite Écurie/Professeur particulier de mathématiques et lettres en lycée et classes prépa ",
          "ESCP Business School/Professor",
          "Publicis Media/Programmatic acc manager/ Trader",
          "Crédit Agricole CIB/Project Finance Analyst - Energy & Infrastructure Group Italy",
          "Crédit Agricole CIB/Project Finance Analyst Intern",
          "EDF/Project Management Officer",
          "Edenred/Project Management Officer IT Northern Europe",
          "Morgan Stanley/Quantitative Finance Fall Associate",
          "Arkéa Real Estate/Real Estate Asset Management Analyst",
          "Wavestone/Recruitment Business Partner",
          "Carrefour/Regional Director Of Sales And Marketing",
          "IBM/Relations Grandes Ecoles et Universités ",
          "Goldman Sachs/Relationship Manager France Belgium Luxembourg",
          "CentraleSupélec/Research Assistant",
          "CHANEL/Responsable Acquisition des Talents et Relations Ecoles",
          "CANAL+ Group/Responsable Activation Data",
          "Carrefour/Responsable Projets Réduction d'emballage et consigne ",
          "CHANEL/Responsable RH / HRBP Manager",
          "Groupe mind/Responsable Ressources Humaines",
          "Groupe mind/Responsable technique / études et développements informatiques",
          "Mind Fintech/Rédacteur en chef",
          "mind Media/Rédacteur en chef",
          "Mind Fintech/Rédactrice en chef adjointe",
          "BNP Paribas CIB/Sales Assistant Cross Asset Structured Products - Privalto",
          "Groupe mind/Sales Coordinator",
          "Mind Fintech/Sales Coordinator - mindFintech",
          "Microsoft/Sales Director, Education and Research, France",
          "Groupe mind/Sales Team Leader",
          "Groupe mind/Sales coordinator ",
          "Jellyfish/Senior Adtech & Supply Director",
          "L.E.K. Consulting/Senior Associate",
          "Wavestone/Senior Digital Transformation Consultant",
          "IBM/Senior Digital Transformation consultant (Data & Artificial Intelligence)",
          "Jellyfish/Senior Director, Display & Programmatic",
          "Jellyfish/Senior Director, Technology Solutions",
          "Lund University School of Economics and Management/Senior Lecturer",
          "Deloitte/Senior Manager - Artificial Intelligence & Data",
          "Ubisoft/Senior Manager, Talent Acquisition, Central Publishing & D2P",
          "Publicis Sapient/Senior Managing Director",
          "Jellyfish/Senior Market Intelligence Manager",
          "Accenture/Senior Strategy Consultant",
          "Direction Générale des Entreprises/Sous-Direction des services marchands | Services aux entreprises",
          "Rothschild & Co/Sovereign Advisory",
          "Indépendant/Spécialiste du recrutement",
          "Advancy/Stagiaire Consultant en Stratégie",
          "TotalEnergies/Stagiaire Contrats Digital & Gouvernance",
          "Hogan Lovells/Stagiaire en contentieux des affaires",
          "McGill University - Desautels Faculty of Management/Strategic Management Tutor",
          "Allianz France/Strategy & CVC Analyst",
          "Danone/Strategy & International Business Development",
          "EY/Strategy & Transactions Intern | Transaction Diligence ",
          "Accenture/Strategy Analyst",
          "BNP Paribas CIB/Strategy Analyst Intern",
          "HSBC/Strategy Intern - Structured Finance",
          "Publicis Sapient/Strategy Senior Consultant",
          "Capgemini Invent/Strategy and Transformation Consultant",
          "SAVENCIA/Strategy and transformation intern",
          "Citi/Summer Analyst - Markets",
          "L'Oréal/Supply Chain Analyst",
          "ESCP Business School/Sustainability Manager",
          "McGill University - Desautels Faculty of Management/TD bank - Analytics Academic Consulting Project, Data Scientist - Modeler",
          "L'Oréal/Talent Acquisition & HR Project Manager for Operations ",
          "Lund University School of Economics and Management/Teacher",
          "Back Market/Tech TA Manager ",
          "Accenture/Technology Strategy and Advisory Consultant",
          "Mazars/Transaction Services Analyst",
          "PwC/Transaction Services Apprentice",
          "BNP Paribas Cardif/VC Analyst",
          "Bpifrance/VC Analyst @Bpifrance Green Venture",
          "TD/Vice President Portfolio Research Manager",
          "Boston Consulting Group (BCG)/Visiting Associate",
          "ESCP Business School/Visiting Professor | Digital Innovation Management",
          "Freelance/Web editor",
          "PwC/Working Student for Sustainability Services",
          "CentraleSupélec/Étudiant ingénieur",
          "AXA Investment Managers",
          "Accenture",
          "Accuracy",
          "Advancy",
          "Allianz France",
          "Allianz Global Investors",
          "Allianz Trade in North America",
          "Amazon",
          "Ardian",
          "Argon & Co",
          "Arkéa Real Estate",
          "Artefact",
          "BDC",
          "BNP Paribas",
          "BNP Paribas Asset Management",
          "BNP Paribas CIB",
          "BNP Paribas Cardif",
          "BRP",
          "Back Market",
          "Bain & Company",
          "BearingPoint",
          "Boston Consulting Group (BCG)",
          "Bpifrance",
          "Businesscoot",
          "CANAL+ Group",
          "CHANEL",
          "Capgemini Invent",
          "Carrefour",
          "Cartier",
          "CentraleSupélec",
          "Citi",
          "Crédit Agricole CIB",
          "Danone",
          "Dassault Systèmes",
          "Deezer",
          "Deloitte",
          "Desjardins",
          "Direction Générale des Entreprises",
          "EDF",
          "ESCP Business School",
          "EY",
          "Edenred",
          "Entrepreneur Invest",
          "Eurazeo",
          "Freelance",
          "Goldman Sachs",
          "Google",
          "Groupe Caisse des Dépôts",
          "Groupe Sud Ouest",
          "Groupe mind",
          "HSBC",
          "Hermès",
          "Hogan Lovells",
          "IBM",
          "ISOSKELE",
          "Indépendant",
          "Jellyfish",
          "KPI Digital Solutions",
          "KPMG France",
          "Kearney",
          "L'Oréal",
          "L.E.K. Consulting",
          "Lazard",
          "Louis Vuitton",
          "Lund University School of Economics and Management",
          "Lynx partners",
          "Ma Petite Écurie",
          "Mazars",
          "McGill University - Desautels Faculty of Management",
          "McKinsey & Company",
          "Michelin",
          "Microsoft",
          "Mind Fintech",
          "Mirakl",
          "Morgan Stanley",
          "Nestlé",
          "Pratt & Whitney Canada",
          "Procter & Gamble",
          "Publicis Media",
          "Publicis Sapient",
          "PwC",
          "Richemont",
          "Rothschild & Co",
          "SAVENCIA",
          "SEPHORA",
          "Saint-Gobain",
          "Salesforce",
          "Societe Generale Corporate and Investment Banking - SGCIB",
          "Société Générale",
          "Sycomore Corporate Finance",
          "TD",
          "Tikehau Capital",
          "TotalEnergies",
          "Ubisoft",
          "Wavestone",
          "mind Media"
         ],
         "labels": [
          "Academic Analytics Consulting Project, TD, Data Analyst",
          "Academic Director of the Global Executive Ph.D. Programme",
          "Account Executive MuleSoft @Salesforce",
          "Account Rep intern",
          "Acquisition Finance & Advisory",
          "Acquisition finance & Advisory - Analyste ISA",
          "Acting Dean - Acting Executive President",
          "Activia Global Assistante Brand Manager",
          "Alternant branche OPS EMEA",
          "Alternant en transformation digitale et en innovation ",
          "Analyst",
          "Analyste",
          "Analyste ESG - Private Equity",
          "Analyste Financier | Direction de la Stratégie",
          "Analyste M&A | Graduate Program Edge",
          "Analyste Private Equity",
          "Analyste Secteur public",
          "Analyste Stratégie et M&A",
          "Analyste Supply Chain",
          "Analyste en Investissements - Project Finance",
          "Analyste en Stratégie",
          "Analyste financements structurés (Acquisition et LBO)",
          "Analyste financier",
          "Analyste financier - Comité d'investissement Groupe",
          "Analyste risques",
          "Analyste stratégie",
          "Analyste stratégique",
          "Analyste titrisation et refinancement durable",
          "Analyste transaction",
          "Analytical Lead",
          "Analytics Academic Consulting Project - Solution Architect",
          "Analytics Academic Consulting Project - Team Lead | Data Architect | Data Analyst",
          "Analytics Academic Consulting Project, Data Analyst",
          "Analytics Academic Consulting Project, Data Scientist - Modeler",
          "Artificial Intelligence Managing Consultant",
          "Asset Management Analyst",
          "Assistant Category Manager",
          "Assistant Category Manager E-commerce",
          "Assistant Category Manager Enseignes",
          "Assistant Chef de Projet Média et Planning Stratégique - Beauté et Parfums",
          "Assistant JBP E-Retail (E-Category & Key Account Manager)",
          "Assistant Professor",
          "Assistant Vice President - Campus Recruiter and Program Specialist",
          "Assistant chef de produit développement des collections parfums",
          "Assistante Chef de Produit Développement - Haute Parfumerie",
          "Assistante Chef de Produit Développement - Marketing International Maquillage Teint",
          "Assistante Chef de Produit Global pour HiPRO",
          "Assistante Chef de Produit Structured Trade Finance",
          "Assistante Chef de Projet Style expertise & Digital Mode France",
          "Assistante Identité Métier Equitation",
          "Assistante Marketing Opérationnel & Commercial WFJ EUROPE",
          "Assistante Projet Marketing et Business Analyst",
          "Assistante chef de produit HiPRO et Light&Free",
          "Assistante chef de produit joaillerie",
          "Assistante chef de projet Business Développement ",
          "Associate",
          "Associate",
          "Associate Consultant",
          "Associate Consultant Intern",
          "Associate Dean for Learning Innovation",
          "Associate Director, Data Science & Analytics",
          "Associate Professor - Sustainability / Marketing",
          "Associate intern",
          "Audit financier",
          "Auditeur Financier",
          "Auditeur financier",
          "Blockchain - Strategic Initiatives Intern",
          "Brand Manager Oral-B Paste & Fixodent FR",
          "Brand Partnerships Communication & Events Manager",
          "Business Analyst",
          "Business Analyst",
          "Business Analyst",
          "Business Consultant",
          "Business Intelligence Engineer",
          "Business Strategist & Data Scientist Team Lead (Academic Consulting Project)",
          "Business Unit Director | Clubs",
          "Business consultant",
          "Business incubation coach, Michelin Innovation Lab",
          "CMO",
          "Campus Management Specialist",
          "Cash Equity Intern",
          "Categories Communication Junior Manager",
          "Category Manager",
          "Category performance Finance Apprentice",
          "Chargé d'études actuarielles",
          "Chargé de mission - Direction Exploitation Intégrés",
          "Chargé de missions stratégiques",
          "Chargée d'études rémunération",
          "Chargée de communication",
          "Chargée de mission RSE, Finance et Environnement",
          "Chargée de mission Santé Numérique / Economie de la santé",
          "Chargée de mission au cabinet du CEO",
          "Chargée des Commandes Cavaliers Partenaires",
          "Chef de marque Saint Agur I Graduate Program I Savencia ",
          "Chef de projet RSE",
          "Chief Operating Officer",
          "Client Partner & Hub Lead at Jellyfish",
          "Cloud Growth & Acquisition - Go-to-Market Manager | Azure Business Group",
          "Co-founder, CEO, Publisher",
          "Conseillère de Franchise - magasins de Proximité | Direction Proximité IDF Centre",
          "Consultant",
          "Consultant",
          "Consultant",
          "Consultant",
          "Consultant - Project Manager & Data Engineer - Capstone",
          "Consultant - Strategy Consulting",
          "Consultant Data Analyst",
          "Consultant Finance Durable - Climate Change & Sustainability Services | FSO",
          "Consultant Stagiaire - Digital & Emerging Technologies",
          "Consultant in Sustainable Finance",
          "Consultant in Transactions Services",
          "Consultant junior",
          "Consultant | Technologies digitales et émergentes ",
          "Consultante",
          "Consultante Climat Senior",
          "Consultante Finance Strategy and Performance",
          "Consultante Workforce & Organization",
          "Consultante en Stratégie",
          "Consultante en services financiers - Banque Finance Risque",
          "Consultante en stratégie des opérations",
          "Consultante junior",
          "Consultante junior",
          "Consultante stagiaire",
          "Consultante stagiaire - Consumer, Goods & Retail",
          "Consultante stagiaire Secteur Public",
          "Consulting/Accounting in CSR ",
          "Corporate Finance Intern",
          "Corporate Internal Auditor & Controller",
          "Corporate Strategy Analyst Intern - HPS (High Performance Solutions)",
          "Corporate Strategy Intern",
          "Créateur d'expériences - digitales et présencielles",
          "Customer & Operations - Financial services",
          "Customer Engineer Data Analytics",
          "Customer Success Manager",
          "DGA en charge des Stratégies, de la Création et de la Réputation",
          "Dassault Systèmes, BIOVIA Software Engineering Director",
          "Data & Analytics consultant - frog",
          "Data Analyst",
          "Data Analyst (Academic Consulting Project)",
          "Data Analyst and Architect - Academic Analytics Consulting Project",
          "Data Analyst/Scientist (Academic Consulting Project)",
          "Data Analyst/Scientist - Academic Consulting Project",
          "Data Architect",
          "Data Consultant & Product Owner",
          "Data Modeler",
          "Data Scientist",
          "Data Scientist & Solutions Architect / Analytics Academic Consulting project",
          "Data Scientist & Team Lead (Academic Consulting Project)",
          "Data Scientist (Academic Consulting Project)",
          "Data Scientist (Academic Consulting Project)",
          "Data Scientist - Analytics Academic Consulting Project",
          "Data Scientist - Project Manager",
          "Data Scientist - Validation and Monitoring of Risk Models",
          "Data Scientist / UI-UX Specialist (Academic Project)",
          "Data Scientist Intern",
          "Data Scientist, Project Manager - Academic Consulting Project",
          "Data Scientist/Data Analyst Consultant- Academic Capstone",
          "Data analyst, Project manager- Academic Consulting Project",
          "Dean Executive MBA and General Management Programme",
          "Dean and Executive President",
          "Derivative Listed Products - Public Distribution Iberica",
          "Digital & Media Director",
          "Digital Marketing Executive",
          "Digital Strategist (Academic Consulting Project)",
          "Directeur Sourcing Europe & Euromed",
          "Directeur de Marque Nestlé Chocolats Premium Tablettes & Saisonnier",
          "Directeur du département Intelligence Marketing",
          "Directeur du pôle Medias",
          "Directeur général",
          "Director, Sales & Partnerships",
          "Directrice Scientifique de la Chaire Reinventing Work",
          "Directrice associée",
          "Directrice des études du Master in Management - programme Grande Ecole",
          "Directrice du développement",
          "ECM Analyst Intern - EQL",
          "Equity Trader Assistant",
          "Europe Customization Business Planning Director",
          "Executive Director of the MSc in Digital Project Management & Consulting",
          "Executive Recruiter",
          "FX Large Corporate Sales Analyst – Global Markets",
          "Faculty Lecturer",
          "Finance & Risk Manager",
          "Financial Analyst",
          "Financial Analyst Intern",
          "Financial Analyst Intern ",
          "Financial Analyst intern",
          "Financial Institutions Coverage Analyst Intern",
          "Financial Transformation Consultant",
          "France Talent Acquisition Lead",
          "France University Recruiter | School Engagement Manager || Global Talent Acquisition",
          "Full professor",
          "Generalist M&A Intern",
          "Global Consumer Goods Industry Advisor",
          "Global Talent Acquisition Manager",
          "Global advisory intern",
          "Graduate Ecommerce Trainee Program",
          "Graduate Programme Finance - Gestion de projet Order to Cash",
          "Green IT Senior Consultant",
          "Group Strategy / M&A Analyst",
          "HR Business Partner",
          "Head of Product Development, Desjardins Funds/ Chef du développement, fonds desjardins",
          "Human Resources Director Richemont France",
          "Indirect Private Equity Analyst",
          "Infrastructure Private Debt Analyst ",
          "Infrastructure and Data Architecture Consulting Intern",
          "Interest Rates Derivatives Sales Assistant - Structured Finance Hedging",
          "Internal Communication Manager",
          "Investment Banking Analyst",
          "Investment Banking Summer Analyst",
          "Journaliste",
          "Journaliste",
          "Journaliste cheffe de rubrique",
          "Junior Business Manager",
          "Junior Consultant",
          "Legal Trainee - Banking and Finance",
          "Long Term Intern",
          "M&A Analyst",
          "M&A Analyst (Renewables Energy)",
          "M&A Analyst Intern",
          "M&A Analyst Intern",
          "M&A Analyst Intern",
          "M&A Analyst Intern",
          "M&A Analyst Intern",
          "M&A Analyst Intern",
          "M&A Analyst Intern",
          "M&A Analyst Intern ",
          "M&A Analyst intern",
          "M&A and Transaction Services Intern",
          "M&A and corporate development ",
          "Manager of Customer Success",
          "Market Research Analyst",
          "Market research analyst",
          "Marketing Associate - Pricing Manager",
          "Marketing Director",
          "Marketing Intelligence Analyst",
          "Marketing Science Lead",
          "Master Career Coach",
          "Office Manager",
          "Operational and Development Director (Supeco France 🇫🇷)",
          "PC12 / TBM / PA46T Freelance pilot",
          "Partner and senior media analyst ",
          "President",
          "Principal Product Manager | US and Country Expansion",
          "Private Debt Analyst Intern",
          "Private Equity Analyst",
          "Private Equity Analyst Intern",
          "Private Equity Analyst Intern",
          "Private Equity Analyst Intern",
          "Private Equity Analyst Intern",
          "Private Equity Analyst Intern",
          "Private Equity Real Estate Analyst",
          "Private Equity Real Estate Analyst (Asset Management) ",
          "Product Manager Intern",
          "Professeur",
          "Professeur Affilié",
          "Professeur particulier de mathématiques et lettres en lycée et classes prépa ",
          "Professor",
          "Programmatic acc manager/ Trader",
          "Project Finance Analyst - Energy & Infrastructure Group Italy",
          "Project Finance Analyst Intern",
          "Project Management Officer",
          "Project Management Officer IT Northern Europe",
          "Quantitative Finance Fall Associate",
          "Real Estate Asset Management Analyst",
          "Recruitment Business Partner",
          "Regional Director Of Sales And Marketing",
          "Relations Grandes Ecoles et Universités ",
          "Relationship Manager France Belgium Luxembourg",
          "Research Assistant",
          "Responsable Acquisition des Talents et Relations Ecoles",
          "Responsable Activation Data",
          "Responsable Projets Réduction d'emballage et consigne ",
          "Responsable RH / HRBP Manager",
          "Responsable Ressources Humaines",
          "Responsable technique / études et développements informatiques",
          "Rédacteur en chef",
          "Rédacteur en chef",
          "Rédactrice en chef adjointe",
          "Sales Assistant Cross Asset Structured Products - Privalto",
          "Sales Coordinator",
          "Sales Coordinator - mindFintech",
          "Sales Director, Education and Research, France",
          "Sales Team Leader",
          "Sales coordinator ",
          "Senior Adtech & Supply Director",
          "Senior Associate",
          "Senior Digital Transformation Consultant",
          "Senior Digital Transformation consultant (Data & Artificial Intelligence)",
          "Senior Director, Display & Programmatic",
          "Senior Director, Technology Solutions",
          "Senior Lecturer",
          "Senior Manager - Artificial Intelligence & Data",
          "Senior Manager, Talent Acquisition, Central Publishing & D2P",
          "Senior Managing Director",
          "Senior Market Intelligence Manager",
          "Senior Strategy Consultant",
          "Sous-Direction des services marchands | Services aux entreprises",
          "Sovereign Advisory",
          "Spécialiste du recrutement",
          "Stagiaire Consultant en Stratégie",
          "Stagiaire Contrats Digital & Gouvernance",
          "Stagiaire en contentieux des affaires",
          "Strategic Management Tutor",
          "Strategy & CVC Analyst",
          "Strategy & International Business Development",
          "Strategy & Transactions Intern | Transaction Diligence ",
          "Strategy Analyst",
          "Strategy Analyst Intern",
          "Strategy Intern - Structured Finance",
          "Strategy Senior Consultant",
          "Strategy and Transformation Consultant",
          "Strategy and transformation intern",
          "Summer Analyst - Markets",
          "Supply Chain Analyst",
          "Sustainability Manager",
          "TD bank - Analytics Academic Consulting Project, Data Scientist - Modeler",
          "Talent Acquisition & HR Project Manager for Operations ",
          "Teacher",
          "Tech TA Manager ",
          "Technology Strategy and Advisory Consultant",
          "Transaction Services Analyst",
          "Transaction Services Apprentice",
          "VC Analyst",
          "VC Analyst @Bpifrance Green Venture",
          "Vice President Portfolio Research Manager",
          "Visiting Associate",
          "Visiting Professor | Digital Innovation Management",
          "Web editor",
          "Working Student for Sustainability Services",
          "Étudiant ingénieur",
          "AXA Investment Managers",
          "Accenture",
          "Accuracy",
          "Advancy",
          "Allianz France",
          "Allianz Global Investors",
          "Allianz Trade in North America",
          "Amazon",
          "Ardian",
          "Argon & Co",
          "Arkéa Real Estate",
          "Artefact",
          "BDC",
          "BNP Paribas",
          "BNP Paribas Asset Management",
          "BNP Paribas CIB",
          "BNP Paribas Cardif",
          "BRP",
          "Back Market",
          "Bain & Company",
          "BearingPoint",
          "Boston Consulting Group (BCG)",
          "Bpifrance",
          "Businesscoot",
          "CANAL+ Group",
          "CHANEL",
          "Capgemini Invent",
          "Carrefour",
          "Cartier",
          "CentraleSupélec",
          "Citi",
          "Crédit Agricole CIB",
          "Danone",
          "Dassault Systèmes",
          "Deezer",
          "Deloitte",
          "Desjardins",
          "Direction Générale des Entreprises",
          "EDF",
          "ESCP Business School",
          "EY",
          "Edenred",
          "Entrepreneur Invest",
          "Eurazeo",
          "Freelance",
          "Goldman Sachs",
          "Google",
          "Groupe Caisse des Dépôts",
          "Groupe Sud Ouest",
          "Groupe mind",
          "HSBC",
          "Hermès",
          "Hogan Lovells",
          "IBM",
          "ISOSKELE",
          "Indépendant",
          "Jellyfish",
          "KPI Digital Solutions",
          "KPMG France",
          "Kearney",
          "L'Oréal",
          "L.E.K. Consulting",
          "Lazard",
          "Louis Vuitton",
          "Lund University School of Economics and Management",
          "Lynx partners",
          "Ma Petite Écurie",
          "Mazars",
          "McGill University - Desautels Faculty of Management",
          "McKinsey & Company",
          "Michelin",
          "Microsoft",
          "Mind Fintech",
          "Mirakl",
          "Morgan Stanley",
          "Nestlé",
          "Pratt & Whitney Canada",
          "Procter & Gamble",
          "Publicis Media",
          "Publicis Sapient",
          "PwC",
          "Richemont",
          "Rothschild & Co",
          "SAVENCIA",
          "SEPHORA",
          "Saint-Gobain",
          "Salesforce",
          "Societe Generale Corporate and Investment Banking - SGCIB",
          "Société Générale",
          "Sycomore Corporate Finance",
          "TD",
          "Tikehau Capital",
          "TotalEnergies",
          "Ubisoft",
          "Wavestone",
          "mind Media"
         ],
         "marker": {
          "coloraxis": "coloraxis",
          "colors": [
           6,
           16,
           2,
           6,
           7,
           7,
           16,
           8,
           2,
           5,
           9,
           9,
           3,
           3,
           3,
           2,
           9,
           2,
           8,
           2,
           3,
           2,
           5,
           9,
           4,
           7,
           3,
           4,
           2,
           3,
           4,
           2,
           3,
           4,
           5,
           3,
           3,
           2,
           2,
           5,
           8,
           6,
           2,
           5,
           2,
           6,
           8,
           7,
           6,
           5,
           6,
           2,
           8,
           3,
           6,
           7,
           5,
           4,
           4,
           16,
           5,
           16,
           2,
           5,
           6,
           6,
           2,
           2,
           2,
           6,
           2,
           5,
           2,
           6,
           8,
           12,
           2,
           3,
           3,
           3,
           3,
           8,
           3,
           8,
           2,
           9,
           2,
           2,
           5,
           2,
           2,
           8,
           5,
           3,
           9,
           12,
           7,
           3,
           12,
           9,
           4,
           3,
           6,
           5,
           4,
           4,
           4,
           6,
           9,
           5,
           6,
           7,
           9,
           3,
           5,
           3,
           5,
           2,
           3,
           4,
           2,
           9,
           2,
           3,
           3,
           3,
           2,
           3,
           3,
           2,
           2,
           3,
           3,
           2,
           2,
           3,
           5,
           5,
           8,
           3,
           8,
           5,
           5,
           2,
           5,
           5,
           4,
           4,
           4,
           8,
           2,
           5,
           2,
           4,
           2,
           5,
           4,
           5,
           16,
           16,
           6,
           3,
           2,
           2,
           9,
           2,
           2,
           2,
           2,
           7,
           16,
           12,
           16,
           12,
           6,
           2,
           2,
           16,
           5,
           2,
           6,
           7,
           6,
           5,
           5,
           6,
           7,
           5,
           4,
           3,
           16,
           2,
           2,
           2,
           4,
           6,
           9,
           5,
           2,
           3,
           2,
           2,
           2,
           2,
           9,
           6,
           16,
           2,
           3,
           4,
           3,
           3,
           8,
           7,
           2,
           7,
           2,
           3,
           7,
           4,
           7,
           2,
           4,
           6,
           2,
           7,
           7,
           5,
           3,
           12,
           3,
           3,
           3,
           7,
           3,
           3,
           6,
           3,
           9,
           3,
           12,
           5,
           3,
           2,
           4,
           2,
           2,
           2,
           6,
           3,
           3,
           3,
           2,
           16,
           16,
           2,
           16,
           2,
           7,
           7,
           2,
           2,
           2,
           3,
           9,
           9,
           5,
           2,
           2,
           6,
           2,
           9,
           6,
           12,
           12,
           4,
           3,
           4,
           7,
           12,
           4,
           3,
           12,
           12,
           7,
           2,
           9,
           5,
           7,
           7,
           2,
           5,
           3,
           4,
           7,
           7,
           2,
           4,
           2,
           2,
           3,
           2,
           6,
           2,
           8,
           6,
           7,
           7,
           2,
           4,
           5,
           3,
           3,
           8,
           16,
           6,
           8,
           2,
           3,
           7,
           3,
           3,
           2,
           4,
           3,
           7,
           16,
           3,
           3,
           2,
           2,
           7,
           5,
           2,
           2,
           2,
           2,
           6,
           2,
           4,
           3,
           2,
           5,
           2,
           2,
           7,
           2,
           4,
           3,
           4,
           3,
           7,
           4,
           3,
           2,
           6,
           5,
           9,
           2,
           2,
           3,
           7,
           8,
           3,
           2,
           5,
           2,
           2,
           2,
           16,
           6,
           2,
           2,
           2,
           3,
           2,
           3,
           2,
           2,
           12,
           2,
           5,
           2,
           5,
           2,
           2,
           7,
           4,
           3,
           2,
           8,
           2,
           2,
           3,
           2,
           2,
           2,
           3,
           6,
           5,
           3,
           3,
           4,
           2,
           2,
           2,
           5,
           2,
           2,
           4,
           3,
           2,
           4,
           3,
           2,
           3,
           2,
           6,
           2,
           2,
           3,
           3,
           3,
           3,
           9,
           3
          ]
         },
         "name": "",
         "parents": [
          "McGill University - Desautels Faculty of Management",
          "ESCP Business School",
          "Salesforce",
          "Amazon",
          "Crédit Agricole CIB",
          "Crédit Agricole CIB",
          "ESCP Business School",
          "Danone",
          "Morgan Stanley",
          "IBM",
          "Wavestone",
          "Wavestone",
          "Tikehau Capital",
          "Saint-Gobain",
          "PwC",
          "Entrepreneur Invest",
          "Wavestone",
          "CANAL+ Group",
          "L'Oréal",
          "EDF",
          "Dassault Systèmes",
          "Société Générale",
          "Accuracy",
          "Carrefour",
          "Rothschild & Co",
          "Accenture",
          "Saint-Gobain",
          "Bpifrance",
          "AXA Investment Managers",
          "Google",
          "KPI Digital Solutions",
          "Allianz Trade in North America",
          "TD",
          "KPI Digital Solutions",
          "IBM",
          "TotalEnergies",
          "SAVENCIA",
          "SEPHORA",
          "Nestlé",
          "Hermès",
          "Danone",
          "McGill University - Desautels Faculty of Management",
          "BNP Paribas",
          "Hermès",
          "Cartier",
          "CHANEL",
          "Danone",
          "Crédit Agricole CIB",
          "CHANEL",
          "Hermès",
          "CHANEL",
          "Cartier",
          "Danone",
          "Louis Vuitton",
          "CHANEL",
          "Boston Consulting Group (BCG)",
          "McKinsey & Company",
          "Bain & Company",
          "Bain & Company",
          "ESCP Business School",
          "Pratt & Whitney Canada",
          "ESCP Business School",
          "L.E.K. Consulting",
          "Deloitte",
          "EY",
          "EY",
          "AXA Investment Managers",
          "Procter & Gamble",
          "Deezer",
          "Amazon",
          "Kearney",
          "McKinsey & Company",
          "Mirakl",
          "Amazon",
          "L'Oréal",
          "Groupe mind",
          "Mirakl",
          "Michelin",
          "Back Market",
          "Ubisoft",
          "Citi",
          "Danone",
          "Michelin",
          "Danone",
          "Allianz France",
          "Carrefour",
          "Groupe Caisse des Dépôts",
          "Société Générale",
          "Hermès",
          "BNP Paribas Cardif",
          "Direction Générale des Entreprises",
          "Danone",
          "Hermès",
          "SAVENCIA",
          "Carrefour",
          "Groupe mind",
          "Jellyfish",
          "Microsoft",
          "Groupe mind",
          "Carrefour",
          "Argon & Co",
          "BearingPoint",
          "EY",
          "IBM",
          "BRP",
          "Publicis Sapient",
          "Argon & Co",
          "EY",
          "Wavestone",
          "Deloitte",
          "EY",
          "Accenture",
          "Wavestone",
          "KPMG France",
          "Deloitte",
          "KPMG France",
          "Capgemini Invent",
          "Advancy",
          "Mazars",
          "Argon & Co",
          "Lynx partners",
          "Wavestone",
          "Lynx partners",
          "BearingPoint",
          "BearingPoint",
          "Mazars",
          "Publicis Media",
          "Louis Vuitton",
          "Saint-Gobain",
          "Edenred",
          "Indépendant",
          "KPMG France",
          "Google",
          "Ma Petite Écurie",
          "ISOSKELE",
          "Dassault Systèmes",
          "Capgemini Invent",
          "BDC",
          "L'Oréal",
          "TD",
          "L'Oréal",
          "Pratt & Whitney Canada",
          "BDC",
          "Artefact",
          "BDC",
          "BDC",
          "BRP",
          "BRP",
          "KPI Digital Solutions",
          "L'Oréal",
          "Allianz Trade in North America",
          "BDC",
          "Desjardins",
          "KPI Digital Solutions",
          "Richemont",
          "Pratt & Whitney Canada",
          "BRP",
          "Pratt & Whitney Canada",
          "ESCP Business School",
          "ESCP Business School",
          "Societe Generale Corporate and Investment Banking - SGCIB",
          "Dassault Systèmes",
          "Artefact",
          "SEPHORA",
          "Carrefour",
          "Nestlé",
          "ISOSKELE",
          "Groupe Sud Ouest",
          "Groupe Sud Ouest",
          "Jellyfish",
          "ESCP Business School",
          "Groupe mind",
          "ESCP Business School",
          "Groupe mind",
          "Societe Generale Corporate and Investment Banking - SGCIB",
          "BNP Paribas Asset Management",
          "Procter & Gamble",
          "ESCP Business School",
          "McKinsey & Company",
          "HSBC",
          "McGill University - Desautels Faculty of Management",
          "Accenture",
          "Amazon",
          "Accuracy",
          "Accuracy",
          "Amazon",
          "BNP Paribas CIB",
          "Capgemini Invent",
          "Publicis Sapient",
          "Microsoft",
          "ESCP Business School",
          "Lazard",
          "Salesforce",
          "Allianz Global Investors",
          "Rothschild & Co",
          "Amazon",
          "Carrefour",
          "Capgemini Invent",
          "Eurazeo",
          "Ubisoft",
          "Desjardins",
          "Richemont",
          "Groupe Caisse des Dépôts",
          "BNP Paribas Asset Management",
          "Wavestone",
          "Societe Generale Corporate and Investment Banking - SGCIB",
          "ESCP Business School",
          "Goldman Sachs",
          "Citi",
          "Mind Fintech",
          "mind Media",
          "mind Media",
          "L'Oréal",
          "Accenture",
          "Hogan Lovells",
          "BNP Paribas CIB",
          "BNP Paribas",
          "TotalEnergies",
          "BNP Paribas CIB",
          "Bpifrance",
          "Crédit Agricole CIB",
          "Lazard",
          "Rothschild & Co",
          "Societe Generale Corporate and Investment Banking - SGCIB",
          "Sycomore Corporate Finance",
          "BNP Paribas CIB",
          "BNP Paribas CIB",
          "Deloitte",
          "Tikehau Capital",
          "Groupe mind",
          "Businesscoot",
          "Businesscoot",
          "Michelin",
          "Jellyfish",
          "Louis Vuitton",
          "Google",
          "McGill University - Desautels Faculty of Management",
          "Freelance",
          "Carrefour",
          "Freelance",
          "Groupe mind",
          "Pratt & Whitney Canada",
          "Back Market",
          "Allianz Global Investors",
          "Bpifrance",
          "Ardian",
          "Entrepreneur Invest",
          "Eurazeo",
          "Societe Generale Corporate and Investment Banking - SGCIB",
          "Tikehau Capital",
          "Arkéa Real Estate",
          "Arkéa Real Estate",
          "Deezer",
          "ESCP Business School",
          "ESCP Business School",
          "Ma Petite Écurie",
          "ESCP Business School",
          "Publicis Media",
          "Crédit Agricole CIB",
          "Crédit Agricole CIB",
          "EDF",
          "Edenred",
          "Morgan Stanley",
          "Arkéa Real Estate",
          "Wavestone",
          "Carrefour",
          "IBM",
          "Goldman Sachs",
          "CentraleSupélec",
          "CHANEL",
          "CANAL+ Group",
          "Carrefour",
          "CHANEL",
          "Groupe mind",
          "Groupe mind",
          "Mind Fintech",
          "mind Media",
          "Mind Fintech",
          "BNP Paribas CIB",
          "Groupe mind",
          "Mind Fintech",
          "Microsoft",
          "Groupe mind",
          "Groupe mind",
          "Jellyfish",
          "L.E.K. Consulting",
          "Wavestone",
          "IBM",
          "Jellyfish",
          "Jellyfish",
          "Lund University School of Economics and Management",
          "Deloitte",
          "Ubisoft",
          "Publicis Sapient",
          "Jellyfish",
          "Accenture",
          "Direction Générale des Entreprises",
          "Rothschild & Co",
          "Indépendant",
          "Advancy",
          "TotalEnergies",
          "Hogan Lovells",
          "McGill University - Desautels Faculty of Management",
          "Allianz France",
          "Danone",
          "EY",
          "Accenture",
          "BNP Paribas CIB",
          "HSBC",
          "Publicis Sapient",
          "Capgemini Invent",
          "SAVENCIA",
          "Citi",
          "L'Oréal",
          "ESCP Business School",
          "McGill University - Desautels Faculty of Management",
          "L'Oréal",
          "Lund University School of Economics and Management",
          "Back Market",
          "Accenture",
          "Mazars",
          "PwC",
          "BNP Paribas Cardif",
          "Bpifrance",
          "TD",
          "Boston Consulting Group (BCG)",
          "ESCP Business School",
          "Freelance",
          "PwC",
          "CentraleSupélec",
          "",
          "",
          "",
          "",
          "",
          "",
          "",
          "",
          "",
          "",
          "",
          "",
          "",
          "",
          "",
          "",
          "",
          "",
          "",
          "",
          "",
          "",
          "",
          "",
          "",
          "",
          "",
          "",
          "",
          "",
          "",
          "",
          "",
          "",
          "",
          "",
          "",
          "",
          "",
          "",
          "",
          "",
          "",
          "",
          "",
          "",
          "",
          "",
          "",
          "",
          "",
          "",
          "",
          "",
          "",
          "",
          "",
          "",
          "",
          "",
          "",
          "",
          "",
          "",
          "",
          "",
          "",
          "",
          "",
          "",
          "",
          "",
          "",
          "",
          "",
          "",
          "",
          "",
          "",
          "",
          "",
          "",
          "",
          "",
          "",
          "",
          "",
          "",
          "",
          "",
          "",
          "",
          "",
          "",
          "",
          ""
         ],
         "type": "treemap",
         "values": [
          1,
          1,
          1,
          1,
          1,
          1,
          1,
          1,
          1,
          1,
          1,
          1,
          1,
          1,
          1,
          1,
          1,
          1,
          1,
          1,
          1,
          1,
          3,
          1,
          1,
          1,
          1,
          1,
          1,
          1,
          1,
          1,
          1,
          1,
          1,
          1,
          1,
          1,
          1,
          1,
          1,
          1,
          1,
          1,
          1,
          1,
          1,
          1,
          1,
          1,
          1,
          1,
          1,
          1,
          1,
          3,
          1,
          1,
          3,
          1,
          1,
          1,
          1,
          1,
          1,
          1,
          1,
          1,
          1,
          1,
          2,
          3,
          1,
          1,
          1,
          1,
          1,
          1,
          1,
          1,
          1,
          1,
          1,
          1,
          1,
          1,
          1,
          1,
          1,
          1,
          1,
          1,
          1,
          1,
          1,
          1,
          1,
          1,
          1,
          1,
          2,
          1,
          1,
          1,
          1,
          1,
          1,
          1,
          1,
          1,
          1,
          1,
          1,
          1,
          1,
          1,
          1,
          1,
          1,
          1,
          1,
          1,
          1,
          1,
          1,
          1,
          1,
          1,
          1,
          1,
          1,
          1,
          1,
          1,
          1,
          1,
          1,
          1,
          1,
          1,
          1,
          1,
          1,
          1,
          1,
          1,
          1,
          1,
          1,
          1,
          1,
          1,
          1,
          1,
          1,
          1,
          1,
          1,
          1,
          1,
          1,
          1,
          1,
          1,
          1,
          1,
          1,
          1,
          1,
          1,
          1,
          1,
          1,
          1,
          1,
          1,
          1,
          1,
          1,
          1,
          1,
          1,
          1,
          1,
          1,
          1,
          1,
          1,
          1,
          1,
          1,
          1,
          1,
          1,
          1,
          1,
          1,
          1,
          1,
          1,
          1,
          1,
          1,
          1,
          1,
          1,
          1,
          1,
          1,
          1,
          1,
          1,
          1,
          1,
          1,
          1,
          1,
          1,
          1,
          1,
          2,
          1,
          1,
          2,
          2,
          1,
          1,
          1,
          1,
          1,
          1,
          2,
          1,
          1,
          1,
          1,
          1,
          1,
          1,
          1,
          1,
          1,
          1,
          1,
          1,
          2,
          1,
          1,
          1,
          1,
          1,
          1,
          1,
          1,
          1,
          1,
          1,
          1,
          1,
          1,
          1,
          1,
          1,
          1,
          1,
          1,
          1,
          1,
          1,
          1,
          1,
          1,
          1,
          1,
          1,
          1,
          1,
          1,
          1,
          1,
          1,
          1,
          1,
          1,
          1,
          1,
          1,
          1,
          1,
          1,
          1,
          1,
          1,
          1,
          1,
          1,
          1,
          1,
          1,
          1,
          1,
          1,
          1,
          1,
          1,
          1,
          1,
          1,
          1,
          1,
          1,
          1,
          1,
          1,
          1,
          1,
          1,
          1,
          1,
          1,
          1,
          1,
          1,
          1,
          1,
          4,
          1,
          1,
          1,
          1,
          2,
          7,
          5,
          2,
          2,
          2,
          2,
          6,
          2,
          4,
          3,
          2,
          5,
          2,
          2,
          7,
          2,
          4,
          3,
          4,
          3,
          7,
          4,
          3,
          2,
          6,
          5,
          9,
          2,
          2,
          3,
          7,
          8,
          3,
          2,
          5,
          2,
          2,
          2,
          16,
          6,
          2,
          2,
          2,
          3,
          2,
          3,
          2,
          2,
          12,
          2,
          5,
          2,
          5,
          2,
          2,
          7,
          4,
          3,
          2,
          8,
          2,
          2,
          3,
          2,
          2,
          2,
          3,
          6,
          5,
          3,
          3,
          4,
          2,
          2,
          2,
          5,
          2,
          2,
          4,
          3,
          2,
          4,
          3,
          2,
          3,
          2,
          6,
          2,
          2,
          3,
          3,
          3,
          3,
          9,
          3
         ]
        }
       ],
       "layout": {
        "coloraxis": {
         "cmid": 5.183908045977011,
         "colorbar": {
          "title": {
           "text": "Count"
          }
         },
         "colorscale": [
          [
           0,
           "rgb(243, 231, 155)"
          ],
          [
           0.16666666666666666,
           "rgb(250, 196, 132)"
          ],
          [
           0.3333333333333333,
           "rgb(248, 160, 126)"
          ],
          [
           0.5,
           "rgb(235, 127, 134)"
          ],
          [
           0.6666666666666666,
           "rgb(206, 102, 147)"
          ],
          [
           0.8333333333333334,
           "rgb(160, 89, 160)"
          ],
          [
           1,
           "rgb(92, 83, 165)"
          ]
         ]
        },
        "height": 1000,
        "legend": {
         "tracegroupgap": 0
        },
        "margin": {
         "t": 60
        },
        "template": {
         "data": {
          "bar": [
           {
            "error_x": {
             "color": "#2a3f5f"
            },
            "error_y": {
             "color": "#2a3f5f"
            },
            "marker": {
             "line": {
              "color": "#E5ECF6",
              "width": 0.5
             },
             "pattern": {
              "fillmode": "overlay",
              "size": 10,
              "solidity": 0.2
             }
            },
            "type": "bar"
           }
          ],
          "barpolar": [
           {
            "marker": {
             "line": {
              "color": "#E5ECF6",
              "width": 0.5
             },
             "pattern": {
              "fillmode": "overlay",
              "size": 10,
              "solidity": 0.2
             }
            },
            "type": "barpolar"
           }
          ],
          "carpet": [
           {
            "aaxis": {
             "endlinecolor": "#2a3f5f",
             "gridcolor": "white",
             "linecolor": "white",
             "minorgridcolor": "white",
             "startlinecolor": "#2a3f5f"
            },
            "baxis": {
             "endlinecolor": "#2a3f5f",
             "gridcolor": "white",
             "linecolor": "white",
             "minorgridcolor": "white",
             "startlinecolor": "#2a3f5f"
            },
            "type": "carpet"
           }
          ],
          "choropleth": [
           {
            "colorbar": {
             "outlinewidth": 0,
             "ticks": ""
            },
            "type": "choropleth"
           }
          ],
          "contour": [
           {
            "colorbar": {
             "outlinewidth": 0,
             "ticks": ""
            },
            "colorscale": [
             [
              0,
              "#0d0887"
             ],
             [
              0.1111111111111111,
              "#46039f"
             ],
             [
              0.2222222222222222,
              "#7201a8"
             ],
             [
              0.3333333333333333,
              "#9c179e"
             ],
             [
              0.4444444444444444,
              "#bd3786"
             ],
             [
              0.5555555555555556,
              "#d8576b"
             ],
             [
              0.6666666666666666,
              "#ed7953"
             ],
             [
              0.7777777777777778,
              "#fb9f3a"
             ],
             [
              0.8888888888888888,
              "#fdca26"
             ],
             [
              1,
              "#f0f921"
             ]
            ],
            "type": "contour"
           }
          ],
          "contourcarpet": [
           {
            "colorbar": {
             "outlinewidth": 0,
             "ticks": ""
            },
            "type": "contourcarpet"
           }
          ],
          "heatmap": [
           {
            "colorbar": {
             "outlinewidth": 0,
             "ticks": ""
            },
            "colorscale": [
             [
              0,
              "#0d0887"
             ],
             [
              0.1111111111111111,
              "#46039f"
             ],
             [
              0.2222222222222222,
              "#7201a8"
             ],
             [
              0.3333333333333333,
              "#9c179e"
             ],
             [
              0.4444444444444444,
              "#bd3786"
             ],
             [
              0.5555555555555556,
              "#d8576b"
             ],
             [
              0.6666666666666666,
              "#ed7953"
             ],
             [
              0.7777777777777778,
              "#fb9f3a"
             ],
             [
              0.8888888888888888,
              "#fdca26"
             ],
             [
              1,
              "#f0f921"
             ]
            ],
            "type": "heatmap"
           }
          ],
          "heatmapgl": [
           {
            "colorbar": {
             "outlinewidth": 0,
             "ticks": ""
            },
            "colorscale": [
             [
              0,
              "#0d0887"
             ],
             [
              0.1111111111111111,
              "#46039f"
             ],
             [
              0.2222222222222222,
              "#7201a8"
             ],
             [
              0.3333333333333333,
              "#9c179e"
             ],
             [
              0.4444444444444444,
              "#bd3786"
             ],
             [
              0.5555555555555556,
              "#d8576b"
             ],
             [
              0.6666666666666666,
              "#ed7953"
             ],
             [
              0.7777777777777778,
              "#fb9f3a"
             ],
             [
              0.8888888888888888,
              "#fdca26"
             ],
             [
              1,
              "#f0f921"
             ]
            ],
            "type": "heatmapgl"
           }
          ],
          "histogram": [
           {
            "marker": {
             "pattern": {
              "fillmode": "overlay",
              "size": 10,
              "solidity": 0.2
             }
            },
            "type": "histogram"
           }
          ],
          "histogram2d": [
           {
            "colorbar": {
             "outlinewidth": 0,
             "ticks": ""
            },
            "colorscale": [
             [
              0,
              "#0d0887"
             ],
             [
              0.1111111111111111,
              "#46039f"
             ],
             [
              0.2222222222222222,
              "#7201a8"
             ],
             [
              0.3333333333333333,
              "#9c179e"
             ],
             [
              0.4444444444444444,
              "#bd3786"
             ],
             [
              0.5555555555555556,
              "#d8576b"
             ],
             [
              0.6666666666666666,
              "#ed7953"
             ],
             [
              0.7777777777777778,
              "#fb9f3a"
             ],
             [
              0.8888888888888888,
              "#fdca26"
             ],
             [
              1,
              "#f0f921"
             ]
            ],
            "type": "histogram2d"
           }
          ],
          "histogram2dcontour": [
           {
            "colorbar": {
             "outlinewidth": 0,
             "ticks": ""
            },
            "colorscale": [
             [
              0,
              "#0d0887"
             ],
             [
              0.1111111111111111,
              "#46039f"
             ],
             [
              0.2222222222222222,
              "#7201a8"
             ],
             [
              0.3333333333333333,
              "#9c179e"
             ],
             [
              0.4444444444444444,
              "#bd3786"
             ],
             [
              0.5555555555555556,
              "#d8576b"
             ],
             [
              0.6666666666666666,
              "#ed7953"
             ],
             [
              0.7777777777777778,
              "#fb9f3a"
             ],
             [
              0.8888888888888888,
              "#fdca26"
             ],
             [
              1,
              "#f0f921"
             ]
            ],
            "type": "histogram2dcontour"
           }
          ],
          "mesh3d": [
           {
            "colorbar": {
             "outlinewidth": 0,
             "ticks": ""
            },
            "type": "mesh3d"
           }
          ],
          "parcoords": [
           {
            "line": {
             "colorbar": {
              "outlinewidth": 0,
              "ticks": ""
             }
            },
            "type": "parcoords"
           }
          ],
          "pie": [
           {
            "automargin": true,
            "type": "pie"
           }
          ],
          "scatter": [
           {
            "fillpattern": {
             "fillmode": "overlay",
             "size": 10,
             "solidity": 0.2
            },
            "type": "scatter"
           }
          ],
          "scatter3d": [
           {
            "line": {
             "colorbar": {
              "outlinewidth": 0,
              "ticks": ""
             }
            },
            "marker": {
             "colorbar": {
              "outlinewidth": 0,
              "ticks": ""
             }
            },
            "type": "scatter3d"
           }
          ],
          "scattercarpet": [
           {
            "marker": {
             "colorbar": {
              "outlinewidth": 0,
              "ticks": ""
             }
            },
            "type": "scattercarpet"
           }
          ],
          "scattergeo": [
           {
            "marker": {
             "colorbar": {
              "outlinewidth": 0,
              "ticks": ""
             }
            },
            "type": "scattergeo"
           }
          ],
          "scattergl": [
           {
            "marker": {
             "colorbar": {
              "outlinewidth": 0,
              "ticks": ""
             }
            },
            "type": "scattergl"
           }
          ],
          "scattermapbox": [
           {
            "marker": {
             "colorbar": {
              "outlinewidth": 0,
              "ticks": ""
             }
            },
            "type": "scattermapbox"
           }
          ],
          "scatterpolar": [
           {
            "marker": {
             "colorbar": {
              "outlinewidth": 0,
              "ticks": ""
             }
            },
            "type": "scatterpolar"
           }
          ],
          "scatterpolargl": [
           {
            "marker": {
             "colorbar": {
              "outlinewidth": 0,
              "ticks": ""
             }
            },
            "type": "scatterpolargl"
           }
          ],
          "scatterternary": [
           {
            "marker": {
             "colorbar": {
              "outlinewidth": 0,
              "ticks": ""
             }
            },
            "type": "scatterternary"
           }
          ],
          "surface": [
           {
            "colorbar": {
             "outlinewidth": 0,
             "ticks": ""
            },
            "colorscale": [
             [
              0,
              "#0d0887"
             ],
             [
              0.1111111111111111,
              "#46039f"
             ],
             [
              0.2222222222222222,
              "#7201a8"
             ],
             [
              0.3333333333333333,
              "#9c179e"
             ],
             [
              0.4444444444444444,
              "#bd3786"
             ],
             [
              0.5555555555555556,
              "#d8576b"
             ],
             [
              0.6666666666666666,
              "#ed7953"
             ],
             [
              0.7777777777777778,
              "#fb9f3a"
             ],
             [
              0.8888888888888888,
              "#fdca26"
             ],
             [
              1,
              "#f0f921"
             ]
            ],
            "type": "surface"
           }
          ],
          "table": [
           {
            "cells": {
             "fill": {
              "color": "#EBF0F8"
             },
             "line": {
              "color": "white"
             }
            },
            "header": {
             "fill": {
              "color": "#C8D4E3"
             },
             "line": {
              "color": "white"
             }
            },
            "type": "table"
           }
          ]
         },
         "layout": {
          "annotationdefaults": {
           "arrowcolor": "#2a3f5f",
           "arrowhead": 0,
           "arrowwidth": 1
          },
          "autotypenumbers": "strict",
          "coloraxis": {
           "colorbar": {
            "outlinewidth": 0,
            "ticks": ""
           }
          },
          "colorscale": {
           "diverging": [
            [
             0,
             "#8e0152"
            ],
            [
             0.1,
             "#c51b7d"
            ],
            [
             0.2,
             "#de77ae"
            ],
            [
             0.3,
             "#f1b6da"
            ],
            [
             0.4,
             "#fde0ef"
            ],
            [
             0.5,
             "#f7f7f7"
            ],
            [
             0.6,
             "#e6f5d0"
            ],
            [
             0.7,
             "#b8e186"
            ],
            [
             0.8,
             "#7fbc41"
            ],
            [
             0.9,
             "#4d9221"
            ],
            [
             1,
             "#276419"
            ]
           ],
           "sequential": [
            [
             0,
             "#0d0887"
            ],
            [
             0.1111111111111111,
             "#46039f"
            ],
            [
             0.2222222222222222,
             "#7201a8"
            ],
            [
             0.3333333333333333,
             "#9c179e"
            ],
            [
             0.4444444444444444,
             "#bd3786"
            ],
            [
             0.5555555555555556,
             "#d8576b"
            ],
            [
             0.6666666666666666,
             "#ed7953"
            ],
            [
             0.7777777777777778,
             "#fb9f3a"
            ],
            [
             0.8888888888888888,
             "#fdca26"
            ],
            [
             1,
             "#f0f921"
            ]
           ],
           "sequentialminus": [
            [
             0,
             "#0d0887"
            ],
            [
             0.1111111111111111,
             "#46039f"
            ],
            [
             0.2222222222222222,
             "#7201a8"
            ],
            [
             0.3333333333333333,
             "#9c179e"
            ],
            [
             0.4444444444444444,
             "#bd3786"
            ],
            [
             0.5555555555555556,
             "#d8576b"
            ],
            [
             0.6666666666666666,
             "#ed7953"
            ],
            [
             0.7777777777777778,
             "#fb9f3a"
            ],
            [
             0.8888888888888888,
             "#fdca26"
            ],
            [
             1,
             "#f0f921"
            ]
           ]
          },
          "colorway": [
           "#636efa",
           "#EF553B",
           "#00cc96",
           "#ab63fa",
           "#FFA15A",
           "#19d3f3",
           "#FF6692",
           "#B6E880",
           "#FF97FF",
           "#FECB52"
          ],
          "font": {
           "color": "#2a3f5f"
          },
          "geo": {
           "bgcolor": "white",
           "lakecolor": "white",
           "landcolor": "#E5ECF6",
           "showlakes": true,
           "showland": true,
           "subunitcolor": "white"
          },
          "hoverlabel": {
           "align": "left"
          },
          "hovermode": "closest",
          "mapbox": {
           "style": "light"
          },
          "paper_bgcolor": "white",
          "plot_bgcolor": "#E5ECF6",
          "polar": {
           "angularaxis": {
            "gridcolor": "white",
            "linecolor": "white",
            "ticks": ""
           },
           "bgcolor": "#E5ECF6",
           "radialaxis": {
            "gridcolor": "white",
            "linecolor": "white",
            "ticks": ""
           }
          },
          "scene": {
           "xaxis": {
            "backgroundcolor": "#E5ECF6",
            "gridcolor": "white",
            "gridwidth": 2,
            "linecolor": "white",
            "showbackground": true,
            "ticks": "",
            "zerolinecolor": "white"
           },
           "yaxis": {
            "backgroundcolor": "#E5ECF6",
            "gridcolor": "white",
            "gridwidth": 2,
            "linecolor": "white",
            "showbackground": true,
            "ticks": "",
            "zerolinecolor": "white"
           },
           "zaxis": {
            "backgroundcolor": "#E5ECF6",
            "gridcolor": "white",
            "gridwidth": 2,
            "linecolor": "white",
            "showbackground": true,
            "ticks": "",
            "zerolinecolor": "white"
           }
          },
          "shapedefaults": {
           "line": {
            "color": "#2a3f5f"
           }
          },
          "ternary": {
           "aaxis": {
            "gridcolor": "white",
            "linecolor": "white",
            "ticks": ""
           },
           "baxis": {
            "gridcolor": "white",
            "linecolor": "white",
            "ticks": ""
           },
           "bgcolor": "#E5ECF6",
           "caxis": {
            "gridcolor": "white",
            "linecolor": "white",
            "ticks": ""
           }
          },
          "title": {
           "x": 0.05
          },
          "xaxis": {
           "automargin": true,
           "gridcolor": "white",
           "linecolor": "white",
           "ticks": "",
           "title": {
            "standoff": 15
           },
           "zerolinecolor": "white",
           "zerolinewidth": 2
          },
          "yaxis": {
           "automargin": true,
           "gridcolor": "white",
           "linecolor": "white",
           "ticks": "",
           "title": {
            "standoff": 15
           },
           "zerolinecolor": "white",
           "zerolinewidth": 2
          }
         }
        },
        "width": 1000
       }
      },
      "text/html": [
       "<div>                            <div id=\"f1e894b8-b332-460e-9cb3-229901e35bee\" class=\"plotly-graph-div\" style=\"height:1000px; width:1000px;\"></div>            <script type=\"text/javascript\">                require([\"plotly\"], function(Plotly) {                    window.PLOTLYENV=window.PLOTLYENV || {};                                    if (document.getElementById(\"f1e894b8-b332-460e-9cb3-229901e35bee\")) {                    Plotly.newPlot(                        \"f1e894b8-b332-460e-9cb3-229901e35bee\",                        [{\"branchvalues\":\"total\",\"customdata\":[[6.0],[16.0],[2.0],[6.0],[7.0],[7.0],[16.0],[8.0],[2.0],[5.0],[9.0],[9.0],[3.0],[3.0],[3.0],[2.0],[9.0],[2.0],[8.0],[2.0],[3.0],[2.0],[5.0],[9.0],[4.0],[7.0],[3.0],[4.0],[2.0],[3.0],[4.0],[2.0],[3.0],[4.0],[5.0],[3.0],[3.0],[2.0],[2.0],[5.0],[8.0],[6.0],[2.0],[5.0],[2.0],[6.0],[8.0],[7.0],[6.0],[5.0],[6.0],[2.0],[8.0],[3.0],[6.0],[7.0],[5.0],[4.0],[4.0],[16.0],[5.0],[16.0],[2.0],[5.0],[6.0],[6.0],[2.0],[2.0],[2.0],[6.0],[2.0],[5.0],[2.0],[6.0],[8.0],[12.0],[2.0],[3.0],[3.0],[3.0],[3.0],[8.0],[3.0],[8.0],[2.0],[9.0],[2.0],[2.0],[5.0],[2.0],[2.0],[8.0],[5.0],[3.0],[9.0],[12.0],[7.0],[3.0],[12.0],[9.0],[4.0],[3.0],[6.0],[5.0],[4.0],[4.0],[4.0],[6.0],[9.0],[5.0],[6.0],[7.0],[9.0],[3.0],[5.0],[3.0],[5.0],[2.0],[3.0],[4.0],[2.0],[9.0],[2.0],[3.0],[3.0],[3.0],[2.0],[3.0],[3.0],[2.0],[2.0],[3.0],[3.0],[2.0],[2.0],[3.0],[5.0],[5.0],[8.0],[3.0],[8.0],[5.0],[5.0],[2.0],[5.0],[5.0],[4.0],[4.0],[4.0],[8.0],[2.0],[5.0],[2.0],[4.0],[2.0],[5.0],[4.0],[5.0],[16.0],[16.0],[6.0],[3.0],[2.0],[2.0],[9.0],[2.0],[2.0],[2.0],[2.0],[7.0],[16.0],[12.0],[16.0],[12.0],[6.0],[2.0],[2.0],[16.0],[5.0],[2.0],[6.0],[7.0],[6.0],[5.0],[5.0],[6.0],[7.0],[5.0],[4.0],[3.0],[16.0],[2.0],[2.0],[2.0],[4.0],[6.0],[9.0],[5.0],[2.0],[3.0],[2.0],[2.0],[2.0],[2.0],[9.0],[6.0],[16.0],[2.0],[3.0],[4.0],[3.0],[3.0],[8.0],[7.0],[2.0],[7.0],[2.0],[3.0],[7.0],[4.0],[7.0],[2.0],[4.0],[6.0],[2.0],[7.0],[7.0],[5.0],[3.0],[12.0],[3.0],[3.0],[3.0],[7.0],[3.0],[3.0],[6.0],[3.0],[9.0],[3.0],[12.0],[5.0],[3.0],[2.0],[4.0],[2.0],[2.0],[2.0],[6.0],[3.0],[3.0],[3.0],[2.0],[16.0],[16.0],[2.0],[16.0],[2.0],[7.0],[7.0],[2.0],[2.0],[2.0],[3.0],[9.0],[9.0],[5.0],[2.0],[2.0],[6.0],[2.0],[9.0],[6.0],[12.0],[12.0],[4.0],[3.0],[4.0],[7.0],[12.0],[4.0],[3.0],[12.0],[12.0],[7.0],[2.0],[9.0],[5.0],[7.0],[7.0],[2.0],[5.0],[3.0],[4.0],[7.0],[7.0],[2.0],[4.0],[2.0],[2.0],[3.0],[2.0],[6.0],[2.0],[8.0],[6.0],[7.0],[7.0],[2.0],[4.0],[5.0],[3.0],[3.0],[8.0],[16.0],[6.0],[8.0],[2.0],[3.0],[7.0],[3.0],[3.0],[2.0],[4.0],[3.0],[7.0],[16.0],[3.0],[3.0],[2.0],[2.0],[7.0],[5.0],[2.0],[2.0],[2.0],[2.0],[6.0],[2.0],[4.0],[3.0],[2.0],[5.0],[2.0],[2.0],[7.0],[2.0],[4.0],[3.0],[4.0],[3.0],[7.0],[4.0],[3.0],[2.0],[6.0],[5.0],[9.0],[2.0],[2.0],[3.0],[7.0],[8.0],[3.0],[2.0],[5.0],[2.0],[2.0],[2.0],[16.0],[6.0],[2.0],[2.0],[2.0],[3.0],[2.0],[3.0],[2.0],[2.0],[12.0],[2.0],[5.0],[2.0],[5.0],[2.0],[2.0],[7.0],[4.0],[3.0],[2.0],[8.0],[2.0],[2.0],[3.0],[2.0],[2.0],[2.0],[3.0],[6.0],[5.0],[3.0],[3.0],[4.0],[2.0],[2.0],[2.0],[5.0],[2.0],[2.0],[4.0],[3.0],[2.0],[4.0],[3.0],[2.0],[3.0],[2.0],[6.0],[2.0],[2.0],[3.0],[3.0],[3.0],[3.0],[9.0],[3.0]],\"domain\":{\"x\":[0.0,1.0],\"y\":[0.0,1.0]},\"hovertemplate\":\"labels=%{label}<br>count=%{value}<br>parent=%{parent}<br>id=%{id}<br>Count=%{color}<extra></extra>\",\"ids\":[\"McGill University - Desautels Faculty of Management/Academic Analytics Consulting Project, TD, Data Analyst\",\"ESCP Business School/Academic Director of the Global Executive Ph.D. Programme\",\"Salesforce/Account Executive MuleSoft @Salesforce\",\"Amazon/Account Rep intern\",\"Cr\\u00e9dit Agricole CIB/Acquisition Finance & Advisory\",\"Cr\\u00e9dit Agricole CIB/Acquisition finance & Advisory - Analyste ISA\",\"ESCP Business School/Acting Dean - Acting Executive President\",\"Danone/Activia Global Assistante Brand Manager\",\"Morgan Stanley/Alternant branche OPS EMEA\",\"IBM/Alternant en transformation digitale et en innovation \",\"Wavestone/Analyst\",\"Wavestone/Analyste\",\"Tikehau Capital/Analyste ESG - Private Equity\",\"Saint-Gobain/Analyste Financier | Direction de la Strat\\u00e9gie\",\"PwC/Analyste M&A | Graduate Program Edge\",\"Entrepreneur Invest/Analyste Private Equity\",\"Wavestone/Analyste Secteur public\",\"CANAL+ Group/Analyste Strat\\u00e9gie et M&A\",\"L'Or\\u00e9al/Analyste Supply Chain\",\"EDF/Analyste en Investissements - Project Finance\",\"Dassault Syst\\u00e8mes/Analyste en Strat\\u00e9gie\",\"Soci\\u00e9t\\u00e9 G\\u00e9n\\u00e9rale/Analyste financements structur\\u00e9s (Acquisition et LBO)\",\"Accuracy/Analyste financier\",\"Carrefour/Analyste financier - Comit\\u00e9 d'investissement Groupe\",\"Rothschild & Co/Analyste risques\",\"Accenture/Analyste strat\\u00e9gie\",\"Saint-Gobain/Analyste strat\\u00e9gique\",\"Bpifrance/Analyste titrisation et refinancement durable\",\"AXA Investment Managers/Analyste transaction\",\"Google/Analytical Lead\",\"KPI Digital Solutions/Analytics Academic Consulting Project - Solution Architect\",\"Allianz Trade in North America/Analytics Academic Consulting Project - Team Lead | Data Architect | Data Analyst\",\"TD/Analytics Academic Consulting Project, Data Analyst\",\"KPI Digital Solutions/Analytics Academic Consulting Project, Data Scientist - Modeler\",\"IBM/Artificial Intelligence Managing Consultant\",\"TotalEnergies/Asset Management Analyst\",\"SAVENCIA/Assistant Category Manager\",\"SEPHORA/Assistant Category Manager E-commerce\",\"Nestl\\u00e9/Assistant Category Manager Enseignes\",\"Herm\\u00e8s/Assistant Chef de Projet M\\u00e9dia et Planning Strat\\u00e9gique - Beaut\\u00e9 et Parfums\",\"Danone/Assistant JBP E-Retail (E-Category & Key Account Manager)\",\"McGill University - Desautels Faculty of Management/Assistant Professor\",\"BNP Paribas/Assistant Vice President - Campus Recruiter and Program Specialist\",\"Herm\\u00e8s/Assistant chef de produit d\\u00e9veloppement des collections parfums\",\"Cartier/Assistante Chef de Produit D\\u00e9veloppement - Haute Parfumerie\",\"CHANEL/Assistante Chef de Produit D\\u00e9veloppement - Marketing International Maquillage Teint\",\"Danone/Assistante Chef de Produit Global pour HiPRO\",\"Cr\\u00e9dit Agricole CIB/Assistante Chef de Produit Structured Trade Finance\",\"CHANEL/Assistante Chef de Projet Style expertise & Digital Mode France\",\"Herm\\u00e8s/Assistante Identit\\u00e9 M\\u00e9tier Equitation\",\"CHANEL/Assistante Marketing Op\\u00e9rationnel & Commercial WFJ EUROPE\",\"Cartier/Assistante Projet Marketing et Business Analyst\",\"Danone/Assistante chef de produit HiPRO et Light&Free\",\"Louis Vuitton/Assistante chef de produit joaillerie\",\"CHANEL/Assistante chef de projet Business D\\u00e9veloppement \",\"Boston Consulting Group (BCG)/Associate\",\"McKinsey & Company/Associate\",\"Bain & Company/Associate Consultant\",\"Bain & Company/Associate Consultant Intern\",\"ESCP Business School/Associate Dean for Learning Innovation\",\"Pratt & Whitney Canada/Associate Director, Data Science & Analytics\",\"ESCP Business School/Associate Professor - Sustainability / Marketing\",\"L.E.K. Consulting/Associate intern\",\"Deloitte/Audit financier\",\"EY/Auditeur Financier\",\"EY/Auditeur financier\",\"AXA Investment Managers/Blockchain - Strategic Initiatives Intern\",\"Procter & Gamble/Brand Manager Oral-B Paste & Fixodent FR\",\"Deezer/Brand Partnerships Communication & Events Manager\",\"Amazon/Business Analyst\",\"Kearney/Business Analyst\",\"McKinsey & Company/Business Analyst\",\"Mirakl/Business Consultant\",\"Amazon/Business Intelligence Engineer\",\"L'Or\\u00e9al/Business Strategist & Data Scientist Team Lead (Academic Consulting Project)\",\"Groupe mind/Business Unit Director | Clubs\",\"Mirakl/Business consultant\",\"Michelin/Business incubation coach, Michelin Innovation Lab\",\"Back Market/CMO\",\"Ubisoft/Campus Management Specialist\",\"Citi/Cash Equity Intern\",\"Danone/Categories Communication Junior Manager\",\"Michelin/Category Manager\",\"Danone/Category performance Finance Apprentice\",\"Allianz France/Charg\\u00e9 d'\\u00e9tudes actuarielles\",\"Carrefour/Charg\\u00e9 de mission - Direction Exploitation Int\\u00e9gr\\u00e9s\",\"Groupe Caisse des D\\u00e9p\\u00f4ts/Charg\\u00e9 de missions strat\\u00e9giques\",\"Soci\\u00e9t\\u00e9 G\\u00e9n\\u00e9rale/Charg\\u00e9e d'\\u00e9tudes r\\u00e9mun\\u00e9ration\",\"Herm\\u00e8s/Charg\\u00e9e de communication\",\"BNP Paribas Cardif/Charg\\u00e9e de mission RSE, Finance et Environnement\",\"Direction G\\u00e9n\\u00e9rale des Entreprises/Charg\\u00e9e de mission Sant\\u00e9 Num\\u00e9rique / Economie de la sant\\u00e9\",\"Danone/Charg\\u00e9e de mission au cabinet du CEO\",\"Herm\\u00e8s/Charg\\u00e9e des Commandes Cavaliers Partenaires\",\"SAVENCIA/Chef de marque Saint Agur I Graduate Program I Savencia \",\"Carrefour/Chef de projet RSE\",\"Groupe mind/Chief Operating Officer\",\"Jellyfish/Client Partner & Hub Lead at Jellyfish\",\"Microsoft/Cloud Growth & Acquisition - Go-to-Market Manager | Azure Business Group\",\"Groupe mind/Co-founder, CEO, Publisher\",\"Carrefour/Conseill\\u00e8re de Franchise - magasins de Proximit\\u00e9 | Direction Proximit\\u00e9 IDF Centre\",\"Argon & Co/Consultant\",\"BearingPoint/Consultant\",\"EY/Consultant\",\"IBM/Consultant\",\"BRP/Consultant - Project Manager & Data Engineer - Capstone\",\"Publicis Sapient/Consultant - Strategy Consulting\",\"Argon & Co/Consultant Data Analyst\",\"EY/Consultant Finance Durable - Climate Change & Sustainability Services | FSO\",\"Wavestone/Consultant Stagiaire - Digital & Emerging Technologies\",\"Deloitte/Consultant in Sustainable Finance\",\"EY/Consultant in Transactions Services\",\"Accenture/Consultant junior\",\"Wavestone/Consultant | Technologies digitales et \\u00e9mergentes \",\"KPMG France/Consultante\",\"Deloitte/Consultante Climat Senior\",\"KPMG France/Consultante Finance Strategy and Performance\",\"Capgemini Invent/Consultante Workforce & Organization\",\"Advancy/Consultante en Strat\\u00e9gie\",\"Mazars/Consultante en services financiers - Banque Finance Risque\",\"Argon & Co/Consultante en strat\\u00e9gie des op\\u00e9rations\",\"Lynx partners/Consultante junior\",\"Wavestone/Consultante junior\",\"Lynx partners/Consultante stagiaire\",\"BearingPoint/Consultante stagiaire - Consumer, Goods & Retail\",\"BearingPoint/Consultante stagiaire Secteur Public\",\"Mazars/Consulting/Accounting in CSR \",\"Publicis Media/Corporate Finance Intern\",\"Louis Vuitton/Corporate Internal Auditor & Controller\",\"Saint-Gobain/Corporate Strategy Analyst Intern - HPS (High Performance Solutions)\",\"Edenred/Corporate Strategy Intern\",\"Ind\\u00e9pendant/Cr\\u00e9ateur d'exp\\u00e9riences - digitales et pr\\u00e9sencielles\",\"KPMG France/Customer & Operations - Financial services\",\"Google/Customer Engineer Data Analytics\",\"Ma Petite \\u00c9curie/Customer Success Manager\",\"ISOSKELE/DGA en charge des Strat\\u00e9gies, de la Cr\\u00e9ation et de la R\\u00e9putation\",\"Dassault Syst\\u00e8mes/Dassault Syst\\u00e8mes, BIOVIA Software Engineering Director\",\"Capgemini Invent/Data & Analytics consultant - frog\",\"BDC/Data Analyst\",\"L'Or\\u00e9al/Data Analyst (Academic Consulting Project)\",\"TD/Data Analyst and Architect - Academic Analytics Consulting Project\",\"L'Or\\u00e9al/Data Analyst/Scientist (Academic Consulting Project)\",\"Pratt & Whitney Canada/Data Analyst/Scientist - Academic Consulting Project\",\"BDC/Data Architect\",\"Artefact/Data Consultant & Product Owner\",\"BDC/Data Modeler\",\"BDC/Data Scientist\",\"BRP/Data Scientist & Solutions Architect / Analytics Academic Consulting project\",\"BRP/Data Scientist & Team Lead (Academic Consulting Project)\",\"KPI Digital Solutions/Data Scientist (Academic Consulting Project)\",\"L'Or\\u00e9al/Data Scientist (Academic Consulting Project)\",\"Allianz Trade in North America/Data Scientist - Analytics Academic Consulting Project\",\"BDC/Data Scientist - Project Manager\",\"Desjardins/Data Scientist - Validation and Monitoring of Risk Models\",\"KPI Digital Solutions/Data Scientist / UI-UX Specialist (Academic Project)\",\"Richemont/Data Scientist Intern\",\"Pratt & Whitney Canada/Data Scientist, Project Manager - Academic Consulting Project\",\"BRP/Data Scientist/Data Analyst Consultant- Academic Capstone\",\"Pratt & Whitney Canada/Data analyst, Project manager- Academic Consulting Project\",\"ESCP Business School/Dean Executive MBA and General Management Programme\",\"ESCP Business School/Dean and Executive President\",\"Societe Generale Corporate and Investment Banking - SGCIB/Derivative Listed Products - Public Distribution Iberica\",\"Dassault Syst\\u00e8mes/Digital & Media Director\",\"Artefact/Digital Marketing Executive\",\"SEPHORA/Digital Strategist (Academic Consulting Project)\",\"Carrefour/Directeur Sourcing Europe & Euromed\",\"Nestl\\u00e9/Directeur de Marque Nestl\\u00e9 Chocolats Premium Tablettes & Saisonnier\",\"ISOSKELE/Directeur du d\\u00e9partement Intelligence Marketing\",\"Groupe Sud Ouest/Directeur du p\\u00f4le Medias\",\"Groupe Sud Ouest/Directeur g\\u00e9n\\u00e9ral\",\"Jellyfish/Director, Sales & Partnerships\",\"ESCP Business School/Directrice Scientifique de la Chaire Reinventing Work\",\"Groupe mind/Directrice associ\\u00e9e\",\"ESCP Business School/Directrice des \\u00e9tudes du Master in Management - programme Grande Ecole\",\"Groupe mind/Directrice du d\\u00e9veloppement\",\"Societe Generale Corporate and Investment Banking - SGCIB/ECM Analyst Intern - EQL\",\"BNP Paribas Asset Management/Equity Trader Assistant\",\"Procter & Gamble/Europe Customization Business Planning Director\",\"ESCP Business School/Executive Director of the MSc in Digital Project Management & Consulting\",\"McKinsey & Company/Executive Recruiter\",\"HSBC/FX Large Corporate Sales Analyst \\u2013 Global Markets\",\"McGill University - Desautels Faculty of Management/Faculty Lecturer\",\"Accenture/Finance & Risk Manager\",\"Amazon/Financial Analyst\",\"Accuracy/Financial Analyst Intern\",\"Accuracy/Financial Analyst Intern \",\"Amazon/Financial Analyst intern\",\"BNP Paribas CIB/Financial Institutions Coverage Analyst Intern\",\"Capgemini Invent/Financial Transformation Consultant\",\"Publicis Sapient/France Talent Acquisition Lead\",\"Microsoft/France University Recruiter | School Engagement Manager || Global Talent Acquisition\",\"ESCP Business School/Full professor\",\"Lazard/Generalist M&A Intern\",\"Salesforce/Global Consumer Goods Industry Advisor\",\"Allianz Global Investors/Global Talent Acquisition Manager\",\"Rothschild & Co/Global advisory intern\",\"Amazon/Graduate Ecommerce Trainee Program\",\"Carrefour/Graduate Programme Finance - Gestion de projet Order to Cash\",\"Capgemini Invent/Green IT Senior Consultant\",\"Eurazeo/Group Strategy / M&A Analyst\",\"Ubisoft/HR Business Partner\",\"Desjardins/Head of Product Development, Desjardins Funds/ Chef du d\\u00e9veloppement, fonds desjardins\",\"Richemont/Human Resources Director Richemont France\",\"Groupe Caisse des D\\u00e9p\\u00f4ts/Indirect Private Equity Analyst\",\"BNP Paribas Asset Management/Infrastructure Private Debt Analyst \",\"Wavestone/Infrastructure and Data Architecture Consulting Intern\",\"Societe Generale Corporate and Investment Banking - SGCIB/Interest Rates Derivatives Sales Assistant - Structured Finance Hedging\",\"ESCP Business School/Internal Communication Manager\",\"Goldman Sachs/Investment Banking Analyst\",\"Citi/Investment Banking Summer Analyst\",\"Mind Fintech/Journaliste\",\"mind Media/Journaliste\",\"mind Media/Journaliste cheffe de rubrique\",\"L'Or\\u00e9al/Junior Business Manager\",\"Accenture/Junior Consultant\",\"Hogan Lovells/Legal Trainee - Banking and Finance\",\"BNP Paribas CIB/Long Term Intern\",\"BNP Paribas/M&A Analyst\",\"TotalEnergies/M&A Analyst (Renewables Energy)\",\"BNP Paribas CIB/M&A Analyst Intern\",\"Bpifrance/M&A Analyst Intern\",\"Cr\\u00e9dit Agricole CIB/M&A Analyst Intern\",\"Lazard/M&A Analyst Intern\",\"Rothschild & Co/M&A Analyst Intern\",\"Societe Generale Corporate and Investment Banking - SGCIB/M&A Analyst Intern\",\"Sycomore Corporate Finance/M&A Analyst Intern\",\"BNP Paribas CIB/M&A Analyst Intern \",\"BNP Paribas CIB/M&A Analyst intern\",\"Deloitte/M&A and Transaction Services Intern\",\"Tikehau Capital/M&A and corporate development \",\"Groupe mind/Manager of Customer Success\",\"Businesscoot/Market Research Analyst\",\"Businesscoot/Market research analyst\",\"Michelin/Marketing Associate - Pricing Manager\",\"Jellyfish/Marketing Director\",\"Louis Vuitton/Marketing Intelligence Analyst\",\"Google/Marketing Science Lead\",\"McGill University - Desautels Faculty of Management/Master Career Coach\",\"Freelance/Office Manager\",\"Carrefour/Operational and Development Director (Supeco France \\ud83c\\uddeb\\ud83c\\uddf7)\",\"Freelance/PC12 / TBM / PA46T Freelance pilot\",\"Groupe mind/Partner and senior media analyst \",\"Pratt & Whitney Canada/President\",\"Back Market/Principal Product Manager | US and Country Expansion\",\"Allianz Global Investors/Private Debt Analyst Intern\",\"Bpifrance/Private Equity Analyst\",\"Ardian/Private Equity Analyst Intern\",\"Entrepreneur Invest/Private Equity Analyst Intern\",\"Eurazeo/Private Equity Analyst Intern\",\"Societe Generale Corporate and Investment Banking - SGCIB/Private Equity Analyst Intern\",\"Tikehau Capital/Private Equity Analyst Intern\",\"Ark\\u00e9a Real Estate/Private Equity Real Estate Analyst\",\"Ark\\u00e9a Real Estate/Private Equity Real Estate Analyst (Asset Management) \",\"Deezer/Product Manager Intern\",\"ESCP Business School/Professeur\",\"ESCP Business School/Professeur Affili\\u00e9\",\"Ma Petite \\u00c9curie/Professeur particulier de math\\u00e9matiques et lettres en lyc\\u00e9e et classes pr\\u00e9pa \",\"ESCP Business School/Professor\",\"Publicis Media/Programmatic acc manager/ Trader\",\"Cr\\u00e9dit Agricole CIB/Project Finance Analyst - Energy & Infrastructure Group Italy\",\"Cr\\u00e9dit Agricole CIB/Project Finance Analyst Intern\",\"EDF/Project Management Officer\",\"Edenred/Project Management Officer IT Northern Europe\",\"Morgan Stanley/Quantitative Finance Fall Associate\",\"Ark\\u00e9a Real Estate/Real Estate Asset Management Analyst\",\"Wavestone/Recruitment Business Partner\",\"Carrefour/Regional Director Of Sales And Marketing\",\"IBM/Relations Grandes Ecoles et Universit\\u00e9s \",\"Goldman Sachs/Relationship Manager France Belgium Luxembourg\",\"CentraleSup\\u00e9lec/Research Assistant\",\"CHANEL/Responsable Acquisition des Talents et Relations Ecoles\",\"CANAL+ Group/Responsable Activation Data\",\"Carrefour/Responsable Projets R\\u00e9duction d'emballage et consigne \",\"CHANEL/Responsable RH / HRBP Manager\",\"Groupe mind/Responsable Ressources Humaines\",\"Groupe mind/Responsable technique / \\u00e9tudes et d\\u00e9veloppements informatiques\",\"Mind Fintech/R\\u00e9dacteur en chef\",\"mind Media/R\\u00e9dacteur en chef\",\"Mind Fintech/R\\u00e9dactrice en chef adjointe\",\"BNP Paribas CIB/Sales Assistant Cross Asset Structured Products - Privalto\",\"Groupe mind/Sales Coordinator\",\"Mind Fintech/Sales Coordinator - mindFintech\",\"Microsoft/Sales Director, Education and Research, France\",\"Groupe mind/Sales Team Leader\",\"Groupe mind/Sales coordinator \",\"Jellyfish/Senior Adtech & Supply Director\",\"L.E.K. Consulting/Senior Associate\",\"Wavestone/Senior Digital Transformation Consultant\",\"IBM/Senior Digital Transformation consultant (Data & Artificial Intelligence)\",\"Jellyfish/Senior Director, Display & Programmatic\",\"Jellyfish/Senior Director, Technology Solutions\",\"Lund University School of Economics and Management/Senior Lecturer\",\"Deloitte/Senior Manager - Artificial Intelligence & Data\",\"Ubisoft/Senior Manager, Talent Acquisition, Central Publishing & D2P\",\"Publicis Sapient/Senior Managing Director\",\"Jellyfish/Senior Market Intelligence Manager\",\"Accenture/Senior Strategy Consultant\",\"Direction G\\u00e9n\\u00e9rale des Entreprises/Sous-Direction des services marchands | Services aux entreprises\",\"Rothschild & Co/Sovereign Advisory\",\"Ind\\u00e9pendant/Sp\\u00e9cialiste du recrutement\",\"Advancy/Stagiaire Consultant en Strat\\u00e9gie\",\"TotalEnergies/Stagiaire Contrats Digital & Gouvernance\",\"Hogan Lovells/Stagiaire en contentieux des affaires\",\"McGill University - Desautels Faculty of Management/Strategic Management Tutor\",\"Allianz France/Strategy & CVC Analyst\",\"Danone/Strategy & International Business Development\",\"EY/Strategy & Transactions Intern | Transaction Diligence \",\"Accenture/Strategy Analyst\",\"BNP Paribas CIB/Strategy Analyst Intern\",\"HSBC/Strategy Intern - Structured Finance\",\"Publicis Sapient/Strategy Senior Consultant\",\"Capgemini Invent/Strategy and Transformation Consultant\",\"SAVENCIA/Strategy and transformation intern\",\"Citi/Summer Analyst - Markets\",\"L'Or\\u00e9al/Supply Chain Analyst\",\"ESCP Business School/Sustainability Manager\",\"McGill University - Desautels Faculty of Management/TD bank - Analytics Academic Consulting Project, Data Scientist - Modeler\",\"L'Or\\u00e9al/Talent Acquisition & HR Project Manager for Operations \",\"Lund University School of Economics and Management/Teacher\",\"Back Market/Tech TA Manager \",\"Accenture/Technology Strategy and Advisory Consultant\",\"Mazars/Transaction Services Analyst\",\"PwC/Transaction Services Apprentice\",\"BNP Paribas Cardif/VC Analyst\",\"Bpifrance/VC Analyst @Bpifrance Green Venture\",\"TD/Vice President Portfolio Research Manager\",\"Boston Consulting Group (BCG)/Visiting Associate\",\"ESCP Business School/Visiting Professor | Digital Innovation Management\",\"Freelance/Web editor\",\"PwC/Working Student for Sustainability Services\",\"CentraleSup\\u00e9lec/\\u00c9tudiant ing\\u00e9nieur\",\"AXA Investment Managers\",\"Accenture\",\"Accuracy\",\"Advancy\",\"Allianz France\",\"Allianz Global Investors\",\"Allianz Trade in North America\",\"Amazon\",\"Ardian\",\"Argon & Co\",\"Ark\\u00e9a Real Estate\",\"Artefact\",\"BDC\",\"BNP Paribas\",\"BNP Paribas Asset Management\",\"BNP Paribas CIB\",\"BNP Paribas Cardif\",\"BRP\",\"Back Market\",\"Bain & Company\",\"BearingPoint\",\"Boston Consulting Group (BCG)\",\"Bpifrance\",\"Businesscoot\",\"CANAL+ Group\",\"CHANEL\",\"Capgemini Invent\",\"Carrefour\",\"Cartier\",\"CentraleSup\\u00e9lec\",\"Citi\",\"Cr\\u00e9dit Agricole CIB\",\"Danone\",\"Dassault Syst\\u00e8mes\",\"Deezer\",\"Deloitte\",\"Desjardins\",\"Direction G\\u00e9n\\u00e9rale des Entreprises\",\"EDF\",\"ESCP Business School\",\"EY\",\"Edenred\",\"Entrepreneur Invest\",\"Eurazeo\",\"Freelance\",\"Goldman Sachs\",\"Google\",\"Groupe Caisse des D\\u00e9p\\u00f4ts\",\"Groupe Sud Ouest\",\"Groupe mind\",\"HSBC\",\"Herm\\u00e8s\",\"Hogan Lovells\",\"IBM\",\"ISOSKELE\",\"Ind\\u00e9pendant\",\"Jellyfish\",\"KPI Digital Solutions\",\"KPMG France\",\"Kearney\",\"L'Or\\u00e9al\",\"L.E.K. Consulting\",\"Lazard\",\"Louis Vuitton\",\"Lund University School of Economics and Management\",\"Lynx partners\",\"Ma Petite \\u00c9curie\",\"Mazars\",\"McGill University - Desautels Faculty of Management\",\"McKinsey & Company\",\"Michelin\",\"Microsoft\",\"Mind Fintech\",\"Mirakl\",\"Morgan Stanley\",\"Nestl\\u00e9\",\"Pratt & Whitney Canada\",\"Procter & Gamble\",\"Publicis Media\",\"Publicis Sapient\",\"PwC\",\"Richemont\",\"Rothschild & Co\",\"SAVENCIA\",\"SEPHORA\",\"Saint-Gobain\",\"Salesforce\",\"Societe Generale Corporate and Investment Banking - SGCIB\",\"Soci\\u00e9t\\u00e9 G\\u00e9n\\u00e9rale\",\"Sycomore Corporate Finance\",\"TD\",\"Tikehau Capital\",\"TotalEnergies\",\"Ubisoft\",\"Wavestone\",\"mind Media\"],\"labels\":[\"Academic Analytics Consulting Project, TD, Data Analyst\",\"Academic Director of the Global Executive Ph.D. Programme\",\"Account Executive MuleSoft @Salesforce\",\"Account Rep intern\",\"Acquisition Finance & Advisory\",\"Acquisition finance & Advisory - Analyste ISA\",\"Acting Dean - Acting Executive President\",\"Activia Global Assistante Brand Manager\",\"Alternant branche OPS EMEA\",\"Alternant en transformation digitale et en innovation \",\"Analyst\",\"Analyste\",\"Analyste ESG - Private Equity\",\"Analyste Financier | Direction de la Strat\\u00e9gie\",\"Analyste M&A | Graduate Program Edge\",\"Analyste Private Equity\",\"Analyste Secteur public\",\"Analyste Strat\\u00e9gie et M&A\",\"Analyste Supply Chain\",\"Analyste en Investissements - Project Finance\",\"Analyste en Strat\\u00e9gie\",\"Analyste financements structur\\u00e9s (Acquisition et LBO)\",\"Analyste financier\",\"Analyste financier - Comit\\u00e9 d'investissement Groupe\",\"Analyste risques\",\"Analyste strat\\u00e9gie\",\"Analyste strat\\u00e9gique\",\"Analyste titrisation et refinancement durable\",\"Analyste transaction\",\"Analytical Lead\",\"Analytics Academic Consulting Project - Solution Architect\",\"Analytics Academic Consulting Project - Team Lead | Data Architect | Data Analyst\",\"Analytics Academic Consulting Project, Data Analyst\",\"Analytics Academic Consulting Project, Data Scientist - Modeler\",\"Artificial Intelligence Managing Consultant\",\"Asset Management Analyst\",\"Assistant Category Manager\",\"Assistant Category Manager E-commerce\",\"Assistant Category Manager Enseignes\",\"Assistant Chef de Projet M\\u00e9dia et Planning Strat\\u00e9gique - Beaut\\u00e9 et Parfums\",\"Assistant JBP E-Retail (E-Category & Key Account Manager)\",\"Assistant Professor\",\"Assistant Vice President - Campus Recruiter and Program Specialist\",\"Assistant chef de produit d\\u00e9veloppement des collections parfums\",\"Assistante Chef de Produit D\\u00e9veloppement - Haute Parfumerie\",\"Assistante Chef de Produit D\\u00e9veloppement - Marketing International Maquillage Teint\",\"Assistante Chef de Produit Global pour HiPRO\",\"Assistante Chef de Produit Structured Trade Finance\",\"Assistante Chef de Projet Style expertise & Digital Mode France\",\"Assistante Identit\\u00e9 M\\u00e9tier Equitation\",\"Assistante Marketing Op\\u00e9rationnel & Commercial WFJ EUROPE\",\"Assistante Projet Marketing et Business Analyst\",\"Assistante chef de produit HiPRO et Light&Free\",\"Assistante chef de produit joaillerie\",\"Assistante chef de projet Business D\\u00e9veloppement \",\"Associate\",\"Associate\",\"Associate Consultant\",\"Associate Consultant Intern\",\"Associate Dean for Learning Innovation\",\"Associate Director, Data Science & Analytics\",\"Associate Professor - Sustainability / Marketing\",\"Associate intern\",\"Audit financier\",\"Auditeur Financier\",\"Auditeur financier\",\"Blockchain - Strategic Initiatives Intern\",\"Brand Manager Oral-B Paste & Fixodent FR\",\"Brand Partnerships Communication & Events Manager\",\"Business Analyst\",\"Business Analyst\",\"Business Analyst\",\"Business Consultant\",\"Business Intelligence Engineer\",\"Business Strategist & Data Scientist Team Lead (Academic Consulting Project)\",\"Business Unit Director | Clubs\",\"Business consultant\",\"Business incubation coach, Michelin Innovation Lab\",\"CMO\",\"Campus Management Specialist\",\"Cash Equity Intern\",\"Categories Communication Junior Manager\",\"Category Manager\",\"Category performance Finance Apprentice\",\"Charg\\u00e9 d'\\u00e9tudes actuarielles\",\"Charg\\u00e9 de mission - Direction Exploitation Int\\u00e9gr\\u00e9s\",\"Charg\\u00e9 de missions strat\\u00e9giques\",\"Charg\\u00e9e d'\\u00e9tudes r\\u00e9mun\\u00e9ration\",\"Charg\\u00e9e de communication\",\"Charg\\u00e9e de mission RSE, Finance et Environnement\",\"Charg\\u00e9e de mission Sant\\u00e9 Num\\u00e9rique / Economie de la sant\\u00e9\",\"Charg\\u00e9e de mission au cabinet du CEO\",\"Charg\\u00e9e des Commandes Cavaliers Partenaires\",\"Chef de marque Saint Agur I Graduate Program I Savencia \",\"Chef de projet RSE\",\"Chief Operating Officer\",\"Client Partner & Hub Lead at Jellyfish\",\"Cloud Growth & Acquisition - Go-to-Market Manager | Azure Business Group\",\"Co-founder, CEO, Publisher\",\"Conseill\\u00e8re de Franchise - magasins de Proximit\\u00e9 | Direction Proximit\\u00e9 IDF Centre\",\"Consultant\",\"Consultant\",\"Consultant\",\"Consultant\",\"Consultant - Project Manager & Data Engineer - Capstone\",\"Consultant - Strategy Consulting\",\"Consultant Data Analyst\",\"Consultant Finance Durable - Climate Change & Sustainability Services | FSO\",\"Consultant Stagiaire - Digital & Emerging Technologies\",\"Consultant in Sustainable Finance\",\"Consultant in Transactions Services\",\"Consultant junior\",\"Consultant | Technologies digitales et \\u00e9mergentes \",\"Consultante\",\"Consultante Climat Senior\",\"Consultante Finance Strategy and Performance\",\"Consultante Workforce & Organization\",\"Consultante en Strat\\u00e9gie\",\"Consultante en services financiers - Banque Finance Risque\",\"Consultante en strat\\u00e9gie des op\\u00e9rations\",\"Consultante junior\",\"Consultante junior\",\"Consultante stagiaire\",\"Consultante stagiaire - Consumer, Goods & Retail\",\"Consultante stagiaire Secteur Public\",\"Consulting/Accounting in CSR \",\"Corporate Finance Intern\",\"Corporate Internal Auditor & Controller\",\"Corporate Strategy Analyst Intern - HPS (High Performance Solutions)\",\"Corporate Strategy Intern\",\"Cr\\u00e9ateur d'exp\\u00e9riences - digitales et pr\\u00e9sencielles\",\"Customer & Operations - Financial services\",\"Customer Engineer Data Analytics\",\"Customer Success Manager\",\"DGA en charge des Strat\\u00e9gies, de la Cr\\u00e9ation et de la R\\u00e9putation\",\"Dassault Syst\\u00e8mes, BIOVIA Software Engineering Director\",\"Data & Analytics consultant - frog\",\"Data Analyst\",\"Data Analyst (Academic Consulting Project)\",\"Data Analyst and Architect - Academic Analytics Consulting Project\",\"Data Analyst/Scientist (Academic Consulting Project)\",\"Data Analyst/Scientist - Academic Consulting Project\",\"Data Architect\",\"Data Consultant & Product Owner\",\"Data Modeler\",\"Data Scientist\",\"Data Scientist & Solutions Architect / Analytics Academic Consulting project\",\"Data Scientist & Team Lead (Academic Consulting Project)\",\"Data Scientist (Academic Consulting Project)\",\"Data Scientist (Academic Consulting Project)\",\"Data Scientist - Analytics Academic Consulting Project\",\"Data Scientist - Project Manager\",\"Data Scientist - Validation and Monitoring of Risk Models\",\"Data Scientist / UI-UX Specialist (Academic Project)\",\"Data Scientist Intern\",\"Data Scientist, Project Manager - Academic Consulting Project\",\"Data Scientist/Data Analyst Consultant- Academic Capstone\",\"Data analyst, Project manager- Academic Consulting Project\",\"Dean Executive MBA and General Management Programme\",\"Dean and Executive President\",\"Derivative Listed Products - Public Distribution Iberica\",\"Digital & Media Director\",\"Digital Marketing Executive\",\"Digital Strategist (Academic Consulting Project)\",\"Directeur Sourcing Europe & Euromed\",\"Directeur de Marque Nestl\\u00e9 Chocolats Premium Tablettes & Saisonnier\",\"Directeur du d\\u00e9partement Intelligence Marketing\",\"Directeur du p\\u00f4le Medias\",\"Directeur g\\u00e9n\\u00e9ral\",\"Director, Sales & Partnerships\",\"Directrice Scientifique de la Chaire Reinventing Work\",\"Directrice associ\\u00e9e\",\"Directrice des \\u00e9tudes du Master in Management - programme Grande Ecole\",\"Directrice du d\\u00e9veloppement\",\"ECM Analyst Intern - EQL\",\"Equity Trader Assistant\",\"Europe Customization Business Planning Director\",\"Executive Director of the MSc in Digital Project Management & Consulting\",\"Executive Recruiter\",\"FX Large Corporate Sales Analyst \\u2013 Global Markets\",\"Faculty Lecturer\",\"Finance & Risk Manager\",\"Financial Analyst\",\"Financial Analyst Intern\",\"Financial Analyst Intern \",\"Financial Analyst intern\",\"Financial Institutions Coverage Analyst Intern\",\"Financial Transformation Consultant\",\"France Talent Acquisition Lead\",\"France University Recruiter | School Engagement Manager || Global Talent Acquisition\",\"Full professor\",\"Generalist M&A Intern\",\"Global Consumer Goods Industry Advisor\",\"Global Talent Acquisition Manager\",\"Global advisory intern\",\"Graduate Ecommerce Trainee Program\",\"Graduate Programme Finance - Gestion de projet Order to Cash\",\"Green IT Senior Consultant\",\"Group Strategy / M&A Analyst\",\"HR Business Partner\",\"Head of Product Development, Desjardins Funds/ Chef du d\\u00e9veloppement, fonds desjardins\",\"Human Resources Director Richemont France\",\"Indirect Private Equity Analyst\",\"Infrastructure Private Debt Analyst \",\"Infrastructure and Data Architecture Consulting Intern\",\"Interest Rates Derivatives Sales Assistant - Structured Finance Hedging\",\"Internal Communication Manager\",\"Investment Banking Analyst\",\"Investment Banking Summer Analyst\",\"Journaliste\",\"Journaliste\",\"Journaliste cheffe de rubrique\",\"Junior Business Manager\",\"Junior Consultant\",\"Legal Trainee - Banking and Finance\",\"Long Term Intern\",\"M&A Analyst\",\"M&A Analyst (Renewables Energy)\",\"M&A Analyst Intern\",\"M&A Analyst Intern\",\"M&A Analyst Intern\",\"M&A Analyst Intern\",\"M&A Analyst Intern\",\"M&A Analyst Intern\",\"M&A Analyst Intern\",\"M&A Analyst Intern \",\"M&A Analyst intern\",\"M&A and Transaction Services Intern\",\"M&A and corporate development \",\"Manager of Customer Success\",\"Market Research Analyst\",\"Market research analyst\",\"Marketing Associate - Pricing Manager\",\"Marketing Director\",\"Marketing Intelligence Analyst\",\"Marketing Science Lead\",\"Master Career Coach\",\"Office Manager\",\"Operational and Development Director (Supeco France \\ud83c\\uddeb\\ud83c\\uddf7)\",\"PC12 / TBM / PA46T Freelance pilot\",\"Partner and senior media analyst \",\"President\",\"Principal Product Manager | US and Country Expansion\",\"Private Debt Analyst Intern\",\"Private Equity Analyst\",\"Private Equity Analyst Intern\",\"Private Equity Analyst Intern\",\"Private Equity Analyst Intern\",\"Private Equity Analyst Intern\",\"Private Equity Analyst Intern\",\"Private Equity Real Estate Analyst\",\"Private Equity Real Estate Analyst (Asset Management) \",\"Product Manager Intern\",\"Professeur\",\"Professeur Affili\\u00e9\",\"Professeur particulier de math\\u00e9matiques et lettres en lyc\\u00e9e et classes pr\\u00e9pa \",\"Professor\",\"Programmatic acc manager/ Trader\",\"Project Finance Analyst - Energy & Infrastructure Group Italy\",\"Project Finance Analyst Intern\",\"Project Management Officer\",\"Project Management Officer IT Northern Europe\",\"Quantitative Finance Fall Associate\",\"Real Estate Asset Management Analyst\",\"Recruitment Business Partner\",\"Regional Director Of Sales And Marketing\",\"Relations Grandes Ecoles et Universit\\u00e9s \",\"Relationship Manager France Belgium Luxembourg\",\"Research Assistant\",\"Responsable Acquisition des Talents et Relations Ecoles\",\"Responsable Activation Data\",\"Responsable Projets R\\u00e9duction d'emballage et consigne \",\"Responsable RH / HRBP Manager\",\"Responsable Ressources Humaines\",\"Responsable technique / \\u00e9tudes et d\\u00e9veloppements informatiques\",\"R\\u00e9dacteur en chef\",\"R\\u00e9dacteur en chef\",\"R\\u00e9dactrice en chef adjointe\",\"Sales Assistant Cross Asset Structured Products - Privalto\",\"Sales Coordinator\",\"Sales Coordinator - mindFintech\",\"Sales Director, Education and Research, France\",\"Sales Team Leader\",\"Sales coordinator \",\"Senior Adtech & Supply Director\",\"Senior Associate\",\"Senior Digital Transformation Consultant\",\"Senior Digital Transformation consultant (Data & Artificial Intelligence)\",\"Senior Director, Display & Programmatic\",\"Senior Director, Technology Solutions\",\"Senior Lecturer\",\"Senior Manager - Artificial Intelligence & Data\",\"Senior Manager, Talent Acquisition, Central Publishing & D2P\",\"Senior Managing Director\",\"Senior Market Intelligence Manager\",\"Senior Strategy Consultant\",\"Sous-Direction des services marchands | Services aux entreprises\",\"Sovereign Advisory\",\"Sp\\u00e9cialiste du recrutement\",\"Stagiaire Consultant en Strat\\u00e9gie\",\"Stagiaire Contrats Digital & Gouvernance\",\"Stagiaire en contentieux des affaires\",\"Strategic Management Tutor\",\"Strategy & CVC Analyst\",\"Strategy & International Business Development\",\"Strategy & Transactions Intern | Transaction Diligence \",\"Strategy Analyst\",\"Strategy Analyst Intern\",\"Strategy Intern - Structured Finance\",\"Strategy Senior Consultant\",\"Strategy and Transformation Consultant\",\"Strategy and transformation intern\",\"Summer Analyst - Markets\",\"Supply Chain Analyst\",\"Sustainability Manager\",\"TD bank - Analytics Academic Consulting Project, Data Scientist - Modeler\",\"Talent Acquisition & HR Project Manager for Operations \",\"Teacher\",\"Tech TA Manager \",\"Technology Strategy and Advisory Consultant\",\"Transaction Services Analyst\",\"Transaction Services Apprentice\",\"VC Analyst\",\"VC Analyst @Bpifrance Green Venture\",\"Vice President Portfolio Research Manager\",\"Visiting Associate\",\"Visiting Professor | Digital Innovation Management\",\"Web editor\",\"Working Student for Sustainability Services\",\"\\u00c9tudiant ing\\u00e9nieur\",\"AXA Investment Managers\",\"Accenture\",\"Accuracy\",\"Advancy\",\"Allianz France\",\"Allianz Global Investors\",\"Allianz Trade in North America\",\"Amazon\",\"Ardian\",\"Argon & Co\",\"Ark\\u00e9a Real Estate\",\"Artefact\",\"BDC\",\"BNP Paribas\",\"BNP Paribas Asset Management\",\"BNP Paribas CIB\",\"BNP Paribas Cardif\",\"BRP\",\"Back Market\",\"Bain & Company\",\"BearingPoint\",\"Boston Consulting Group (BCG)\",\"Bpifrance\",\"Businesscoot\",\"CANAL+ Group\",\"CHANEL\",\"Capgemini Invent\",\"Carrefour\",\"Cartier\",\"CentraleSup\\u00e9lec\",\"Citi\",\"Cr\\u00e9dit Agricole CIB\",\"Danone\",\"Dassault Syst\\u00e8mes\",\"Deezer\",\"Deloitte\",\"Desjardins\",\"Direction G\\u00e9n\\u00e9rale des Entreprises\",\"EDF\",\"ESCP Business School\",\"EY\",\"Edenred\",\"Entrepreneur Invest\",\"Eurazeo\",\"Freelance\",\"Goldman Sachs\",\"Google\",\"Groupe Caisse des D\\u00e9p\\u00f4ts\",\"Groupe Sud Ouest\",\"Groupe mind\",\"HSBC\",\"Herm\\u00e8s\",\"Hogan Lovells\",\"IBM\",\"ISOSKELE\",\"Ind\\u00e9pendant\",\"Jellyfish\",\"KPI Digital Solutions\",\"KPMG France\",\"Kearney\",\"L'Or\\u00e9al\",\"L.E.K. Consulting\",\"Lazard\",\"Louis Vuitton\",\"Lund University School of Economics and Management\",\"Lynx partners\",\"Ma Petite \\u00c9curie\",\"Mazars\",\"McGill University - Desautels Faculty of Management\",\"McKinsey & Company\",\"Michelin\",\"Microsoft\",\"Mind Fintech\",\"Mirakl\",\"Morgan Stanley\",\"Nestl\\u00e9\",\"Pratt & Whitney Canada\",\"Procter & Gamble\",\"Publicis Media\",\"Publicis Sapient\",\"PwC\",\"Richemont\",\"Rothschild & Co\",\"SAVENCIA\",\"SEPHORA\",\"Saint-Gobain\",\"Salesforce\",\"Societe Generale Corporate and Investment Banking - SGCIB\",\"Soci\\u00e9t\\u00e9 G\\u00e9n\\u00e9rale\",\"Sycomore Corporate Finance\",\"TD\",\"Tikehau Capital\",\"TotalEnergies\",\"Ubisoft\",\"Wavestone\",\"mind Media\"],\"marker\":{\"coloraxis\":\"coloraxis\",\"colors\":[6.0,16.0,2.0,6.0,7.0,7.0,16.0,8.0,2.0,5.0,9.0,9.0,3.0,3.0,3.0,2.0,9.0,2.0,8.0,2.0,3.0,2.0,5.0,9.0,4.0,7.0,3.0,4.0,2.0,3.0,4.0,2.0,3.0,4.0,5.0,3.0,3.0,2.0,2.0,5.0,8.0,6.0,2.0,5.0,2.0,6.0,8.0,7.0,6.0,5.0,6.0,2.0,8.0,3.0,6.0,7.0,5.0,4.0,4.0,16.0,5.0,16.0,2.0,5.0,6.0,6.0,2.0,2.0,2.0,6.0,2.0,5.0,2.0,6.0,8.0,12.0,2.0,3.0,3.0,3.0,3.0,8.0,3.0,8.0,2.0,9.0,2.0,2.0,5.0,2.0,2.0,8.0,5.0,3.0,9.0,12.0,7.0,3.0,12.0,9.0,4.0,3.0,6.0,5.0,4.0,4.0,4.0,6.0,9.0,5.0,6.0,7.0,9.0,3.0,5.0,3.0,5.0,2.0,3.0,4.0,2.0,9.0,2.0,3.0,3.0,3.0,2.0,3.0,3.0,2.0,2.0,3.0,3.0,2.0,2.0,3.0,5.0,5.0,8.0,3.0,8.0,5.0,5.0,2.0,5.0,5.0,4.0,4.0,4.0,8.0,2.0,5.0,2.0,4.0,2.0,5.0,4.0,5.0,16.0,16.0,6.0,3.0,2.0,2.0,9.0,2.0,2.0,2.0,2.0,7.0,16.0,12.0,16.0,12.0,6.0,2.0,2.0,16.0,5.0,2.0,6.0,7.0,6.0,5.0,5.0,6.0,7.0,5.0,4.0,3.0,16.0,2.0,2.0,2.0,4.0,6.0,9.0,5.0,2.0,3.0,2.0,2.0,2.0,2.0,9.0,6.0,16.0,2.0,3.0,4.0,3.0,3.0,8.0,7.0,2.0,7.0,2.0,3.0,7.0,4.0,7.0,2.0,4.0,6.0,2.0,7.0,7.0,5.0,3.0,12.0,3.0,3.0,3.0,7.0,3.0,3.0,6.0,3.0,9.0,3.0,12.0,5.0,3.0,2.0,4.0,2.0,2.0,2.0,6.0,3.0,3.0,3.0,2.0,16.0,16.0,2.0,16.0,2.0,7.0,7.0,2.0,2.0,2.0,3.0,9.0,9.0,5.0,2.0,2.0,6.0,2.0,9.0,6.0,12.0,12.0,4.0,3.0,4.0,7.0,12.0,4.0,3.0,12.0,12.0,7.0,2.0,9.0,5.0,7.0,7.0,2.0,5.0,3.0,4.0,7.0,7.0,2.0,4.0,2.0,2.0,3.0,2.0,6.0,2.0,8.0,6.0,7.0,7.0,2.0,4.0,5.0,3.0,3.0,8.0,16.0,6.0,8.0,2.0,3.0,7.0,3.0,3.0,2.0,4.0,3.0,7.0,16.0,3.0,3.0,2.0,2.0,7.0,5.0,2.0,2.0,2.0,2.0,6.0,2.0,4.0,3.0,2.0,5.0,2.0,2.0,7.0,2.0,4.0,3.0,4.0,3.0,7.0,4.0,3.0,2.0,6.0,5.0,9.0,2.0,2.0,3.0,7.0,8.0,3.0,2.0,5.0,2.0,2.0,2.0,16.0,6.0,2.0,2.0,2.0,3.0,2.0,3.0,2.0,2.0,12.0,2.0,5.0,2.0,5.0,2.0,2.0,7.0,4.0,3.0,2.0,8.0,2.0,2.0,3.0,2.0,2.0,2.0,3.0,6.0,5.0,3.0,3.0,4.0,2.0,2.0,2.0,5.0,2.0,2.0,4.0,3.0,2.0,4.0,3.0,2.0,3.0,2.0,6.0,2.0,2.0,3.0,3.0,3.0,3.0,9.0,3.0]},\"name\":\"\",\"parents\":[\"McGill University - Desautels Faculty of Management\",\"ESCP Business School\",\"Salesforce\",\"Amazon\",\"Cr\\u00e9dit Agricole CIB\",\"Cr\\u00e9dit Agricole CIB\",\"ESCP Business School\",\"Danone\",\"Morgan Stanley\",\"IBM\",\"Wavestone\",\"Wavestone\",\"Tikehau Capital\",\"Saint-Gobain\",\"PwC\",\"Entrepreneur Invest\",\"Wavestone\",\"CANAL+ Group\",\"L'Or\\u00e9al\",\"EDF\",\"Dassault Syst\\u00e8mes\",\"Soci\\u00e9t\\u00e9 G\\u00e9n\\u00e9rale\",\"Accuracy\",\"Carrefour\",\"Rothschild & Co\",\"Accenture\",\"Saint-Gobain\",\"Bpifrance\",\"AXA Investment Managers\",\"Google\",\"KPI Digital Solutions\",\"Allianz Trade in North America\",\"TD\",\"KPI Digital Solutions\",\"IBM\",\"TotalEnergies\",\"SAVENCIA\",\"SEPHORA\",\"Nestl\\u00e9\",\"Herm\\u00e8s\",\"Danone\",\"McGill University - Desautels Faculty of Management\",\"BNP Paribas\",\"Herm\\u00e8s\",\"Cartier\",\"CHANEL\",\"Danone\",\"Cr\\u00e9dit Agricole CIB\",\"CHANEL\",\"Herm\\u00e8s\",\"CHANEL\",\"Cartier\",\"Danone\",\"Louis Vuitton\",\"CHANEL\",\"Boston Consulting Group (BCG)\",\"McKinsey & Company\",\"Bain & Company\",\"Bain & Company\",\"ESCP Business School\",\"Pratt & Whitney Canada\",\"ESCP Business School\",\"L.E.K. Consulting\",\"Deloitte\",\"EY\",\"EY\",\"AXA Investment Managers\",\"Procter & Gamble\",\"Deezer\",\"Amazon\",\"Kearney\",\"McKinsey & Company\",\"Mirakl\",\"Amazon\",\"L'Or\\u00e9al\",\"Groupe mind\",\"Mirakl\",\"Michelin\",\"Back Market\",\"Ubisoft\",\"Citi\",\"Danone\",\"Michelin\",\"Danone\",\"Allianz France\",\"Carrefour\",\"Groupe Caisse des D\\u00e9p\\u00f4ts\",\"Soci\\u00e9t\\u00e9 G\\u00e9n\\u00e9rale\",\"Herm\\u00e8s\",\"BNP Paribas Cardif\",\"Direction G\\u00e9n\\u00e9rale des Entreprises\",\"Danone\",\"Herm\\u00e8s\",\"SAVENCIA\",\"Carrefour\",\"Groupe mind\",\"Jellyfish\",\"Microsoft\",\"Groupe mind\",\"Carrefour\",\"Argon & Co\",\"BearingPoint\",\"EY\",\"IBM\",\"BRP\",\"Publicis Sapient\",\"Argon & Co\",\"EY\",\"Wavestone\",\"Deloitte\",\"EY\",\"Accenture\",\"Wavestone\",\"KPMG France\",\"Deloitte\",\"KPMG France\",\"Capgemini Invent\",\"Advancy\",\"Mazars\",\"Argon & Co\",\"Lynx partners\",\"Wavestone\",\"Lynx partners\",\"BearingPoint\",\"BearingPoint\",\"Mazars\",\"Publicis Media\",\"Louis Vuitton\",\"Saint-Gobain\",\"Edenred\",\"Ind\\u00e9pendant\",\"KPMG France\",\"Google\",\"Ma Petite \\u00c9curie\",\"ISOSKELE\",\"Dassault Syst\\u00e8mes\",\"Capgemini Invent\",\"BDC\",\"L'Or\\u00e9al\",\"TD\",\"L'Or\\u00e9al\",\"Pratt & Whitney Canada\",\"BDC\",\"Artefact\",\"BDC\",\"BDC\",\"BRP\",\"BRP\",\"KPI Digital Solutions\",\"L'Or\\u00e9al\",\"Allianz Trade in North America\",\"BDC\",\"Desjardins\",\"KPI Digital Solutions\",\"Richemont\",\"Pratt & Whitney Canada\",\"BRP\",\"Pratt & Whitney Canada\",\"ESCP Business School\",\"ESCP Business School\",\"Societe Generale Corporate and Investment Banking - SGCIB\",\"Dassault Syst\\u00e8mes\",\"Artefact\",\"SEPHORA\",\"Carrefour\",\"Nestl\\u00e9\",\"ISOSKELE\",\"Groupe Sud Ouest\",\"Groupe Sud Ouest\",\"Jellyfish\",\"ESCP Business School\",\"Groupe mind\",\"ESCP Business School\",\"Groupe mind\",\"Societe Generale Corporate and Investment Banking - SGCIB\",\"BNP Paribas Asset Management\",\"Procter & Gamble\",\"ESCP Business School\",\"McKinsey & Company\",\"HSBC\",\"McGill University - Desautels Faculty of Management\",\"Accenture\",\"Amazon\",\"Accuracy\",\"Accuracy\",\"Amazon\",\"BNP Paribas CIB\",\"Capgemini Invent\",\"Publicis Sapient\",\"Microsoft\",\"ESCP Business School\",\"Lazard\",\"Salesforce\",\"Allianz Global Investors\",\"Rothschild & Co\",\"Amazon\",\"Carrefour\",\"Capgemini Invent\",\"Eurazeo\",\"Ubisoft\",\"Desjardins\",\"Richemont\",\"Groupe Caisse des D\\u00e9p\\u00f4ts\",\"BNP Paribas Asset Management\",\"Wavestone\",\"Societe Generale Corporate and Investment Banking - SGCIB\",\"ESCP Business School\",\"Goldman Sachs\",\"Citi\",\"Mind Fintech\",\"mind Media\",\"mind Media\",\"L'Or\\u00e9al\",\"Accenture\",\"Hogan Lovells\",\"BNP Paribas CIB\",\"BNP Paribas\",\"TotalEnergies\",\"BNP Paribas CIB\",\"Bpifrance\",\"Cr\\u00e9dit Agricole CIB\",\"Lazard\",\"Rothschild & Co\",\"Societe Generale Corporate and Investment Banking - SGCIB\",\"Sycomore Corporate Finance\",\"BNP Paribas CIB\",\"BNP Paribas CIB\",\"Deloitte\",\"Tikehau Capital\",\"Groupe mind\",\"Businesscoot\",\"Businesscoot\",\"Michelin\",\"Jellyfish\",\"Louis Vuitton\",\"Google\",\"McGill University - Desautels Faculty of Management\",\"Freelance\",\"Carrefour\",\"Freelance\",\"Groupe mind\",\"Pratt & Whitney Canada\",\"Back Market\",\"Allianz Global Investors\",\"Bpifrance\",\"Ardian\",\"Entrepreneur Invest\",\"Eurazeo\",\"Societe Generale Corporate and Investment Banking - SGCIB\",\"Tikehau Capital\",\"Ark\\u00e9a Real Estate\",\"Ark\\u00e9a Real Estate\",\"Deezer\",\"ESCP Business School\",\"ESCP Business School\",\"Ma Petite \\u00c9curie\",\"ESCP Business School\",\"Publicis Media\",\"Cr\\u00e9dit Agricole CIB\",\"Cr\\u00e9dit Agricole CIB\",\"EDF\",\"Edenred\",\"Morgan Stanley\",\"Ark\\u00e9a Real Estate\",\"Wavestone\",\"Carrefour\",\"IBM\",\"Goldman Sachs\",\"CentraleSup\\u00e9lec\",\"CHANEL\",\"CANAL+ Group\",\"Carrefour\",\"CHANEL\",\"Groupe mind\",\"Groupe mind\",\"Mind Fintech\",\"mind Media\",\"Mind Fintech\",\"BNP Paribas CIB\",\"Groupe mind\",\"Mind Fintech\",\"Microsoft\",\"Groupe mind\",\"Groupe mind\",\"Jellyfish\",\"L.E.K. Consulting\",\"Wavestone\",\"IBM\",\"Jellyfish\",\"Jellyfish\",\"Lund University School of Economics and Management\",\"Deloitte\",\"Ubisoft\",\"Publicis Sapient\",\"Jellyfish\",\"Accenture\",\"Direction G\\u00e9n\\u00e9rale des Entreprises\",\"Rothschild & Co\",\"Ind\\u00e9pendant\",\"Advancy\",\"TotalEnergies\",\"Hogan Lovells\",\"McGill University - Desautels Faculty of Management\",\"Allianz France\",\"Danone\",\"EY\",\"Accenture\",\"BNP Paribas CIB\",\"HSBC\",\"Publicis Sapient\",\"Capgemini Invent\",\"SAVENCIA\",\"Citi\",\"L'Or\\u00e9al\",\"ESCP Business School\",\"McGill University - Desautels Faculty of Management\",\"L'Or\\u00e9al\",\"Lund University School of Economics and Management\",\"Back Market\",\"Accenture\",\"Mazars\",\"PwC\",\"BNP Paribas Cardif\",\"Bpifrance\",\"TD\",\"Boston Consulting Group (BCG)\",\"ESCP Business School\",\"Freelance\",\"PwC\",\"CentraleSup\\u00e9lec\",\"\",\"\",\"\",\"\",\"\",\"\",\"\",\"\",\"\",\"\",\"\",\"\",\"\",\"\",\"\",\"\",\"\",\"\",\"\",\"\",\"\",\"\",\"\",\"\",\"\",\"\",\"\",\"\",\"\",\"\",\"\",\"\",\"\",\"\",\"\",\"\",\"\",\"\",\"\",\"\",\"\",\"\",\"\",\"\",\"\",\"\",\"\",\"\",\"\",\"\",\"\",\"\",\"\",\"\",\"\",\"\",\"\",\"\",\"\",\"\",\"\",\"\",\"\",\"\",\"\",\"\",\"\",\"\",\"\",\"\",\"\",\"\",\"\",\"\",\"\",\"\",\"\",\"\",\"\",\"\",\"\",\"\",\"\",\"\",\"\",\"\",\"\",\"\",\"\",\"\",\"\",\"\",\"\",\"\",\"\",\"\"],\"values\":[1,1,1,1,1,1,1,1,1,1,1,1,1,1,1,1,1,1,1,1,1,1,3,1,1,1,1,1,1,1,1,1,1,1,1,1,1,1,1,1,1,1,1,1,1,1,1,1,1,1,1,1,1,1,1,3,1,1,3,1,1,1,1,1,1,1,1,1,1,1,2,3,1,1,1,1,1,1,1,1,1,1,1,1,1,1,1,1,1,1,1,1,1,1,1,1,1,1,1,1,2,1,1,1,1,1,1,1,1,1,1,1,1,1,1,1,1,1,1,1,1,1,1,1,1,1,1,1,1,1,1,1,1,1,1,1,1,1,1,1,1,1,1,1,1,1,1,1,1,1,1,1,1,1,1,1,1,1,1,1,1,1,1,1,1,1,1,1,1,1,1,1,1,1,1,1,1,1,1,1,1,1,1,1,1,1,1,1,1,1,1,1,1,1,1,1,1,1,1,1,1,1,1,1,1,1,1,1,1,1,1,1,1,1,1,1,1,1,1,1,2,1,1,2,2,1,1,1,1,1,1,2,1,1,1,1,1,1,1,1,1,1,1,1,1,2,1,1,1,1,1,1,1,1,1,1,1,1,1,1,1,1,1,1,1,1,1,1,1,1,1,1,1,1,1,1,1,1,1,1,1,1,1,1,1,1,1,1,1,1,1,1,1,1,1,1,1,1,1,1,1,1,1,1,1,1,1,1,1,1,1,1,1,1,1,1,1,1,1,1,1,1,1,1,1,4,1,1,1,1,2,7,5,2,2,2,2,6,2,4,3,2,5,2,2,7,2,4,3,4,3,7,4,3,2,6,5,9,2,2,3,7,8,3,2,5,2,2,2,16,6,2,2,2,3,2,3,2,2,12,2,5,2,5,2,2,7,4,3,2,8,2,2,3,2,2,2,3,6,5,3,3,4,2,2,2,5,2,2,4,3,2,4,3,2,3,2,6,2,2,3,3,3,3,9,3],\"type\":\"treemap\"}],                        {\"template\":{\"data\":{\"histogram2dcontour\":[{\"type\":\"histogram2dcontour\",\"colorbar\":{\"outlinewidth\":0,\"ticks\":\"\"},\"colorscale\":[[0.0,\"#0d0887\"],[0.1111111111111111,\"#46039f\"],[0.2222222222222222,\"#7201a8\"],[0.3333333333333333,\"#9c179e\"],[0.4444444444444444,\"#bd3786\"],[0.5555555555555556,\"#d8576b\"],[0.6666666666666666,\"#ed7953\"],[0.7777777777777778,\"#fb9f3a\"],[0.8888888888888888,\"#fdca26\"],[1.0,\"#f0f921\"]]}],\"choropleth\":[{\"type\":\"choropleth\",\"colorbar\":{\"outlinewidth\":0,\"ticks\":\"\"}}],\"histogram2d\":[{\"type\":\"histogram2d\",\"colorbar\":{\"outlinewidth\":0,\"ticks\":\"\"},\"colorscale\":[[0.0,\"#0d0887\"],[0.1111111111111111,\"#46039f\"],[0.2222222222222222,\"#7201a8\"],[0.3333333333333333,\"#9c179e\"],[0.4444444444444444,\"#bd3786\"],[0.5555555555555556,\"#d8576b\"],[0.6666666666666666,\"#ed7953\"],[0.7777777777777778,\"#fb9f3a\"],[0.8888888888888888,\"#fdca26\"],[1.0,\"#f0f921\"]]}],\"heatmap\":[{\"type\":\"heatmap\",\"colorbar\":{\"outlinewidth\":0,\"ticks\":\"\"},\"colorscale\":[[0.0,\"#0d0887\"],[0.1111111111111111,\"#46039f\"],[0.2222222222222222,\"#7201a8\"],[0.3333333333333333,\"#9c179e\"],[0.4444444444444444,\"#bd3786\"],[0.5555555555555556,\"#d8576b\"],[0.6666666666666666,\"#ed7953\"],[0.7777777777777778,\"#fb9f3a\"],[0.8888888888888888,\"#fdca26\"],[1.0,\"#f0f921\"]]}],\"heatmapgl\":[{\"type\":\"heatmapgl\",\"colorbar\":{\"outlinewidth\":0,\"ticks\":\"\"},\"colorscale\":[[0.0,\"#0d0887\"],[0.1111111111111111,\"#46039f\"],[0.2222222222222222,\"#7201a8\"],[0.3333333333333333,\"#9c179e\"],[0.4444444444444444,\"#bd3786\"],[0.5555555555555556,\"#d8576b\"],[0.6666666666666666,\"#ed7953\"],[0.7777777777777778,\"#fb9f3a\"],[0.8888888888888888,\"#fdca26\"],[1.0,\"#f0f921\"]]}],\"contourcarpet\":[{\"type\":\"contourcarpet\",\"colorbar\":{\"outlinewidth\":0,\"ticks\":\"\"}}],\"contour\":[{\"type\":\"contour\",\"colorbar\":{\"outlinewidth\":0,\"ticks\":\"\"},\"colorscale\":[[0.0,\"#0d0887\"],[0.1111111111111111,\"#46039f\"],[0.2222222222222222,\"#7201a8\"],[0.3333333333333333,\"#9c179e\"],[0.4444444444444444,\"#bd3786\"],[0.5555555555555556,\"#d8576b\"],[0.6666666666666666,\"#ed7953\"],[0.7777777777777778,\"#fb9f3a\"],[0.8888888888888888,\"#fdca26\"],[1.0,\"#f0f921\"]]}],\"surface\":[{\"type\":\"surface\",\"colorbar\":{\"outlinewidth\":0,\"ticks\":\"\"},\"colorscale\":[[0.0,\"#0d0887\"],[0.1111111111111111,\"#46039f\"],[0.2222222222222222,\"#7201a8\"],[0.3333333333333333,\"#9c179e\"],[0.4444444444444444,\"#bd3786\"],[0.5555555555555556,\"#d8576b\"],[0.6666666666666666,\"#ed7953\"],[0.7777777777777778,\"#fb9f3a\"],[0.8888888888888888,\"#fdca26\"],[1.0,\"#f0f921\"]]}],\"mesh3d\":[{\"type\":\"mesh3d\",\"colorbar\":{\"outlinewidth\":0,\"ticks\":\"\"}}],\"scatter\":[{\"fillpattern\":{\"fillmode\":\"overlay\",\"size\":10,\"solidity\":0.2},\"type\":\"scatter\"}],\"parcoords\":[{\"type\":\"parcoords\",\"line\":{\"colorbar\":{\"outlinewidth\":0,\"ticks\":\"\"}}}],\"scatterpolargl\":[{\"type\":\"scatterpolargl\",\"marker\":{\"colorbar\":{\"outlinewidth\":0,\"ticks\":\"\"}}}],\"bar\":[{\"error_x\":{\"color\":\"#2a3f5f\"},\"error_y\":{\"color\":\"#2a3f5f\"},\"marker\":{\"line\":{\"color\":\"#E5ECF6\",\"width\":0.5},\"pattern\":{\"fillmode\":\"overlay\",\"size\":10,\"solidity\":0.2}},\"type\":\"bar\"}],\"scattergeo\":[{\"type\":\"scattergeo\",\"marker\":{\"colorbar\":{\"outlinewidth\":0,\"ticks\":\"\"}}}],\"scatterpolar\":[{\"type\":\"scatterpolar\",\"marker\":{\"colorbar\":{\"outlinewidth\":0,\"ticks\":\"\"}}}],\"histogram\":[{\"marker\":{\"pattern\":{\"fillmode\":\"overlay\",\"size\":10,\"solidity\":0.2}},\"type\":\"histogram\"}],\"scattergl\":[{\"type\":\"scattergl\",\"marker\":{\"colorbar\":{\"outlinewidth\":0,\"ticks\":\"\"}}}],\"scatter3d\":[{\"type\":\"scatter3d\",\"line\":{\"colorbar\":{\"outlinewidth\":0,\"ticks\":\"\"}},\"marker\":{\"colorbar\":{\"outlinewidth\":0,\"ticks\":\"\"}}}],\"scattermapbox\":[{\"type\":\"scattermapbox\",\"marker\":{\"colorbar\":{\"outlinewidth\":0,\"ticks\":\"\"}}}],\"scatterternary\":[{\"type\":\"scatterternary\",\"marker\":{\"colorbar\":{\"outlinewidth\":0,\"ticks\":\"\"}}}],\"scattercarpet\":[{\"type\":\"scattercarpet\",\"marker\":{\"colorbar\":{\"outlinewidth\":0,\"ticks\":\"\"}}}],\"carpet\":[{\"aaxis\":{\"endlinecolor\":\"#2a3f5f\",\"gridcolor\":\"white\",\"linecolor\":\"white\",\"minorgridcolor\":\"white\",\"startlinecolor\":\"#2a3f5f\"},\"baxis\":{\"endlinecolor\":\"#2a3f5f\",\"gridcolor\":\"white\",\"linecolor\":\"white\",\"minorgridcolor\":\"white\",\"startlinecolor\":\"#2a3f5f\"},\"type\":\"carpet\"}],\"table\":[{\"cells\":{\"fill\":{\"color\":\"#EBF0F8\"},\"line\":{\"color\":\"white\"}},\"header\":{\"fill\":{\"color\":\"#C8D4E3\"},\"line\":{\"color\":\"white\"}},\"type\":\"table\"}],\"barpolar\":[{\"marker\":{\"line\":{\"color\":\"#E5ECF6\",\"width\":0.5},\"pattern\":{\"fillmode\":\"overlay\",\"size\":10,\"solidity\":0.2}},\"type\":\"barpolar\"}],\"pie\":[{\"automargin\":true,\"type\":\"pie\"}]},\"layout\":{\"autotypenumbers\":\"strict\",\"colorway\":[\"#636efa\",\"#EF553B\",\"#00cc96\",\"#ab63fa\",\"#FFA15A\",\"#19d3f3\",\"#FF6692\",\"#B6E880\",\"#FF97FF\",\"#FECB52\"],\"font\":{\"color\":\"#2a3f5f\"},\"hovermode\":\"closest\",\"hoverlabel\":{\"align\":\"left\"},\"paper_bgcolor\":\"white\",\"plot_bgcolor\":\"#E5ECF6\",\"polar\":{\"bgcolor\":\"#E5ECF6\",\"angularaxis\":{\"gridcolor\":\"white\",\"linecolor\":\"white\",\"ticks\":\"\"},\"radialaxis\":{\"gridcolor\":\"white\",\"linecolor\":\"white\",\"ticks\":\"\"}},\"ternary\":{\"bgcolor\":\"#E5ECF6\",\"aaxis\":{\"gridcolor\":\"white\",\"linecolor\":\"white\",\"ticks\":\"\"},\"baxis\":{\"gridcolor\":\"white\",\"linecolor\":\"white\",\"ticks\":\"\"},\"caxis\":{\"gridcolor\":\"white\",\"linecolor\":\"white\",\"ticks\":\"\"}},\"coloraxis\":{\"colorbar\":{\"outlinewidth\":0,\"ticks\":\"\"}},\"colorscale\":{\"sequential\":[[0.0,\"#0d0887\"],[0.1111111111111111,\"#46039f\"],[0.2222222222222222,\"#7201a8\"],[0.3333333333333333,\"#9c179e\"],[0.4444444444444444,\"#bd3786\"],[0.5555555555555556,\"#d8576b\"],[0.6666666666666666,\"#ed7953\"],[0.7777777777777778,\"#fb9f3a\"],[0.8888888888888888,\"#fdca26\"],[1.0,\"#f0f921\"]],\"sequentialminus\":[[0.0,\"#0d0887\"],[0.1111111111111111,\"#46039f\"],[0.2222222222222222,\"#7201a8\"],[0.3333333333333333,\"#9c179e\"],[0.4444444444444444,\"#bd3786\"],[0.5555555555555556,\"#d8576b\"],[0.6666666666666666,\"#ed7953\"],[0.7777777777777778,\"#fb9f3a\"],[0.8888888888888888,\"#fdca26\"],[1.0,\"#f0f921\"]],\"diverging\":[[0,\"#8e0152\"],[0.1,\"#c51b7d\"],[0.2,\"#de77ae\"],[0.3,\"#f1b6da\"],[0.4,\"#fde0ef\"],[0.5,\"#f7f7f7\"],[0.6,\"#e6f5d0\"],[0.7,\"#b8e186\"],[0.8,\"#7fbc41\"],[0.9,\"#4d9221\"],[1,\"#276419\"]]},\"xaxis\":{\"gridcolor\":\"white\",\"linecolor\":\"white\",\"ticks\":\"\",\"title\":{\"standoff\":15},\"zerolinecolor\":\"white\",\"automargin\":true,\"zerolinewidth\":2},\"yaxis\":{\"gridcolor\":\"white\",\"linecolor\":\"white\",\"ticks\":\"\",\"title\":{\"standoff\":15},\"zerolinecolor\":\"white\",\"automargin\":true,\"zerolinewidth\":2},\"scene\":{\"xaxis\":{\"backgroundcolor\":\"#E5ECF6\",\"gridcolor\":\"white\",\"linecolor\":\"white\",\"showbackground\":true,\"ticks\":\"\",\"zerolinecolor\":\"white\",\"gridwidth\":2},\"yaxis\":{\"backgroundcolor\":\"#E5ECF6\",\"gridcolor\":\"white\",\"linecolor\":\"white\",\"showbackground\":true,\"ticks\":\"\",\"zerolinecolor\":\"white\",\"gridwidth\":2},\"zaxis\":{\"backgroundcolor\":\"#E5ECF6\",\"gridcolor\":\"white\",\"linecolor\":\"white\",\"showbackground\":true,\"ticks\":\"\",\"zerolinecolor\":\"white\",\"gridwidth\":2}},\"shapedefaults\":{\"line\":{\"color\":\"#2a3f5f\"}},\"annotationdefaults\":{\"arrowcolor\":\"#2a3f5f\",\"arrowhead\":0,\"arrowwidth\":1},\"geo\":{\"bgcolor\":\"white\",\"landcolor\":\"#E5ECF6\",\"subunitcolor\":\"white\",\"showland\":true,\"showlakes\":true,\"lakecolor\":\"white\"},\"title\":{\"x\":0.05},\"mapbox\":{\"style\":\"light\"}}},\"coloraxis\":{\"colorbar\":{\"title\":{\"text\":\"Count\"}},\"colorscale\":[[0.0,\"rgb(243, 231, 155)\"],[0.16666666666666666,\"rgb(250, 196, 132)\"],[0.3333333333333333,\"rgb(248, 160, 126)\"],[0.5,\"rgb(235, 127, 134)\"],[0.6666666666666666,\"rgb(206, 102, 147)\"],[0.8333333333333334,\"rgb(160, 89, 160)\"],[1.0,\"rgb(92, 83, 165)\"]],\"cmid\":5.183908045977011},\"legend\":{\"tracegroupgap\":0},\"margin\":{\"t\":60},\"height\":1000,\"width\":1000},                        {\"responsive\": true}                    ).then(function(){\n",
       "                            \n",
       "var gd = document.getElementById('f1e894b8-b332-460e-9cb3-229901e35bee');\n",
       "var x = new MutationObserver(function (mutations, observer) {{\n",
       "        var display = window.getComputedStyle(gd).display;\n",
       "        if (!display || display === 'none') {{\n",
       "            console.log([gd, 'removed!']);\n",
       "            Plotly.purge(gd);\n",
       "            observer.disconnect();\n",
       "        }}\n",
       "}});\n",
       "\n",
       "// Listen for the removal of the full notebook cells\n",
       "var notebookContainer = gd.closest('#notebook-container');\n",
       "if (notebookContainer) {{\n",
       "    x.observe(notebookContainer, {childList: true});\n",
       "}}\n",
       "\n",
       "// Listen for the clearing of the current output cell\n",
       "var outputEl = gd.closest('.output');\n",
       "if (outputEl) {{\n",
       "    x.observe(outputEl, {childList: true});\n",
       "}}\n",
       "\n",
       "                        })                };                });            </script>        </div>"
      ]
     },
     "metadata": {},
     "output_type": "display_data"
    }
   ],
   "source": [
    "df1=df1.dropna(subset=['Company', 'Position'])\n",
    "px.treemap(df1, path=['Company', 'Position'],\n",
    "           width=1000,\n",
    "           height=1000,\n",
    "           color='Count',\n",
    "           color_continuous_scale='Sunset',\n",
    "           color_continuous_midpoint=np.average(df1['Count']))"
   ]
  },
  {
   "cell_type": "code",
   "execution_count": 68,
   "id": "1ceb37ea",
   "metadata": {},
   "outputs": [
    {
     "data": {
      "application/vnd.plotly.v1+json": {
       "config": {
        "plotlyServerURL": "https://plot.ly"
       },
       "data": [
        {
         "branchvalues": "total",
         "customdata": [
          [
           2
          ],
          [
           2
          ],
          [
           2
          ],
          [
           2
          ],
          [
           3
          ],
          [
           2
          ],
          [
           2
          ],
          [
           8
          ],
          [
           5
          ],
          [
           2
          ],
          [
           2
          ],
          [
           3
          ],
          [
           6
          ],
          [
           2
          ],
          [
           14
          ],
          [
           14
          ],
          [
           14
          ],
          [
           8
          ],
          [
           2
          ],
          [
           2
          ],
          [
           2
          ],
          [
           3
          ],
          [
           3
          ],
          [
           2
          ],
          [
           3
          ],
          [
           14
          ],
          [
           5
          ],
          [
           2
          ],
          [
           3
          ],
          [
           2
          ],
          [
           2
          ],
          [
           8
          ],
          [
           2
          ],
          [
           4
          ],
          [
           4
          ],
          [
           14
          ],
          [
           6
          ],
          [
           2
          ],
          [
           2
          ],
          [
           14
          ],
          [
           3
          ],
          [
           2
          ],
          [
           2
          ],
          [
           2
          ],
          [
           6
          ],
          [
           6
          ],
          [
           2
          ],
          [
           2
          ],
          [
           3
          ],
          [
           14
          ],
          [
           14
          ],
          [
           2
          ],
          [
           3
          ],
          [
           14
          ],
          [
           2
          ],
          [
           2
          ],
          [
           2
          ],
          [
           8
          ],
          [
           2
          ],
          [
           14
          ],
          [
           14
          ],
          [
           14
          ],
          [
           2
          ],
          [
           5
          ],
          [
           2
          ],
          [
           2
          ],
          [
           2
          ],
          [
           14
          ],
          [
           2
          ],
          [
           2
          ],
          [
           2
          ],
          [
           2
          ],
          [
           6
          ],
          [
           8
          ],
          [
           6
          ],
          [
           5
          ],
          [
           3
          ],
          [
           14
          ],
          [
           2
          ],
          [
           2
          ],
          [
           2
          ],
          [
           2
          ],
          [
           6
          ],
          [
           14
          ],
          [
           2
          ],
          [
           2
          ],
          [
           2
          ],
          [
           6
          ],
          [
           14
          ],
          [
           6
          ],
          [
           2
          ],
          [
           2
          ],
          [
           6
          ],
          [
           3
          ],
          [
           3
          ],
          [
           5
          ],
          [
           2
          ],
          [
           3
          ],
          [
           4
          ],
          [
           6
          ],
          [
           2
          ],
          [
           2
          ],
          [
           3
          ],
          [
           3
          ],
          [
           2
          ],
          [
           2
          ],
          [
           8
          ],
          [
           2
          ],
          [
           5
          ],
          [
           2
          ],
          [
           6
          ],
          [
           3
          ],
          [
           14
          ],
          [
           2
          ],
          [
           2
          ],
          [
           2
          ],
          [
           2
          ],
          [
           3
          ],
          [
           6
          ],
          [
           3
          ],
          [
           2
          ],
          [
           14
          ],
          [
           2
          ],
          [
           14
          ],
          [
           2
          ],
          [
           3
          ],
          [
           3
          ],
          [
           2
          ],
          [
           14
          ],
          [
           14
          ],
          [
           2
          ],
          [
           14
          ],
          [
           2
          ],
          [
           2
          ],
          [
           3
          ],
          [
           14
          ],
          [
           3
          ],
          [
           8
          ],
          [
           14
          ],
          [
           2
          ],
          [
           6
          ],
          [
           3
          ],
          [
           6
          ],
          [
           2
          ],
          [
           3
          ],
          [
           3
          ],
          [
           2
          ],
          [
           3
          ],
          [
           5
          ],
          [
           2
          ],
          [
           3
          ],
          [
           2
          ],
          [
           3
          ],
          [
           5
          ],
          [
           2
          ],
          [
           2
          ],
          [
           5
          ],
          [
           4
          ],
          [
           2
          ],
          [
           3
          ],
          [
           2
          ],
          [
           6
          ],
          [
           2
          ],
          [
           2
          ],
          [
           2
          ],
          [
           2
          ],
          [
           2
          ],
          [
           3
          ],
          [
           2
          ],
          [
           6
          ],
          [
           2
          ],
          [
           8
          ],
          [
           2
          ],
          [
           2
          ],
          [
           3
          ],
          [
           3
          ],
          [
           3
          ],
          [
           2
          ],
          [
           3
          ],
          [
           2
          ],
          [
           2
          ],
          [
           2
          ],
          [
           2
          ],
          [
           2
          ],
          [
           2
          ],
          [
           2
          ],
          [
           3
          ],
          [
           2
          ],
          [
           3
          ],
          [
           14
          ],
          [
           2
          ],
          [
           2
          ],
          [
           2
          ],
          [
           2
          ],
          [
           6
          ],
          [
           14
          ],
          [
           2
          ],
          [
           2
          ],
          [
           2
          ],
          [
           2
          ],
          [
           2
          ],
          [
           2
          ],
          [
           2
          ],
          [
           2
          ],
          [
           3
          ],
          [
           3
          ],
          [
           2
          ],
          [
           5
          ],
          [
           4
          ]
         ],
         "domain": {
          "x": [
           0,
           1
          ],
          "y": [
           0,
           1
          ]
         },
         "hovertemplate": "labels=%{label}<br>count=%{value}<br>parent=%{parent}<br>id=%{id}<br>Count=%{color}<extra></extra>",
         "ids": [
          "President/1Health",
          "CEO/228 Litres",
          "Consultant stagiaire/ADIT",
          "Trésorier/AEECL - Association des Élèves de l'Ecole Centrale de Lyon",
          "Stagiaire/AHK Frankreich / Chambre Franco-Allemande de Commerce et d'Industrie",
          "Consultant junior/Accenture",
          "Junior Consultant/Accenture",
          "Consultant/Accenture France",
          "Analyste financier/Accuracy",
          "Directeur des opérations/Adverline",
          "Private Debt Analyst Intern/Allianz Global Investors",
          "Transaction Services Analyst/Alvarez & Marsal",
          "Business Analyst/Amazon",
          "Financial Analyst/Amazon",
          "Private Equity Analyst Intern/Ampersand Capital Partners",
          "Private Equity Analyst Intern/Apax Partners sas",
          "Private Equity Analyst Intern/Ardian",
          "Consultant/Argon & Co",
          "Co-founder/Assurance for good",
          "Consultant junior/Attali Associates",
          "Senior Account Executive/BCW France",
          "Data Analyst/BDC",
          "Data Scientist/BDC",
          "Secrétaire générale/BDE UTC - Bureau des Etudiants de l'Université de Technologie de Compiègne",
          "M&A Analyst/BNP Paribas",
          "M&A Analyst Intern/BNP Paribas CIB",
          "VC Analyst/BNP Paribas Cardif",
          "Associate Consultant/Bain & Company",
          "Associate Consultant Intern/Bain & Company",
          "Associate Consultant/Bain & Company France",
          "CEO/Batch",
          "Consultant/BearingPoint",
          "Investment Banking Analyst Intern/Berenberg",
          "Associate/Boston Consulting Group (BCG)",
          "Visiting Associate/Boston Consulting Group (BCG)",
          "M&A Analyst Intern/Bpifrance",
          "Private Equity Analyst/Bpifrance",
          "Senior Account Executive/Broadsign",
          "Market research analyst/Businesscoot",
          "Private Equity Analyst Intern/CVC Capital Partners",
          "M&A Analyst/Cambon Partners",
          "Managing Director/Carrefour Links",
          "Investment Banking Analyst Intern/Centerview Partners",
          "Research Assistant/CentraleSupélec",
          "Co-fondateur/Chaleur Naturelle",
          "Private Equity Analyst/Cinven",
          "Research Assistant/Columbia Business School",
          "Co-Founder/Convention des Entreprises pour le Climat",
          "Stagiaire/Cour d'Appel de Paris / Paris Court of Appeal",
          "M&A Analyst Intern/Crédit Agricole CIB",
          "M&A Analyst Intern/DC Advisory",
          "Executive Recruiter/Decathlon Digital",
          "Data Analyst/Delve at Desautels McGill",
          "M&A Analyst Intern/Deutsche Bank",
          "Chef de projet/ESCP Europe Conseil",
          "Président/ESCPMusicCollective",
          "Auditeur financier/EY",
          "Consultant/EY",
          "Analyste Private Equity/Entrepreneur Invest",
          "Private Equity Analyst Intern/Entrepreneur Invest",
          "Private Equity Analyst Intern/Equistone Partners Europe",
          "Private Equity Analyst Intern/Eurazeo",
          "Consultant stagiaire/Eurogroup Consulting",
          "Analyste financier/Everphone",
          "Chargée de communication/Extia",
          "Managing Director/FILMO",
          "Investment Banking Analyst/Goldman Sachs",
          "M&A Analyst Intern/Groupe Keolis",
          "Directeur général/Groupe Sud Ouest",
          "Sales Team Leader/Groupe mind",
          "Category Manager/HP",
          "Chargée de communication/Hermès",
          "Co-fondateur/Hexplo",
          "Consultant/IBM",
          "Private Equity Analyst/IMPACT Partners",
          "VC Analyst/INCO Ventures",
          "Chief Executive Officer/IPG Mediabrands France",
          "Private Equity Analyst Intern/InfraVia Capital Partners",
          "Financial Analyst/InstaDeep Ltd",
          "Trésorier/Junior ESSEC Conseil",
          "Data Scientist (Academic Consulting Project)/KPI Digital Solutions",
          "Senior Consultant/KPMG Canada",
          "Business Analyst/Kearney",
          "Private Equity Analyst Intern/L Catterton",
          "Data Scientist (Academic Consulting Project)/L'Oréal",
          "Analyste Private Equity/LFPI",
          "Président/La Grande Tribune",
          "Private Equity Analyst/Latour Capital",
          "M&A Analyst Intern/Lazard",
          "Co-fondateur/Le Cercle",
          "Directrice générale/Le Tigre Yoga",
          "Business Consultant/LittleBig Connection",
          "Co-fondateur/Loom",
          "Consultante junior/Lynx partners",
          "Stagiaire/MODAS BARTHELEMY & ASSOCIES",
          "Analyste financier/Malakoff Humanis",
          "Co-founder/Maria Schools",
          "Transaction Services Analyst/Mazars",
          "Associate/McKinsey & Company",
          "Business Analyst/McKinsey & Company",
          "Executive Recruiter/McKinsey & Company",
          "Category Manager/Michelin",
          "Data Analyst/Mideast Data Systems",
          "Journaliste/Mind Fintech",
          "Rédacteur en chef/Mind Fintech",
          "Business Consultant/Mirakl",
          "Consultant/Monitor Deloitte",
          "Sales Team Leader/NewScreen.",
          "VC Analyst/Newfund",
          "Investment Banking Analyst/Nomura",
          "Co-fondateur/Nouvelle Garde Groupe",
          "Transaction Services Analyst/Oderis Consulting",
          "Private Equity Analyst Intern/Omnes Capital",
          "Auditeur financier/PKF Arsilon",
          "Private Debt Analyst Intern/Partners Group",
          "President/Pratt & Whitney Canada",
          "Co-Founder/Quarante",
          "Data Scientist/Quinten Health ",
          "Private Equity Analyst/RAISE",
          "Data Scientist Intern/Richemont",
          "Junior Consultant/Roland Berger",
          "M&A Analyst Intern/Rothschild & Co",
          "Secrétaire générale/SALTO",
          "M&A Analyst Intern/Safran",
          "Directeur général/Sailcoop",
          "Chief Executive Officer/Saint-Gobain Sekurit",
          "Data Scientist Intern/Shift Technology",
          "Directeur des opérations/SoKube",
          "M&A Analyst Intern/Societe Generale Corporate and Investment Banking - SGCIB",
          "Private Equity Analyst Intern/Societe Generale Corporate and Investment Banking - SGCIB",
          "Research Intern/Stockholm Resilience Centre",
          "M&A Analyst Intern/Sycomore Corporate Finance",
          "Analyste/TERA Consultants",
          "Senior Consultant/Teneo",
          "Data Scientist/Tesla",
          "Private Equity Analyst Intern/The Carlyle Group",
          "Chief Executive Officer/The Salmon Consulting",
          "Consultant/Thinkr Consulting",
          "Private Equity Analyst Intern/Tikehau Capital",
          "Research Intern/Université Paris 1 Panthéon-Sorbonne",
          "Co-fondateur/Up To The League",
          "M&A Analyst/VINCI Construction",
          "Private Equity Analyst/Waterland Private Equity",
          "Analyste/Wavestone",
          "Consultante junior/Wavestone",
          "Consultante junior/YMAGO Conseil",
          "Chef de projet/Your-Comics",
          "Data Scientist Intern/Zelros",
          "VC Analyst/daphni",
          "Directrice générale/l'Ameublement français",
          "Journaliste/mind Media",
          "Rédacteur en chef/mind Media",
          "Journaliste/mind RH",
          "VC Analyst/Épopée Gestion",
          "Analyste",
          "Analyste Private Equity",
          "Analyste financier",
          "Associate",
          "Associate Consultant",
          "Associate Consultant Intern",
          "Auditeur financier",
          "Business Analyst",
          "Business Consultant",
          "CEO",
          "Category Manager",
          "Chargée de communication",
          "Chef de projet",
          "Chief Executive Officer",
          "Co-Founder",
          "Co-fondateur",
          "Co-founder",
          "Consultant",
          "Consultant junior",
          "Consultant stagiaire",
          "Consultante junior",
          "Data Analyst",
          "Data Scientist",
          "Data Scientist (Academic Consulting Project)",
          "Data Scientist Intern",
          "Directeur des opérations",
          "Directeur général",
          "Directrice générale",
          "Executive Recruiter",
          "Financial Analyst",
          "Investment Banking Analyst",
          "Investment Banking Analyst Intern",
          "Journaliste",
          "Junior Consultant",
          "M&A Analyst",
          "M&A Analyst Intern",
          "Managing Director",
          "Market research analyst",
          "President",
          "Private Debt Analyst Intern",
          "Private Equity Analyst",
          "Private Equity Analyst Intern",
          "Président",
          "Research Assistant",
          "Research Intern",
          "Rédacteur en chef",
          "Sales Team Leader",
          "Secrétaire générale",
          "Senior Account Executive",
          "Senior Consultant",
          "Stagiaire",
          "Transaction Services Analyst",
          "Trésorier",
          "VC Analyst",
          "Visiting Associate"
         ],
         "labels": [
          "1Health",
          "228 Litres",
          "ADIT",
          "AEECL - Association des Élèves de l'Ecole Centrale de Lyon",
          "AHK Frankreich / Chambre Franco-Allemande de Commerce et d'Industrie",
          "Accenture",
          "Accenture",
          "Accenture France",
          "Accuracy",
          "Adverline",
          "Allianz Global Investors",
          "Alvarez & Marsal",
          "Amazon",
          "Amazon",
          "Ampersand Capital Partners",
          "Apax Partners sas",
          "Ardian",
          "Argon & Co",
          "Assurance for good",
          "Attali Associates",
          "BCW France",
          "BDC",
          "BDC",
          "BDE UTC - Bureau des Etudiants de l'Université de Technologie de Compiègne",
          "BNP Paribas",
          "BNP Paribas CIB",
          "BNP Paribas Cardif",
          "Bain & Company",
          "Bain & Company",
          "Bain & Company France",
          "Batch",
          "BearingPoint",
          "Berenberg",
          "Boston Consulting Group (BCG)",
          "Boston Consulting Group (BCG)",
          "Bpifrance",
          "Bpifrance",
          "Broadsign",
          "Businesscoot",
          "CVC Capital Partners",
          "Cambon Partners",
          "Carrefour Links",
          "Centerview Partners",
          "CentraleSupélec",
          "Chaleur Naturelle",
          "Cinven",
          "Columbia Business School",
          "Convention des Entreprises pour le Climat",
          "Cour d'Appel de Paris / Paris Court of Appeal",
          "Crédit Agricole CIB",
          "DC Advisory",
          "Decathlon Digital",
          "Delve at Desautels McGill",
          "Deutsche Bank",
          "ESCP Europe Conseil",
          "ESCPMusicCollective",
          "EY",
          "EY",
          "Entrepreneur Invest",
          "Entrepreneur Invest",
          "Equistone Partners Europe",
          "Eurazeo",
          "Eurogroup Consulting",
          "Everphone",
          "Extia",
          "FILMO",
          "Goldman Sachs",
          "Groupe Keolis",
          "Groupe Sud Ouest",
          "Groupe mind",
          "HP",
          "Hermès",
          "Hexplo",
          "IBM",
          "IMPACT Partners",
          "INCO Ventures",
          "IPG Mediabrands France",
          "InfraVia Capital Partners",
          "InstaDeep Ltd",
          "Junior ESSEC Conseil",
          "KPI Digital Solutions",
          "KPMG Canada",
          "Kearney",
          "L Catterton",
          "L'Oréal",
          "LFPI",
          "La Grande Tribune",
          "Latour Capital",
          "Lazard",
          "Le Cercle",
          "Le Tigre Yoga",
          "LittleBig Connection",
          "Loom",
          "Lynx partners",
          "MODAS BARTHELEMY & ASSOCIES",
          "Malakoff Humanis",
          "Maria Schools",
          "Mazars",
          "McKinsey & Company",
          "McKinsey & Company",
          "McKinsey & Company",
          "Michelin",
          "Mideast Data Systems",
          "Mind Fintech",
          "Mind Fintech",
          "Mirakl",
          "Monitor Deloitte",
          "NewScreen.",
          "Newfund",
          "Nomura",
          "Nouvelle Garde Groupe",
          "Oderis Consulting",
          "Omnes Capital",
          "PKF Arsilon",
          "Partners Group",
          "Pratt & Whitney Canada",
          "Quarante",
          "Quinten Health ",
          "RAISE",
          "Richemont",
          "Roland Berger",
          "Rothschild & Co",
          "SALTO",
          "Safran",
          "Sailcoop",
          "Saint-Gobain Sekurit",
          "Shift Technology",
          "SoKube",
          "Societe Generale Corporate and Investment Banking - SGCIB",
          "Societe Generale Corporate and Investment Banking - SGCIB",
          "Stockholm Resilience Centre",
          "Sycomore Corporate Finance",
          "TERA Consultants",
          "Teneo",
          "Tesla",
          "The Carlyle Group",
          "The Salmon Consulting",
          "Thinkr Consulting",
          "Tikehau Capital",
          "Université Paris 1 Panthéon-Sorbonne",
          "Up To The League",
          "VINCI Construction",
          "Waterland Private Equity",
          "Wavestone",
          "Wavestone",
          "YMAGO Conseil",
          "Your-Comics",
          "Zelros",
          "daphni",
          "l'Ameublement français",
          "mind Media",
          "mind Media",
          "mind RH",
          "Épopée Gestion",
          "Analyste",
          "Analyste Private Equity",
          "Analyste financier",
          "Associate",
          "Associate Consultant",
          "Associate Consultant Intern",
          "Auditeur financier",
          "Business Analyst",
          "Business Consultant",
          "CEO",
          "Category Manager",
          "Chargée de communication",
          "Chef de projet",
          "Chief Executive Officer",
          "Co-Founder",
          "Co-fondateur",
          "Co-founder",
          "Consultant",
          "Consultant junior",
          "Consultant stagiaire",
          "Consultante junior",
          "Data Analyst",
          "Data Scientist",
          "Data Scientist (Academic Consulting Project)",
          "Data Scientist Intern",
          "Directeur des opérations",
          "Directeur général",
          "Directrice générale",
          "Executive Recruiter",
          "Financial Analyst",
          "Investment Banking Analyst",
          "Investment Banking Analyst Intern",
          "Journaliste",
          "Junior Consultant",
          "M&A Analyst",
          "M&A Analyst Intern",
          "Managing Director",
          "Market research analyst",
          "President",
          "Private Debt Analyst Intern",
          "Private Equity Analyst",
          "Private Equity Analyst Intern",
          "Président",
          "Research Assistant",
          "Research Intern",
          "Rédacteur en chef",
          "Sales Team Leader",
          "Secrétaire générale",
          "Senior Account Executive",
          "Senior Consultant",
          "Stagiaire",
          "Transaction Services Analyst",
          "Trésorier",
          "VC Analyst",
          "Visiting Associate"
         ],
         "marker": {
          "coloraxis": "coloraxis",
          "colors": [
           2,
           2,
           2,
           2,
           3,
           2,
           2,
           8,
           5,
           2,
           2,
           3,
           6,
           2,
           14,
           14,
           14,
           8,
           2,
           2,
           2,
           3,
           3,
           2,
           3,
           14,
           5,
           2,
           3,
           2,
           2,
           8,
           2,
           4,
           4,
           14,
           6,
           2,
           2,
           14,
           3,
           2,
           2,
           2,
           6,
           6,
           2,
           2,
           3,
           14,
           14,
           2,
           3,
           14,
           2,
           2,
           2,
           8,
           2,
           14,
           14,
           14,
           2,
           5,
           2,
           2,
           2,
           14,
           2,
           2,
           2,
           2,
           6,
           8,
           6,
           5,
           3,
           14,
           2,
           2,
           2,
           2,
           6,
           14,
           2,
           2,
           2,
           6,
           14,
           6,
           2,
           2,
           6,
           3,
           3,
           5,
           2,
           3,
           4,
           6,
           2,
           2,
           3,
           3,
           2,
           2,
           8,
           2,
           5,
           2,
           6,
           3,
           14,
           2,
           2,
           2,
           2,
           3,
           6,
           3,
           2,
           14,
           2,
           14,
           2,
           3,
           3,
           2,
           14,
           14,
           2,
           14,
           2,
           2,
           3,
           14,
           3,
           8,
           14,
           2,
           6,
           3,
           6,
           2,
           3,
           3,
           2,
           3,
           5,
           2,
           3,
           2,
           3,
           5,
           2,
           2,
           5,
           4,
           2,
           3,
           2,
           6,
           2,
           2,
           2,
           2,
           2,
           3,
           2,
           6,
           2,
           8,
           2,
           2,
           3,
           3,
           3,
           2,
           3,
           2,
           2,
           2,
           2,
           2,
           2,
           2,
           3,
           2,
           3,
           14,
           2,
           2,
           2,
           2,
           6,
           14,
           2,
           2,
           2,
           2,
           2,
           2,
           2,
           2,
           3,
           3,
           2,
           5,
           4
          ]
         },
         "name": "",
         "parents": [
          "President",
          "CEO",
          "Consultant stagiaire",
          "Trésorier",
          "Stagiaire",
          "Consultant junior",
          "Junior Consultant",
          "Consultant",
          "Analyste financier",
          "Directeur des opérations",
          "Private Debt Analyst Intern",
          "Transaction Services Analyst",
          "Business Analyst",
          "Financial Analyst",
          "Private Equity Analyst Intern",
          "Private Equity Analyst Intern",
          "Private Equity Analyst Intern",
          "Consultant",
          "Co-founder",
          "Consultant junior",
          "Senior Account Executive",
          "Data Analyst",
          "Data Scientist",
          "Secrétaire générale",
          "M&A Analyst",
          "M&A Analyst Intern",
          "VC Analyst",
          "Associate Consultant",
          "Associate Consultant Intern",
          "Associate Consultant",
          "CEO",
          "Consultant",
          "Investment Banking Analyst Intern",
          "Associate",
          "Visiting Associate",
          "M&A Analyst Intern",
          "Private Equity Analyst",
          "Senior Account Executive",
          "Market research analyst",
          "Private Equity Analyst Intern",
          "M&A Analyst",
          "Managing Director",
          "Investment Banking Analyst Intern",
          "Research Assistant",
          "Co-fondateur",
          "Private Equity Analyst",
          "Research Assistant",
          "Co-Founder",
          "Stagiaire",
          "M&A Analyst Intern",
          "M&A Analyst Intern",
          "Executive Recruiter",
          "Data Analyst",
          "M&A Analyst Intern",
          "Chef de projet",
          "Président",
          "Auditeur financier",
          "Consultant",
          "Analyste Private Equity",
          "Private Equity Analyst Intern",
          "Private Equity Analyst Intern",
          "Private Equity Analyst Intern",
          "Consultant stagiaire",
          "Analyste financier",
          "Chargée de communication",
          "Managing Director",
          "Investment Banking Analyst",
          "M&A Analyst Intern",
          "Directeur général",
          "Sales Team Leader",
          "Category Manager",
          "Chargée de communication",
          "Co-fondateur",
          "Consultant",
          "Private Equity Analyst",
          "VC Analyst",
          "Chief Executive Officer",
          "Private Equity Analyst Intern",
          "Financial Analyst",
          "Trésorier",
          "Data Scientist (Academic Consulting Project)",
          "Senior Consultant",
          "Business Analyst",
          "Private Equity Analyst Intern",
          "Data Scientist (Academic Consulting Project)",
          "Analyste Private Equity",
          "Président",
          "Private Equity Analyst",
          "M&A Analyst Intern",
          "Co-fondateur",
          "Directrice générale",
          "Business Consultant",
          "Co-fondateur",
          "Consultante junior",
          "Stagiaire",
          "Analyste financier",
          "Co-founder",
          "Transaction Services Analyst",
          "Associate",
          "Business Analyst",
          "Executive Recruiter",
          "Category Manager",
          "Data Analyst",
          "Journaliste",
          "Rédacteur en chef",
          "Business Consultant",
          "Consultant",
          "Sales Team Leader",
          "VC Analyst",
          "Investment Banking Analyst",
          "Co-fondateur",
          "Transaction Services Analyst",
          "Private Equity Analyst Intern",
          "Auditeur financier",
          "Private Debt Analyst Intern",
          "President",
          "Co-Founder",
          "Data Scientist",
          "Private Equity Analyst",
          "Data Scientist Intern",
          "Junior Consultant",
          "M&A Analyst Intern",
          "Secrétaire générale",
          "M&A Analyst Intern",
          "Directeur général",
          "Chief Executive Officer",
          "Data Scientist Intern",
          "Directeur des opérations",
          "M&A Analyst Intern",
          "Private Equity Analyst Intern",
          "Research Intern",
          "M&A Analyst Intern",
          "Analyste",
          "Senior Consultant",
          "Data Scientist",
          "Private Equity Analyst Intern",
          "Chief Executive Officer",
          "Consultant",
          "Private Equity Analyst Intern",
          "Research Intern",
          "Co-fondateur",
          "M&A Analyst",
          "Private Equity Analyst",
          "Analyste",
          "Consultante junior",
          "Consultante junior",
          "Chef de projet",
          "Data Scientist Intern",
          "VC Analyst",
          "Directrice générale",
          "Journaliste",
          "Rédacteur en chef",
          "Journaliste",
          "VC Analyst",
          "",
          "",
          "",
          "",
          "",
          "",
          "",
          "",
          "",
          "",
          "",
          "",
          "",
          "",
          "",
          "",
          "",
          "",
          "",
          "",
          "",
          "",
          "",
          "",
          "",
          "",
          "",
          "",
          "",
          "",
          "",
          "",
          "",
          "",
          "",
          "",
          "",
          "",
          "",
          "",
          "",
          "",
          "",
          "",
          "",
          "",
          "",
          "",
          "",
          "",
          "",
          "",
          "",
          "",
          ""
         ],
         "type": "treemap",
         "values": [
          1,
          1,
          1,
          1,
          1,
          1,
          1,
          1,
          3,
          1,
          1,
          1,
          1,
          1,
          1,
          1,
          2,
          2,
          1,
          1,
          1,
          1,
          1,
          1,
          1,
          1,
          1,
          1,
          3,
          1,
          1,
          1,
          1,
          3,
          4,
          1,
          1,
          1,
          2,
          1,
          1,
          1,
          1,
          1,
          1,
          1,
          1,
          1,
          1,
          2,
          1,
          1,
          1,
          1,
          1,
          1,
          1,
          1,
          1,
          1,
          1,
          1,
          1,
          1,
          1,
          1,
          1,
          1,
          1,
          1,
          1,
          1,
          1,
          1,
          1,
          1,
          1,
          1,
          1,
          1,
          1,
          1,
          2,
          1,
          1,
          1,
          1,
          1,
          1,
          1,
          1,
          1,
          1,
          1,
          1,
          1,
          1,
          1,
          1,
          3,
          1,
          1,
          1,
          1,
          1,
          1,
          1,
          1,
          1,
          1,
          1,
          1,
          1,
          1,
          1,
          1,
          1,
          1,
          1,
          1,
          1,
          1,
          1,
          1,
          1,
          1,
          1,
          1,
          2,
          1,
          1,
          2,
          1,
          1,
          1,
          1,
          1,
          1,
          1,
          1,
          1,
          1,
          1,
          1,
          1,
          1,
          1,
          1,
          1,
          1,
          1,
          1,
          1,
          1,
          2,
          2,
          5,
          4,
          2,
          3,
          2,
          6,
          2,
          2,
          2,
          2,
          2,
          3,
          2,
          6,
          2,
          8,
          2,
          2,
          3,
          3,
          3,
          2,
          3,
          2,
          2,
          2,
          2,
          2,
          2,
          2,
          3,
          2,
          3,
          14,
          2,
          2,
          2,
          2,
          6,
          14,
          2,
          2,
          2,
          2,
          2,
          2,
          2,
          2,
          3,
          3,
          2,
          5,
          4
         ]
        }
       ],
       "layout": {
        "coloraxis": {
         "cmid": 5.093023255813954,
         "colorbar": {
          "title": {
           "text": "Count"
          }
         },
         "colorscale": [
          [
           0,
           "rgb(0, 155, 158)"
          ],
          [
           0.16666666666666666,
           "rgb(66, 183, 185)"
          ],
          [
           0.3333333333333333,
           "rgb(167, 211, 212)"
          ],
          [
           0.5,
           "rgb(241, 241, 241)"
          ],
          [
           0.6666666666666666,
           "rgb(228, 193, 217)"
          ],
          [
           0.8333333333333334,
           "rgb(214, 145, 193)"
          ],
          [
           1,
           "rgb(199, 93, 171)"
          ]
         ]
        },
        "height": 1000,
        "legend": {
         "tracegroupgap": 0
        },
        "margin": {
         "t": 60
        },
        "template": {
         "data": {
          "bar": [
           {
            "error_x": {
             "color": "#2a3f5f"
            },
            "error_y": {
             "color": "#2a3f5f"
            },
            "marker": {
             "line": {
              "color": "#E5ECF6",
              "width": 0.5
             },
             "pattern": {
              "fillmode": "overlay",
              "size": 10,
              "solidity": 0.2
             }
            },
            "type": "bar"
           }
          ],
          "barpolar": [
           {
            "marker": {
             "line": {
              "color": "#E5ECF6",
              "width": 0.5
             },
             "pattern": {
              "fillmode": "overlay",
              "size": 10,
              "solidity": 0.2
             }
            },
            "type": "barpolar"
           }
          ],
          "carpet": [
           {
            "aaxis": {
             "endlinecolor": "#2a3f5f",
             "gridcolor": "white",
             "linecolor": "white",
             "minorgridcolor": "white",
             "startlinecolor": "#2a3f5f"
            },
            "baxis": {
             "endlinecolor": "#2a3f5f",
             "gridcolor": "white",
             "linecolor": "white",
             "minorgridcolor": "white",
             "startlinecolor": "#2a3f5f"
            },
            "type": "carpet"
           }
          ],
          "choropleth": [
           {
            "colorbar": {
             "outlinewidth": 0,
             "ticks": ""
            },
            "type": "choropleth"
           }
          ],
          "contour": [
           {
            "colorbar": {
             "outlinewidth": 0,
             "ticks": ""
            },
            "colorscale": [
             [
              0,
              "#0d0887"
             ],
             [
              0.1111111111111111,
              "#46039f"
             ],
             [
              0.2222222222222222,
              "#7201a8"
             ],
             [
              0.3333333333333333,
              "#9c179e"
             ],
             [
              0.4444444444444444,
              "#bd3786"
             ],
             [
              0.5555555555555556,
              "#d8576b"
             ],
             [
              0.6666666666666666,
              "#ed7953"
             ],
             [
              0.7777777777777778,
              "#fb9f3a"
             ],
             [
              0.8888888888888888,
              "#fdca26"
             ],
             [
              1,
              "#f0f921"
             ]
            ],
            "type": "contour"
           }
          ],
          "contourcarpet": [
           {
            "colorbar": {
             "outlinewidth": 0,
             "ticks": ""
            },
            "type": "contourcarpet"
           }
          ],
          "heatmap": [
           {
            "colorbar": {
             "outlinewidth": 0,
             "ticks": ""
            },
            "colorscale": [
             [
              0,
              "#0d0887"
             ],
             [
              0.1111111111111111,
              "#46039f"
             ],
             [
              0.2222222222222222,
              "#7201a8"
             ],
             [
              0.3333333333333333,
              "#9c179e"
             ],
             [
              0.4444444444444444,
              "#bd3786"
             ],
             [
              0.5555555555555556,
              "#d8576b"
             ],
             [
              0.6666666666666666,
              "#ed7953"
             ],
             [
              0.7777777777777778,
              "#fb9f3a"
             ],
             [
              0.8888888888888888,
              "#fdca26"
             ],
             [
              1,
              "#f0f921"
             ]
            ],
            "type": "heatmap"
           }
          ],
          "heatmapgl": [
           {
            "colorbar": {
             "outlinewidth": 0,
             "ticks": ""
            },
            "colorscale": [
             [
              0,
              "#0d0887"
             ],
             [
              0.1111111111111111,
              "#46039f"
             ],
             [
              0.2222222222222222,
              "#7201a8"
             ],
             [
              0.3333333333333333,
              "#9c179e"
             ],
             [
              0.4444444444444444,
              "#bd3786"
             ],
             [
              0.5555555555555556,
              "#d8576b"
             ],
             [
              0.6666666666666666,
              "#ed7953"
             ],
             [
              0.7777777777777778,
              "#fb9f3a"
             ],
             [
              0.8888888888888888,
              "#fdca26"
             ],
             [
              1,
              "#f0f921"
             ]
            ],
            "type": "heatmapgl"
           }
          ],
          "histogram": [
           {
            "marker": {
             "pattern": {
              "fillmode": "overlay",
              "size": 10,
              "solidity": 0.2
             }
            },
            "type": "histogram"
           }
          ],
          "histogram2d": [
           {
            "colorbar": {
             "outlinewidth": 0,
             "ticks": ""
            },
            "colorscale": [
             [
              0,
              "#0d0887"
             ],
             [
              0.1111111111111111,
              "#46039f"
             ],
             [
              0.2222222222222222,
              "#7201a8"
             ],
             [
              0.3333333333333333,
              "#9c179e"
             ],
             [
              0.4444444444444444,
              "#bd3786"
             ],
             [
              0.5555555555555556,
              "#d8576b"
             ],
             [
              0.6666666666666666,
              "#ed7953"
             ],
             [
              0.7777777777777778,
              "#fb9f3a"
             ],
             [
              0.8888888888888888,
              "#fdca26"
             ],
             [
              1,
              "#f0f921"
             ]
            ],
            "type": "histogram2d"
           }
          ],
          "histogram2dcontour": [
           {
            "colorbar": {
             "outlinewidth": 0,
             "ticks": ""
            },
            "colorscale": [
             [
              0,
              "#0d0887"
             ],
             [
              0.1111111111111111,
              "#46039f"
             ],
             [
              0.2222222222222222,
              "#7201a8"
             ],
             [
              0.3333333333333333,
              "#9c179e"
             ],
             [
              0.4444444444444444,
              "#bd3786"
             ],
             [
              0.5555555555555556,
              "#d8576b"
             ],
             [
              0.6666666666666666,
              "#ed7953"
             ],
             [
              0.7777777777777778,
              "#fb9f3a"
             ],
             [
              0.8888888888888888,
              "#fdca26"
             ],
             [
              1,
              "#f0f921"
             ]
            ],
            "type": "histogram2dcontour"
           }
          ],
          "mesh3d": [
           {
            "colorbar": {
             "outlinewidth": 0,
             "ticks": ""
            },
            "type": "mesh3d"
           }
          ],
          "parcoords": [
           {
            "line": {
             "colorbar": {
              "outlinewidth": 0,
              "ticks": ""
             }
            },
            "type": "parcoords"
           }
          ],
          "pie": [
           {
            "automargin": true,
            "type": "pie"
           }
          ],
          "scatter": [
           {
            "fillpattern": {
             "fillmode": "overlay",
             "size": 10,
             "solidity": 0.2
            },
            "type": "scatter"
           }
          ],
          "scatter3d": [
           {
            "line": {
             "colorbar": {
              "outlinewidth": 0,
              "ticks": ""
             }
            },
            "marker": {
             "colorbar": {
              "outlinewidth": 0,
              "ticks": ""
             }
            },
            "type": "scatter3d"
           }
          ],
          "scattercarpet": [
           {
            "marker": {
             "colorbar": {
              "outlinewidth": 0,
              "ticks": ""
             }
            },
            "type": "scattercarpet"
           }
          ],
          "scattergeo": [
           {
            "marker": {
             "colorbar": {
              "outlinewidth": 0,
              "ticks": ""
             }
            },
            "type": "scattergeo"
           }
          ],
          "scattergl": [
           {
            "marker": {
             "colorbar": {
              "outlinewidth": 0,
              "ticks": ""
             }
            },
            "type": "scattergl"
           }
          ],
          "scattermapbox": [
           {
            "marker": {
             "colorbar": {
              "outlinewidth": 0,
              "ticks": ""
             }
            },
            "type": "scattermapbox"
           }
          ],
          "scatterpolar": [
           {
            "marker": {
             "colorbar": {
              "outlinewidth": 0,
              "ticks": ""
             }
            },
            "type": "scatterpolar"
           }
          ],
          "scatterpolargl": [
           {
            "marker": {
             "colorbar": {
              "outlinewidth": 0,
              "ticks": ""
             }
            },
            "type": "scatterpolargl"
           }
          ],
          "scatterternary": [
           {
            "marker": {
             "colorbar": {
              "outlinewidth": 0,
              "ticks": ""
             }
            },
            "type": "scatterternary"
           }
          ],
          "surface": [
           {
            "colorbar": {
             "outlinewidth": 0,
             "ticks": ""
            },
            "colorscale": [
             [
              0,
              "#0d0887"
             ],
             [
              0.1111111111111111,
              "#46039f"
             ],
             [
              0.2222222222222222,
              "#7201a8"
             ],
             [
              0.3333333333333333,
              "#9c179e"
             ],
             [
              0.4444444444444444,
              "#bd3786"
             ],
             [
              0.5555555555555556,
              "#d8576b"
             ],
             [
              0.6666666666666666,
              "#ed7953"
             ],
             [
              0.7777777777777778,
              "#fb9f3a"
             ],
             [
              0.8888888888888888,
              "#fdca26"
             ],
             [
              1,
              "#f0f921"
             ]
            ],
            "type": "surface"
           }
          ],
          "table": [
           {
            "cells": {
             "fill": {
              "color": "#EBF0F8"
             },
             "line": {
              "color": "white"
             }
            },
            "header": {
             "fill": {
              "color": "#C8D4E3"
             },
             "line": {
              "color": "white"
             }
            },
            "type": "table"
           }
          ]
         },
         "layout": {
          "annotationdefaults": {
           "arrowcolor": "#2a3f5f",
           "arrowhead": 0,
           "arrowwidth": 1
          },
          "autotypenumbers": "strict",
          "coloraxis": {
           "colorbar": {
            "outlinewidth": 0,
            "ticks": ""
           }
          },
          "colorscale": {
           "diverging": [
            [
             0,
             "#8e0152"
            ],
            [
             0.1,
             "#c51b7d"
            ],
            [
             0.2,
             "#de77ae"
            ],
            [
             0.3,
             "#f1b6da"
            ],
            [
             0.4,
             "#fde0ef"
            ],
            [
             0.5,
             "#f7f7f7"
            ],
            [
             0.6,
             "#e6f5d0"
            ],
            [
             0.7,
             "#b8e186"
            ],
            [
             0.8,
             "#7fbc41"
            ],
            [
             0.9,
             "#4d9221"
            ],
            [
             1,
             "#276419"
            ]
           ],
           "sequential": [
            [
             0,
             "#0d0887"
            ],
            [
             0.1111111111111111,
             "#46039f"
            ],
            [
             0.2222222222222222,
             "#7201a8"
            ],
            [
             0.3333333333333333,
             "#9c179e"
            ],
            [
             0.4444444444444444,
             "#bd3786"
            ],
            [
             0.5555555555555556,
             "#d8576b"
            ],
            [
             0.6666666666666666,
             "#ed7953"
            ],
            [
             0.7777777777777778,
             "#fb9f3a"
            ],
            [
             0.8888888888888888,
             "#fdca26"
            ],
            [
             1,
             "#f0f921"
            ]
           ],
           "sequentialminus": [
            [
             0,
             "#0d0887"
            ],
            [
             0.1111111111111111,
             "#46039f"
            ],
            [
             0.2222222222222222,
             "#7201a8"
            ],
            [
             0.3333333333333333,
             "#9c179e"
            ],
            [
             0.4444444444444444,
             "#bd3786"
            ],
            [
             0.5555555555555556,
             "#d8576b"
            ],
            [
             0.6666666666666666,
             "#ed7953"
            ],
            [
             0.7777777777777778,
             "#fb9f3a"
            ],
            [
             0.8888888888888888,
             "#fdca26"
            ],
            [
             1,
             "#f0f921"
            ]
           ]
          },
          "colorway": [
           "#636efa",
           "#EF553B",
           "#00cc96",
           "#ab63fa",
           "#FFA15A",
           "#19d3f3",
           "#FF6692",
           "#B6E880",
           "#FF97FF",
           "#FECB52"
          ],
          "font": {
           "color": "#2a3f5f"
          },
          "geo": {
           "bgcolor": "white",
           "lakecolor": "white",
           "landcolor": "#E5ECF6",
           "showlakes": true,
           "showland": true,
           "subunitcolor": "white"
          },
          "hoverlabel": {
           "align": "left"
          },
          "hovermode": "closest",
          "mapbox": {
           "style": "light"
          },
          "paper_bgcolor": "white",
          "plot_bgcolor": "#E5ECF6",
          "polar": {
           "angularaxis": {
            "gridcolor": "white",
            "linecolor": "white",
            "ticks": ""
           },
           "bgcolor": "#E5ECF6",
           "radialaxis": {
            "gridcolor": "white",
            "linecolor": "white",
            "ticks": ""
           }
          },
          "scene": {
           "xaxis": {
            "backgroundcolor": "#E5ECF6",
            "gridcolor": "white",
            "gridwidth": 2,
            "linecolor": "white",
            "showbackground": true,
            "ticks": "",
            "zerolinecolor": "white"
           },
           "yaxis": {
            "backgroundcolor": "#E5ECF6",
            "gridcolor": "white",
            "gridwidth": 2,
            "linecolor": "white",
            "showbackground": true,
            "ticks": "",
            "zerolinecolor": "white"
           },
           "zaxis": {
            "backgroundcolor": "#E5ECF6",
            "gridcolor": "white",
            "gridwidth": 2,
            "linecolor": "white",
            "showbackground": true,
            "ticks": "",
            "zerolinecolor": "white"
           }
          },
          "shapedefaults": {
           "line": {
            "color": "#2a3f5f"
           }
          },
          "ternary": {
           "aaxis": {
            "gridcolor": "white",
            "linecolor": "white",
            "ticks": ""
           },
           "baxis": {
            "gridcolor": "white",
            "linecolor": "white",
            "ticks": ""
           },
           "bgcolor": "#E5ECF6",
           "caxis": {
            "gridcolor": "white",
            "linecolor": "white",
            "ticks": ""
           }
          },
          "title": {
           "x": 0.05
          },
          "xaxis": {
           "automargin": true,
           "gridcolor": "white",
           "linecolor": "white",
           "ticks": "",
           "title": {
            "standoff": 15
           },
           "zerolinecolor": "white",
           "zerolinewidth": 2
          },
          "yaxis": {
           "automargin": true,
           "gridcolor": "white",
           "linecolor": "white",
           "ticks": "",
           "title": {
            "standoff": 15
           },
           "zerolinecolor": "white",
           "zerolinewidth": 2
          }
         }
        },
        "width": 1000
       }
      },
      "text/html": [
       "<div>                            <div id=\"512e56f2-b4e4-46f2-a972-e5a9836ab3e4\" class=\"plotly-graph-div\" style=\"height:1000px; width:1000px;\"></div>            <script type=\"text/javascript\">                require([\"plotly\"], function(Plotly) {                    window.PLOTLYENV=window.PLOTLYENV || {};                                    if (document.getElementById(\"512e56f2-b4e4-46f2-a972-e5a9836ab3e4\")) {                    Plotly.newPlot(                        \"512e56f2-b4e4-46f2-a972-e5a9836ab3e4\",                        [{\"branchvalues\":\"total\",\"customdata\":[[2.0],[2.0],[2.0],[2.0],[3.0],[2.0],[2.0],[8.0],[5.0],[2.0],[2.0],[3.0],[6.0],[2.0],[14.0],[14.0],[14.0],[8.0],[2.0],[2.0],[2.0],[3.0],[3.0],[2.0],[3.0],[14.0],[5.0],[2.0],[3.0],[2.0],[2.0],[8.0],[2.0],[4.0],[4.0],[14.0],[6.0],[2.0],[2.0],[14.0],[3.0],[2.0],[2.0],[2.0],[6.0],[6.0],[2.0],[2.0],[3.0],[14.0],[14.0],[2.0],[3.0],[14.0],[2.0],[2.0],[2.0],[8.0],[2.0],[14.0],[14.0],[14.0],[2.0],[5.0],[2.0],[2.0],[2.0],[14.0],[2.0],[2.0],[2.0],[2.0],[6.0],[8.0],[6.0],[5.0],[3.0],[14.0],[2.0],[2.0],[2.0],[2.0],[6.0],[14.0],[2.0],[2.0],[2.0],[6.0],[14.0],[6.0],[2.0],[2.0],[6.0],[3.0],[3.0],[5.0],[2.0],[3.0],[4.0],[6.0],[2.0],[2.0],[3.0],[3.0],[2.0],[2.0],[8.0],[2.0],[5.0],[2.0],[6.0],[3.0],[14.0],[2.0],[2.0],[2.0],[2.0],[3.0],[6.0],[3.0],[2.0],[14.0],[2.0],[14.0],[2.0],[3.0],[3.0],[2.0],[14.0],[14.0],[2.0],[14.0],[2.0],[2.0],[3.0],[14.0],[3.0],[8.0],[14.0],[2.0],[6.0],[3.0],[6.0],[2.0],[3.0],[3.0],[2.0],[3.0],[5.0],[2.0],[3.0],[2.0],[3.0],[5.0],[2.0],[2.0],[5.0],[4.0],[2.0],[3.0],[2.0],[6.0],[2.0],[2.0],[2.0],[2.0],[2.0],[3.0],[2.0],[6.0],[2.0],[8.0],[2.0],[2.0],[3.0],[3.0],[3.0],[2.0],[3.0],[2.0],[2.0],[2.0],[2.0],[2.0],[2.0],[2.0],[3.0],[2.0],[3.0],[14.0],[2.0],[2.0],[2.0],[2.0],[6.0],[14.0],[2.0],[2.0],[2.0],[2.0],[2.0],[2.0],[2.0],[2.0],[3.0],[3.0],[2.0],[5.0],[4.0]],\"domain\":{\"x\":[0.0,1.0],\"y\":[0.0,1.0]},\"hovertemplate\":\"labels=%{label}<br>count=%{value}<br>parent=%{parent}<br>id=%{id}<br>Count=%{color}<extra></extra>\",\"ids\":[\"President/1Health\",\"CEO/228 Litres\",\"Consultant stagiaire/ADIT\",\"Tr\\u00e9sorier/AEECL - Association des \\u00c9l\\u00e8ves de l'Ecole Centrale de Lyon\",\"Stagiaire/AHK Frankreich / Chambre Franco-Allemande de Commerce et d'Industrie\",\"Consultant junior/Accenture\",\"Junior Consultant/Accenture\",\"Consultant/Accenture France\",\"Analyste financier/Accuracy\",\"Directeur des op\\u00e9rations/Adverline\",\"Private Debt Analyst Intern/Allianz Global Investors\",\"Transaction Services Analyst/Alvarez & Marsal\",\"Business Analyst/Amazon\",\"Financial Analyst/Amazon\",\"Private Equity Analyst Intern/Ampersand Capital Partners\",\"Private Equity Analyst Intern/Apax Partners sas\",\"Private Equity Analyst Intern/Ardian\",\"Consultant/Argon & Co\",\"Co-founder/Assurance for good\",\"Consultant junior/Attali Associates\",\"Senior Account Executive/BCW France\",\"Data Analyst/BDC\",\"Data Scientist/BDC\",\"Secr\\u00e9taire g\\u00e9n\\u00e9rale/BDE UTC - Bureau des Etudiants de l'Universit\\u00e9 de Technologie de Compi\\u00e8gne\",\"M&A Analyst/BNP Paribas\",\"M&A Analyst Intern/BNP Paribas CIB\",\"VC Analyst/BNP Paribas Cardif\",\"Associate Consultant/Bain & Company\",\"Associate Consultant Intern/Bain & Company\",\"Associate Consultant/Bain & Company France\",\"CEO/Batch\",\"Consultant/BearingPoint\",\"Investment Banking Analyst Intern/Berenberg\",\"Associate/Boston Consulting Group (BCG)\",\"Visiting Associate/Boston Consulting Group (BCG)\",\"M&A Analyst Intern/Bpifrance\",\"Private Equity Analyst/Bpifrance\",\"Senior Account Executive/Broadsign\",\"Market research analyst/Businesscoot\",\"Private Equity Analyst Intern/CVC Capital Partners\",\"M&A Analyst/Cambon Partners\",\"Managing Director/Carrefour Links\",\"Investment Banking Analyst Intern/Centerview Partners\",\"Research Assistant/CentraleSup\\u00e9lec\",\"Co-fondateur/Chaleur Naturelle\",\"Private Equity Analyst/Cinven\",\"Research Assistant/Columbia Business School\",\"Co-Founder/Convention des Entreprises pour le Climat\",\"Stagiaire/Cour d'Appel de Paris / Paris Court of Appeal\",\"M&A Analyst Intern/Cr\\u00e9dit Agricole CIB\",\"M&A Analyst Intern/DC Advisory\",\"Executive Recruiter/Decathlon Digital\",\"Data Analyst/Delve at Desautels McGill\",\"M&A Analyst Intern/Deutsche Bank\",\"Chef de projet/ESCP Europe Conseil\",\"Pr\\u00e9sident/ESCPMusicCollective\",\"Auditeur financier/EY\",\"Consultant/EY\",\"Analyste Private Equity/Entrepreneur Invest\",\"Private Equity Analyst Intern/Entrepreneur Invest\",\"Private Equity Analyst Intern/Equistone Partners Europe\",\"Private Equity Analyst Intern/Eurazeo\",\"Consultant stagiaire/Eurogroup Consulting\",\"Analyste financier/Everphone\",\"Charg\\u00e9e de communication/Extia\",\"Managing Director/FILMO\",\"Investment Banking Analyst/Goldman Sachs\",\"M&A Analyst Intern/Groupe Keolis\",\"Directeur g\\u00e9n\\u00e9ral/Groupe Sud Ouest\",\"Sales Team Leader/Groupe mind\",\"Category Manager/HP\",\"Charg\\u00e9e de communication/Herm\\u00e8s\",\"Co-fondateur/Hexplo\",\"Consultant/IBM\",\"Private Equity Analyst/IMPACT Partners\",\"VC Analyst/INCO Ventures\",\"Chief Executive Officer/IPG Mediabrands France\",\"Private Equity Analyst Intern/InfraVia Capital Partners\",\"Financial Analyst/InstaDeep Ltd\",\"Tr\\u00e9sorier/Junior ESSEC Conseil\",\"Data Scientist (Academic Consulting Project)/KPI Digital Solutions\",\"Senior Consultant/KPMG Canada\",\"Business Analyst/Kearney\",\"Private Equity Analyst Intern/L Catterton\",\"Data Scientist (Academic Consulting Project)/L'Or\\u00e9al\",\"Analyste Private Equity/LFPI\",\"Pr\\u00e9sident/La Grande Tribune\",\"Private Equity Analyst/Latour Capital\",\"M&A Analyst Intern/Lazard\",\"Co-fondateur/Le Cercle\",\"Directrice g\\u00e9n\\u00e9rale/Le Tigre Yoga\",\"Business Consultant/LittleBig Connection\",\"Co-fondateur/Loom\",\"Consultante junior/Lynx partners\",\"Stagiaire/MODAS BARTHELEMY & ASSOCIES\",\"Analyste financier/Malakoff Humanis\",\"Co-founder/Maria Schools\",\"Transaction Services Analyst/Mazars\",\"Associate/McKinsey & Company\",\"Business Analyst/McKinsey & Company\",\"Executive Recruiter/McKinsey & Company\",\"Category Manager/Michelin\",\"Data Analyst/Mideast Data Systems\",\"Journaliste/Mind Fintech\",\"R\\u00e9dacteur en chef/Mind Fintech\",\"Business Consultant/Mirakl\",\"Consultant/Monitor Deloitte\",\"Sales Team Leader/NewScreen.\",\"VC Analyst/Newfund\",\"Investment Banking Analyst/Nomura\",\"Co-fondateur/Nouvelle Garde Groupe\",\"Transaction Services Analyst/Oderis Consulting\",\"Private Equity Analyst Intern/Omnes Capital\",\"Auditeur financier/PKF Arsilon\",\"Private Debt Analyst Intern/Partners Group\",\"President/Pratt & Whitney Canada\",\"Co-Founder/Quarante\",\"Data Scientist/Quinten Health \",\"Private Equity Analyst/RAISE\",\"Data Scientist Intern/Richemont\",\"Junior Consultant/Roland Berger\",\"M&A Analyst Intern/Rothschild & Co\",\"Secr\\u00e9taire g\\u00e9n\\u00e9rale/SALTO\",\"M&A Analyst Intern/Safran\",\"Directeur g\\u00e9n\\u00e9ral/Sailcoop\",\"Chief Executive Officer/Saint-Gobain Sekurit\",\"Data Scientist Intern/Shift Technology\",\"Directeur des op\\u00e9rations/SoKube\",\"M&A Analyst Intern/Societe Generale Corporate and Investment Banking - SGCIB\",\"Private Equity Analyst Intern/Societe Generale Corporate and Investment Banking - SGCIB\",\"Research Intern/Stockholm Resilience Centre\",\"M&A Analyst Intern/Sycomore Corporate Finance\",\"Analyste/TERA Consultants\",\"Senior Consultant/Teneo\",\"Data Scientist/Tesla\",\"Private Equity Analyst Intern/The Carlyle Group\",\"Chief Executive Officer/The Salmon Consulting\",\"Consultant/Thinkr Consulting\",\"Private Equity Analyst Intern/Tikehau Capital\",\"Research Intern/Universit\\u00e9 Paris 1 Panth\\u00e9on-Sorbonne\",\"Co-fondateur/Up To The League\",\"M&A Analyst/VINCI Construction\",\"Private Equity Analyst/Waterland Private Equity\",\"Analyste/Wavestone\",\"Consultante junior/Wavestone\",\"Consultante junior/YMAGO Conseil\",\"Chef de projet/Your-Comics\",\"Data Scientist Intern/Zelros\",\"VC Analyst/daphni\",\"Directrice g\\u00e9n\\u00e9rale/l'Ameublement fran\\u00e7ais\",\"Journaliste/mind Media\",\"R\\u00e9dacteur en chef/mind Media\",\"Journaliste/mind RH\",\"VC Analyst/\\u00c9pop\\u00e9e Gestion\",\"Analyste\",\"Analyste Private Equity\",\"Analyste financier\",\"Associate\",\"Associate Consultant\",\"Associate Consultant Intern\",\"Auditeur financier\",\"Business Analyst\",\"Business Consultant\",\"CEO\",\"Category Manager\",\"Charg\\u00e9e de communication\",\"Chef de projet\",\"Chief Executive Officer\",\"Co-Founder\",\"Co-fondateur\",\"Co-founder\",\"Consultant\",\"Consultant junior\",\"Consultant stagiaire\",\"Consultante junior\",\"Data Analyst\",\"Data Scientist\",\"Data Scientist (Academic Consulting Project)\",\"Data Scientist Intern\",\"Directeur des op\\u00e9rations\",\"Directeur g\\u00e9n\\u00e9ral\",\"Directrice g\\u00e9n\\u00e9rale\",\"Executive Recruiter\",\"Financial Analyst\",\"Investment Banking Analyst\",\"Investment Banking Analyst Intern\",\"Journaliste\",\"Junior Consultant\",\"M&A Analyst\",\"M&A Analyst Intern\",\"Managing Director\",\"Market research analyst\",\"President\",\"Private Debt Analyst Intern\",\"Private Equity Analyst\",\"Private Equity Analyst Intern\",\"Pr\\u00e9sident\",\"Research Assistant\",\"Research Intern\",\"R\\u00e9dacteur en chef\",\"Sales Team Leader\",\"Secr\\u00e9taire g\\u00e9n\\u00e9rale\",\"Senior Account Executive\",\"Senior Consultant\",\"Stagiaire\",\"Transaction Services Analyst\",\"Tr\\u00e9sorier\",\"VC Analyst\",\"Visiting Associate\"],\"labels\":[\"1Health\",\"228 Litres\",\"ADIT\",\"AEECL - Association des \\u00c9l\\u00e8ves de l'Ecole Centrale de Lyon\",\"AHK Frankreich / Chambre Franco-Allemande de Commerce et d'Industrie\",\"Accenture\",\"Accenture\",\"Accenture France\",\"Accuracy\",\"Adverline\",\"Allianz Global Investors\",\"Alvarez & Marsal\",\"Amazon\",\"Amazon\",\"Ampersand Capital Partners\",\"Apax Partners sas\",\"Ardian\",\"Argon & Co\",\"Assurance for good\",\"Attali Associates\",\"BCW France\",\"BDC\",\"BDC\",\"BDE UTC - Bureau des Etudiants de l'Universit\\u00e9 de Technologie de Compi\\u00e8gne\",\"BNP Paribas\",\"BNP Paribas CIB\",\"BNP Paribas Cardif\",\"Bain & Company\",\"Bain & Company\",\"Bain & Company France\",\"Batch\",\"BearingPoint\",\"Berenberg\",\"Boston Consulting Group (BCG)\",\"Boston Consulting Group (BCG)\",\"Bpifrance\",\"Bpifrance\",\"Broadsign\",\"Businesscoot\",\"CVC Capital Partners\",\"Cambon Partners\",\"Carrefour Links\",\"Centerview Partners\",\"CentraleSup\\u00e9lec\",\"Chaleur Naturelle\",\"Cinven\",\"Columbia Business School\",\"Convention des Entreprises pour le Climat\",\"Cour d'Appel de Paris / Paris Court of Appeal\",\"Cr\\u00e9dit Agricole CIB\",\"DC Advisory\",\"Decathlon Digital\",\"Delve at Desautels McGill\",\"Deutsche Bank\",\"ESCP Europe Conseil\",\"ESCPMusicCollective\",\"EY\",\"EY\",\"Entrepreneur Invest\",\"Entrepreneur Invest\",\"Equistone Partners Europe\",\"Eurazeo\",\"Eurogroup Consulting\",\"Everphone\",\"Extia\",\"FILMO\",\"Goldman Sachs\",\"Groupe Keolis\",\"Groupe Sud Ouest\",\"Groupe mind\",\"HP\",\"Herm\\u00e8s\",\"Hexplo\",\"IBM\",\"IMPACT Partners\",\"INCO Ventures\",\"IPG Mediabrands France\",\"InfraVia Capital Partners\",\"InstaDeep Ltd\",\"Junior ESSEC Conseil\",\"KPI Digital Solutions\",\"KPMG Canada\",\"Kearney\",\"L Catterton\",\"L'Or\\u00e9al\",\"LFPI\",\"La Grande Tribune\",\"Latour Capital\",\"Lazard\",\"Le Cercle\",\"Le Tigre Yoga\",\"LittleBig Connection\",\"Loom\",\"Lynx partners\",\"MODAS BARTHELEMY & ASSOCIES\",\"Malakoff Humanis\",\"Maria Schools\",\"Mazars\",\"McKinsey & Company\",\"McKinsey & Company\",\"McKinsey & Company\",\"Michelin\",\"Mideast Data Systems\",\"Mind Fintech\",\"Mind Fintech\",\"Mirakl\",\"Monitor Deloitte\",\"NewScreen.\",\"Newfund\",\"Nomura\",\"Nouvelle Garde Groupe\",\"Oderis Consulting\",\"Omnes Capital\",\"PKF Arsilon\",\"Partners Group\",\"Pratt & Whitney Canada\",\"Quarante\",\"Quinten Health \",\"RAISE\",\"Richemont\",\"Roland Berger\",\"Rothschild & Co\",\"SALTO\",\"Safran\",\"Sailcoop\",\"Saint-Gobain Sekurit\",\"Shift Technology\",\"SoKube\",\"Societe Generale Corporate and Investment Banking - SGCIB\",\"Societe Generale Corporate and Investment Banking - SGCIB\",\"Stockholm Resilience Centre\",\"Sycomore Corporate Finance\",\"TERA Consultants\",\"Teneo\",\"Tesla\",\"The Carlyle Group\",\"The Salmon Consulting\",\"Thinkr Consulting\",\"Tikehau Capital\",\"Universit\\u00e9 Paris 1 Panth\\u00e9on-Sorbonne\",\"Up To The League\",\"VINCI Construction\",\"Waterland Private Equity\",\"Wavestone\",\"Wavestone\",\"YMAGO Conseil\",\"Your-Comics\",\"Zelros\",\"daphni\",\"l'Ameublement fran\\u00e7ais\",\"mind Media\",\"mind Media\",\"mind RH\",\"\\u00c9pop\\u00e9e Gestion\",\"Analyste\",\"Analyste Private Equity\",\"Analyste financier\",\"Associate\",\"Associate Consultant\",\"Associate Consultant Intern\",\"Auditeur financier\",\"Business Analyst\",\"Business Consultant\",\"CEO\",\"Category Manager\",\"Charg\\u00e9e de communication\",\"Chef de projet\",\"Chief Executive Officer\",\"Co-Founder\",\"Co-fondateur\",\"Co-founder\",\"Consultant\",\"Consultant junior\",\"Consultant stagiaire\",\"Consultante junior\",\"Data Analyst\",\"Data Scientist\",\"Data Scientist (Academic Consulting Project)\",\"Data Scientist Intern\",\"Directeur des op\\u00e9rations\",\"Directeur g\\u00e9n\\u00e9ral\",\"Directrice g\\u00e9n\\u00e9rale\",\"Executive Recruiter\",\"Financial Analyst\",\"Investment Banking Analyst\",\"Investment Banking Analyst Intern\",\"Journaliste\",\"Junior Consultant\",\"M&A Analyst\",\"M&A Analyst Intern\",\"Managing Director\",\"Market research analyst\",\"President\",\"Private Debt Analyst Intern\",\"Private Equity Analyst\",\"Private Equity Analyst Intern\",\"Pr\\u00e9sident\",\"Research Assistant\",\"Research Intern\",\"R\\u00e9dacteur en chef\",\"Sales Team Leader\",\"Secr\\u00e9taire g\\u00e9n\\u00e9rale\",\"Senior Account Executive\",\"Senior Consultant\",\"Stagiaire\",\"Transaction Services Analyst\",\"Tr\\u00e9sorier\",\"VC Analyst\",\"Visiting Associate\"],\"marker\":{\"coloraxis\":\"coloraxis\",\"colors\":[2.0,2.0,2.0,2.0,3.0,2.0,2.0,8.0,5.0,2.0,2.0,3.0,6.0,2.0,14.0,14.0,14.0,8.0,2.0,2.0,2.0,3.0,3.0,2.0,3.0,14.0,5.0,2.0,3.0,2.0,2.0,8.0,2.0,4.0,4.0,14.0,6.0,2.0,2.0,14.0,3.0,2.0,2.0,2.0,6.0,6.0,2.0,2.0,3.0,14.0,14.0,2.0,3.0,14.0,2.0,2.0,2.0,8.0,2.0,14.0,14.0,14.0,2.0,5.0,2.0,2.0,2.0,14.0,2.0,2.0,2.0,2.0,6.0,8.0,6.0,5.0,3.0,14.0,2.0,2.0,2.0,2.0,6.0,14.0,2.0,2.0,2.0,6.0,14.0,6.0,2.0,2.0,6.0,3.0,3.0,5.0,2.0,3.0,4.0,6.0,2.0,2.0,3.0,3.0,2.0,2.0,8.0,2.0,5.0,2.0,6.0,3.0,14.0,2.0,2.0,2.0,2.0,3.0,6.0,3.0,2.0,14.0,2.0,14.0,2.0,3.0,3.0,2.0,14.0,14.0,2.0,14.0,2.0,2.0,3.0,14.0,3.0,8.0,14.0,2.0,6.0,3.0,6.0,2.0,3.0,3.0,2.0,3.0,5.0,2.0,3.0,2.0,3.0,5.0,2.0,2.0,5.0,4.0,2.0,3.0,2.0,6.0,2.0,2.0,2.0,2.0,2.0,3.0,2.0,6.0,2.0,8.0,2.0,2.0,3.0,3.0,3.0,2.0,3.0,2.0,2.0,2.0,2.0,2.0,2.0,2.0,3.0,2.0,3.0,14.0,2.0,2.0,2.0,2.0,6.0,14.0,2.0,2.0,2.0,2.0,2.0,2.0,2.0,2.0,3.0,3.0,2.0,5.0,4.0]},\"name\":\"\",\"parents\":[\"President\",\"CEO\",\"Consultant stagiaire\",\"Tr\\u00e9sorier\",\"Stagiaire\",\"Consultant junior\",\"Junior Consultant\",\"Consultant\",\"Analyste financier\",\"Directeur des op\\u00e9rations\",\"Private Debt Analyst Intern\",\"Transaction Services Analyst\",\"Business Analyst\",\"Financial Analyst\",\"Private Equity Analyst Intern\",\"Private Equity Analyst Intern\",\"Private Equity Analyst Intern\",\"Consultant\",\"Co-founder\",\"Consultant junior\",\"Senior Account Executive\",\"Data Analyst\",\"Data Scientist\",\"Secr\\u00e9taire g\\u00e9n\\u00e9rale\",\"M&A Analyst\",\"M&A Analyst Intern\",\"VC Analyst\",\"Associate Consultant\",\"Associate Consultant Intern\",\"Associate Consultant\",\"CEO\",\"Consultant\",\"Investment Banking Analyst Intern\",\"Associate\",\"Visiting Associate\",\"M&A Analyst Intern\",\"Private Equity Analyst\",\"Senior Account Executive\",\"Market research analyst\",\"Private Equity Analyst Intern\",\"M&A Analyst\",\"Managing Director\",\"Investment Banking Analyst Intern\",\"Research Assistant\",\"Co-fondateur\",\"Private Equity Analyst\",\"Research Assistant\",\"Co-Founder\",\"Stagiaire\",\"M&A Analyst Intern\",\"M&A Analyst Intern\",\"Executive Recruiter\",\"Data Analyst\",\"M&A Analyst Intern\",\"Chef de projet\",\"Pr\\u00e9sident\",\"Auditeur financier\",\"Consultant\",\"Analyste Private Equity\",\"Private Equity Analyst Intern\",\"Private Equity Analyst Intern\",\"Private Equity Analyst Intern\",\"Consultant stagiaire\",\"Analyste financier\",\"Charg\\u00e9e de communication\",\"Managing Director\",\"Investment Banking Analyst\",\"M&A Analyst Intern\",\"Directeur g\\u00e9n\\u00e9ral\",\"Sales Team Leader\",\"Category Manager\",\"Charg\\u00e9e de communication\",\"Co-fondateur\",\"Consultant\",\"Private Equity Analyst\",\"VC Analyst\",\"Chief Executive Officer\",\"Private Equity Analyst Intern\",\"Financial Analyst\",\"Tr\\u00e9sorier\",\"Data Scientist (Academic Consulting Project)\",\"Senior Consultant\",\"Business Analyst\",\"Private Equity Analyst Intern\",\"Data Scientist (Academic Consulting Project)\",\"Analyste Private Equity\",\"Pr\\u00e9sident\",\"Private Equity Analyst\",\"M&A Analyst Intern\",\"Co-fondateur\",\"Directrice g\\u00e9n\\u00e9rale\",\"Business Consultant\",\"Co-fondateur\",\"Consultante junior\",\"Stagiaire\",\"Analyste financier\",\"Co-founder\",\"Transaction Services Analyst\",\"Associate\",\"Business Analyst\",\"Executive Recruiter\",\"Category Manager\",\"Data Analyst\",\"Journaliste\",\"R\\u00e9dacteur en chef\",\"Business Consultant\",\"Consultant\",\"Sales Team Leader\",\"VC Analyst\",\"Investment Banking Analyst\",\"Co-fondateur\",\"Transaction Services Analyst\",\"Private Equity Analyst Intern\",\"Auditeur financier\",\"Private Debt Analyst Intern\",\"President\",\"Co-Founder\",\"Data Scientist\",\"Private Equity Analyst\",\"Data Scientist Intern\",\"Junior Consultant\",\"M&A Analyst Intern\",\"Secr\\u00e9taire g\\u00e9n\\u00e9rale\",\"M&A Analyst Intern\",\"Directeur g\\u00e9n\\u00e9ral\",\"Chief Executive Officer\",\"Data Scientist Intern\",\"Directeur des op\\u00e9rations\",\"M&A Analyst Intern\",\"Private Equity Analyst Intern\",\"Research Intern\",\"M&A Analyst Intern\",\"Analyste\",\"Senior Consultant\",\"Data Scientist\",\"Private Equity Analyst Intern\",\"Chief Executive Officer\",\"Consultant\",\"Private Equity Analyst Intern\",\"Research Intern\",\"Co-fondateur\",\"M&A Analyst\",\"Private Equity Analyst\",\"Analyste\",\"Consultante junior\",\"Consultante junior\",\"Chef de projet\",\"Data Scientist Intern\",\"VC Analyst\",\"Directrice g\\u00e9n\\u00e9rale\",\"Journaliste\",\"R\\u00e9dacteur en chef\",\"Journaliste\",\"VC Analyst\",\"\",\"\",\"\",\"\",\"\",\"\",\"\",\"\",\"\",\"\",\"\",\"\",\"\",\"\",\"\",\"\",\"\",\"\",\"\",\"\",\"\",\"\",\"\",\"\",\"\",\"\",\"\",\"\",\"\",\"\",\"\",\"\",\"\",\"\",\"\",\"\",\"\",\"\",\"\",\"\",\"\",\"\",\"\",\"\",\"\",\"\",\"\",\"\",\"\",\"\",\"\",\"\",\"\",\"\",\"\"],\"values\":[1,1,1,1,1,1,1,1,3,1,1,1,1,1,1,1,2,2,1,1,1,1,1,1,1,1,1,1,3,1,1,1,1,3,4,1,1,1,2,1,1,1,1,1,1,1,1,1,1,2,1,1,1,1,1,1,1,1,1,1,1,1,1,1,1,1,1,1,1,1,1,1,1,1,1,1,1,1,1,1,1,1,2,1,1,1,1,1,1,1,1,1,1,1,1,1,1,1,1,3,1,1,1,1,1,1,1,1,1,1,1,1,1,1,1,1,1,1,1,1,1,1,1,1,1,1,1,1,2,1,1,2,1,1,1,1,1,1,1,1,1,1,1,1,1,1,1,1,1,1,1,1,1,1,2,2,5,4,2,3,2,6,2,2,2,2,2,3,2,6,2,8,2,2,3,3,3,2,3,2,2,2,2,2,2,2,3,2,3,14,2,2,2,2,6,14,2,2,2,2,2,2,2,2,3,3,2,5,4],\"type\":\"treemap\"}],                        {\"template\":{\"data\":{\"histogram2dcontour\":[{\"type\":\"histogram2dcontour\",\"colorbar\":{\"outlinewidth\":0,\"ticks\":\"\"},\"colorscale\":[[0.0,\"#0d0887\"],[0.1111111111111111,\"#46039f\"],[0.2222222222222222,\"#7201a8\"],[0.3333333333333333,\"#9c179e\"],[0.4444444444444444,\"#bd3786\"],[0.5555555555555556,\"#d8576b\"],[0.6666666666666666,\"#ed7953\"],[0.7777777777777778,\"#fb9f3a\"],[0.8888888888888888,\"#fdca26\"],[1.0,\"#f0f921\"]]}],\"choropleth\":[{\"type\":\"choropleth\",\"colorbar\":{\"outlinewidth\":0,\"ticks\":\"\"}}],\"histogram2d\":[{\"type\":\"histogram2d\",\"colorbar\":{\"outlinewidth\":0,\"ticks\":\"\"},\"colorscale\":[[0.0,\"#0d0887\"],[0.1111111111111111,\"#46039f\"],[0.2222222222222222,\"#7201a8\"],[0.3333333333333333,\"#9c179e\"],[0.4444444444444444,\"#bd3786\"],[0.5555555555555556,\"#d8576b\"],[0.6666666666666666,\"#ed7953\"],[0.7777777777777778,\"#fb9f3a\"],[0.8888888888888888,\"#fdca26\"],[1.0,\"#f0f921\"]]}],\"heatmap\":[{\"type\":\"heatmap\",\"colorbar\":{\"outlinewidth\":0,\"ticks\":\"\"},\"colorscale\":[[0.0,\"#0d0887\"],[0.1111111111111111,\"#46039f\"],[0.2222222222222222,\"#7201a8\"],[0.3333333333333333,\"#9c179e\"],[0.4444444444444444,\"#bd3786\"],[0.5555555555555556,\"#d8576b\"],[0.6666666666666666,\"#ed7953\"],[0.7777777777777778,\"#fb9f3a\"],[0.8888888888888888,\"#fdca26\"],[1.0,\"#f0f921\"]]}],\"heatmapgl\":[{\"type\":\"heatmapgl\",\"colorbar\":{\"outlinewidth\":0,\"ticks\":\"\"},\"colorscale\":[[0.0,\"#0d0887\"],[0.1111111111111111,\"#46039f\"],[0.2222222222222222,\"#7201a8\"],[0.3333333333333333,\"#9c179e\"],[0.4444444444444444,\"#bd3786\"],[0.5555555555555556,\"#d8576b\"],[0.6666666666666666,\"#ed7953\"],[0.7777777777777778,\"#fb9f3a\"],[0.8888888888888888,\"#fdca26\"],[1.0,\"#f0f921\"]]}],\"contourcarpet\":[{\"type\":\"contourcarpet\",\"colorbar\":{\"outlinewidth\":0,\"ticks\":\"\"}}],\"contour\":[{\"type\":\"contour\",\"colorbar\":{\"outlinewidth\":0,\"ticks\":\"\"},\"colorscale\":[[0.0,\"#0d0887\"],[0.1111111111111111,\"#46039f\"],[0.2222222222222222,\"#7201a8\"],[0.3333333333333333,\"#9c179e\"],[0.4444444444444444,\"#bd3786\"],[0.5555555555555556,\"#d8576b\"],[0.6666666666666666,\"#ed7953\"],[0.7777777777777778,\"#fb9f3a\"],[0.8888888888888888,\"#fdca26\"],[1.0,\"#f0f921\"]]}],\"surface\":[{\"type\":\"surface\",\"colorbar\":{\"outlinewidth\":0,\"ticks\":\"\"},\"colorscale\":[[0.0,\"#0d0887\"],[0.1111111111111111,\"#46039f\"],[0.2222222222222222,\"#7201a8\"],[0.3333333333333333,\"#9c179e\"],[0.4444444444444444,\"#bd3786\"],[0.5555555555555556,\"#d8576b\"],[0.6666666666666666,\"#ed7953\"],[0.7777777777777778,\"#fb9f3a\"],[0.8888888888888888,\"#fdca26\"],[1.0,\"#f0f921\"]]}],\"mesh3d\":[{\"type\":\"mesh3d\",\"colorbar\":{\"outlinewidth\":0,\"ticks\":\"\"}}],\"scatter\":[{\"fillpattern\":{\"fillmode\":\"overlay\",\"size\":10,\"solidity\":0.2},\"type\":\"scatter\"}],\"parcoords\":[{\"type\":\"parcoords\",\"line\":{\"colorbar\":{\"outlinewidth\":0,\"ticks\":\"\"}}}],\"scatterpolargl\":[{\"type\":\"scatterpolargl\",\"marker\":{\"colorbar\":{\"outlinewidth\":0,\"ticks\":\"\"}}}],\"bar\":[{\"error_x\":{\"color\":\"#2a3f5f\"},\"error_y\":{\"color\":\"#2a3f5f\"},\"marker\":{\"line\":{\"color\":\"#E5ECF6\",\"width\":0.5},\"pattern\":{\"fillmode\":\"overlay\",\"size\":10,\"solidity\":0.2}},\"type\":\"bar\"}],\"scattergeo\":[{\"type\":\"scattergeo\",\"marker\":{\"colorbar\":{\"outlinewidth\":0,\"ticks\":\"\"}}}],\"scatterpolar\":[{\"type\":\"scatterpolar\",\"marker\":{\"colorbar\":{\"outlinewidth\":0,\"ticks\":\"\"}}}],\"histogram\":[{\"marker\":{\"pattern\":{\"fillmode\":\"overlay\",\"size\":10,\"solidity\":0.2}},\"type\":\"histogram\"}],\"scattergl\":[{\"type\":\"scattergl\",\"marker\":{\"colorbar\":{\"outlinewidth\":0,\"ticks\":\"\"}}}],\"scatter3d\":[{\"type\":\"scatter3d\",\"line\":{\"colorbar\":{\"outlinewidth\":0,\"ticks\":\"\"}},\"marker\":{\"colorbar\":{\"outlinewidth\":0,\"ticks\":\"\"}}}],\"scattermapbox\":[{\"type\":\"scattermapbox\",\"marker\":{\"colorbar\":{\"outlinewidth\":0,\"ticks\":\"\"}}}],\"scatterternary\":[{\"type\":\"scatterternary\",\"marker\":{\"colorbar\":{\"outlinewidth\":0,\"ticks\":\"\"}}}],\"scattercarpet\":[{\"type\":\"scattercarpet\",\"marker\":{\"colorbar\":{\"outlinewidth\":0,\"ticks\":\"\"}}}],\"carpet\":[{\"aaxis\":{\"endlinecolor\":\"#2a3f5f\",\"gridcolor\":\"white\",\"linecolor\":\"white\",\"minorgridcolor\":\"white\",\"startlinecolor\":\"#2a3f5f\"},\"baxis\":{\"endlinecolor\":\"#2a3f5f\",\"gridcolor\":\"white\",\"linecolor\":\"white\",\"minorgridcolor\":\"white\",\"startlinecolor\":\"#2a3f5f\"},\"type\":\"carpet\"}],\"table\":[{\"cells\":{\"fill\":{\"color\":\"#EBF0F8\"},\"line\":{\"color\":\"white\"}},\"header\":{\"fill\":{\"color\":\"#C8D4E3\"},\"line\":{\"color\":\"white\"}},\"type\":\"table\"}],\"barpolar\":[{\"marker\":{\"line\":{\"color\":\"#E5ECF6\",\"width\":0.5},\"pattern\":{\"fillmode\":\"overlay\",\"size\":10,\"solidity\":0.2}},\"type\":\"barpolar\"}],\"pie\":[{\"automargin\":true,\"type\":\"pie\"}]},\"layout\":{\"autotypenumbers\":\"strict\",\"colorway\":[\"#636efa\",\"#EF553B\",\"#00cc96\",\"#ab63fa\",\"#FFA15A\",\"#19d3f3\",\"#FF6692\",\"#B6E880\",\"#FF97FF\",\"#FECB52\"],\"font\":{\"color\":\"#2a3f5f\"},\"hovermode\":\"closest\",\"hoverlabel\":{\"align\":\"left\"},\"paper_bgcolor\":\"white\",\"plot_bgcolor\":\"#E5ECF6\",\"polar\":{\"bgcolor\":\"#E5ECF6\",\"angularaxis\":{\"gridcolor\":\"white\",\"linecolor\":\"white\",\"ticks\":\"\"},\"radialaxis\":{\"gridcolor\":\"white\",\"linecolor\":\"white\",\"ticks\":\"\"}},\"ternary\":{\"bgcolor\":\"#E5ECF6\",\"aaxis\":{\"gridcolor\":\"white\",\"linecolor\":\"white\",\"ticks\":\"\"},\"baxis\":{\"gridcolor\":\"white\",\"linecolor\":\"white\",\"ticks\":\"\"},\"caxis\":{\"gridcolor\":\"white\",\"linecolor\":\"white\",\"ticks\":\"\"}},\"coloraxis\":{\"colorbar\":{\"outlinewidth\":0,\"ticks\":\"\"}},\"colorscale\":{\"sequential\":[[0.0,\"#0d0887\"],[0.1111111111111111,\"#46039f\"],[0.2222222222222222,\"#7201a8\"],[0.3333333333333333,\"#9c179e\"],[0.4444444444444444,\"#bd3786\"],[0.5555555555555556,\"#d8576b\"],[0.6666666666666666,\"#ed7953\"],[0.7777777777777778,\"#fb9f3a\"],[0.8888888888888888,\"#fdca26\"],[1.0,\"#f0f921\"]],\"sequentialminus\":[[0.0,\"#0d0887\"],[0.1111111111111111,\"#46039f\"],[0.2222222222222222,\"#7201a8\"],[0.3333333333333333,\"#9c179e\"],[0.4444444444444444,\"#bd3786\"],[0.5555555555555556,\"#d8576b\"],[0.6666666666666666,\"#ed7953\"],[0.7777777777777778,\"#fb9f3a\"],[0.8888888888888888,\"#fdca26\"],[1.0,\"#f0f921\"]],\"diverging\":[[0,\"#8e0152\"],[0.1,\"#c51b7d\"],[0.2,\"#de77ae\"],[0.3,\"#f1b6da\"],[0.4,\"#fde0ef\"],[0.5,\"#f7f7f7\"],[0.6,\"#e6f5d0\"],[0.7,\"#b8e186\"],[0.8,\"#7fbc41\"],[0.9,\"#4d9221\"],[1,\"#276419\"]]},\"xaxis\":{\"gridcolor\":\"white\",\"linecolor\":\"white\",\"ticks\":\"\",\"title\":{\"standoff\":15},\"zerolinecolor\":\"white\",\"automargin\":true,\"zerolinewidth\":2},\"yaxis\":{\"gridcolor\":\"white\",\"linecolor\":\"white\",\"ticks\":\"\",\"title\":{\"standoff\":15},\"zerolinecolor\":\"white\",\"automargin\":true,\"zerolinewidth\":2},\"scene\":{\"xaxis\":{\"backgroundcolor\":\"#E5ECF6\",\"gridcolor\":\"white\",\"linecolor\":\"white\",\"showbackground\":true,\"ticks\":\"\",\"zerolinecolor\":\"white\",\"gridwidth\":2},\"yaxis\":{\"backgroundcolor\":\"#E5ECF6\",\"gridcolor\":\"white\",\"linecolor\":\"white\",\"showbackground\":true,\"ticks\":\"\",\"zerolinecolor\":\"white\",\"gridwidth\":2},\"zaxis\":{\"backgroundcolor\":\"#E5ECF6\",\"gridcolor\":\"white\",\"linecolor\":\"white\",\"showbackground\":true,\"ticks\":\"\",\"zerolinecolor\":\"white\",\"gridwidth\":2}},\"shapedefaults\":{\"line\":{\"color\":\"#2a3f5f\"}},\"annotationdefaults\":{\"arrowcolor\":\"#2a3f5f\",\"arrowhead\":0,\"arrowwidth\":1},\"geo\":{\"bgcolor\":\"white\",\"landcolor\":\"#E5ECF6\",\"subunitcolor\":\"white\",\"showland\":true,\"showlakes\":true,\"lakecolor\":\"white\"},\"title\":{\"x\":0.05},\"mapbox\":{\"style\":\"light\"}}},\"coloraxis\":{\"colorbar\":{\"title\":{\"text\":\"Count\"}},\"colorscale\":[[0.0,\"rgb(0, 155, 158)\"],[0.16666666666666666,\"rgb(66, 183, 185)\"],[0.3333333333333333,\"rgb(167, 211, 212)\"],[0.5,\"rgb(241, 241, 241)\"],[0.6666666666666666,\"rgb(228, 193, 217)\"],[0.8333333333333334,\"rgb(214, 145, 193)\"],[1.0,\"rgb(199, 93, 171)\"]],\"cmid\":5.093023255813954},\"legend\":{\"tracegroupgap\":0},\"margin\":{\"t\":60},\"height\":1000,\"width\":1000},                        {\"responsive\": true}                    ).then(function(){\n",
       "                            \n",
       "var gd = document.getElementById('512e56f2-b4e4-46f2-a972-e5a9836ab3e4');\n",
       "var x = new MutationObserver(function (mutations, observer) {{\n",
       "        var display = window.getComputedStyle(gd).display;\n",
       "        if (!display || display === 'none') {{\n",
       "            console.log([gd, 'removed!']);\n",
       "            Plotly.purge(gd);\n",
       "            observer.disconnect();\n",
       "        }}\n",
       "}});\n",
       "\n",
       "// Listen for the removal of the full notebook cells\n",
       "var notebookContainer = gd.closest('#notebook-container');\n",
       "if (notebookContainer) {{\n",
       "    x.observe(notebookContainer, {childList: true});\n",
       "}}\n",
       "\n",
       "// Listen for the clearing of the current output cell\n",
       "var outputEl = gd.closest('.output');\n",
       "if (outputEl) {{\n",
       "    x.observe(outputEl, {childList: true});\n",
       "}}\n",
       "\n",
       "                        })                };                });            </script>        </div>"
      ]
     },
     "metadata": {},
     "output_type": "display_data"
    }
   ],
   "source": [
    "df1=df.groupby(\"Position\").filter(lambda x: len(x) > 1)\n",
    "df1['Count'] = df1.groupby('Position')['Position'].transform('size')\n",
    "df1['Count']=df1['Count'].astype(int)\n",
    "px.treemap(df1, path=['Position','Company'],\n",
    "           width=1000,\n",
    "           height=1000,\n",
    "           color='Count',\n",
    "           color_continuous_scale='Tropic',\n",
    "           color_continuous_midpoint=np.average(df1['Count']))"
   ]
  },
  {
   "cell_type": "code",
   "execution_count": null,
   "id": "630886e2",
   "metadata": {},
   "outputs": [],
   "source": []
  }
 ],
 "metadata": {
  "kernelspec": {
   "display_name": "Python 3 (ipykernel)",
   "language": "python",
   "name": "python3"
  },
  "language_info": {
   "codemirror_mode": {
    "name": "ipython",
    "version": 3
   },
   "file_extension": ".py",
   "mimetype": "text/x-python",
   "name": "python",
   "nbconvert_exporter": "python",
   "pygments_lexer": "ipython3",
   "version": "3.9.15"
  }
 },
 "nbformat": 4,
 "nbformat_minor": 5
}
